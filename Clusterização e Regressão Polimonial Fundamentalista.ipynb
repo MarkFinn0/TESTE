{
 "cells": [
  {
   "cell_type": "markdown",
   "id": "1443276f",
   "metadata": {},
   "source": [
    "# 1.Pré tratamento dos dados para análise."
   ]
  },
  {
   "cell_type": "code",
   "execution_count": 1,
   "id": "001adca9",
   "metadata": {},
   "outputs": [],
   "source": [
    "from sklearn.cluster import KMeans\n",
    "from sklearn.preprocessing import StandardScaler, normalize\n",
    "from sklearn.decomposition import PCA\n",
    "import pandas as pd\n",
    "import numpy as np\n",
    "from datetime import date, datetime\n",
    "from dateutil.relativedelta import relativedelta\n",
    "from sklearn.preprocessing import PolynomialFeatures\n",
    "from sklearn.pipeline import make_pipeline\n",
    "from sklearn.linear_model import LinearRegression\n",
    "import warnings\n",
    "warnings.filterwarnings(\"ignore\")"
   ]
  },
  {
   "cell_type": "code",
   "execution_count": 249,
   "id": "c2993c3a",
   "metadata": {},
   "outputs": [],
   "source": [
    "df=pd.read_csv(r\"Cuspidão\\Completao.csv\",delimiter=';',encoding=\"latin-1\",decimal=',')"
   ]
  },
  {
   "cell_type": "markdown",
   "id": "5d6e52f9",
   "metadata": {},
   "source": [
    "# Criar variáveis gerais"
   ]
  },
  {
   "cell_type": "code",
   "execution_count": 250,
   "id": "8db85fdc",
   "metadata": {},
   "outputs": [],
   "source": [
    "#Cria um variável com o nome de todos os setores do dataset e cria uma flag para se tem somente essa empresa no setor\n",
    "ListofCompanies=df.drop_duplicates(subset=['SETOR_ATIV','Nome Empresa'])\n",
    "ListofCompanies=ListofCompanies['SETOR_ATIV'].value_counts()\n",
    "ListofCompanies=pd.DataFrame(ListofCompanies)\n",
    "Listof1Companies=ListofCompanies[ListofCompanies['SETOR_ATIV']<4]\n",
    "ListofCompanies=ListofCompanies[ListofCompanies['SETOR_ATIV']>=4]\n",
    "ListofCompanies['Flag1Company']=0\n",
    "Listof1Companies['Flag1Company']=1\n",
    "ListofCompanies=pd.concat([ListofCompanies,Listof1Companies])\n",
    "ListofCompanies['SETOR_ATIV']=ListofCompanies.index\n",
    "\n",
    "#Cria Variáveis de Cuspir\n",
    "DF_Polyline=pd.DataFrame()\n",
    "DF_Cuspidao=pd.DataFrame()\n",
    "DF_Cuspidao2=pd.DataFrame()\n",
    "DF_Cuspidao_BAU=pd.DataFrame()\n",
    "DF_Cuspidao_RESTO=pd.DataFrame()\n",
    "df_produ_kmeans_REST_ALL=pd.DataFrame()"
   ]
  },
  {
   "cell_type": "markdown",
   "id": "057cfec9",
   "metadata": {},
   "source": [
    "# Pré tratar dados para modelos\n"
   ]
  },
  {
   "cell_type": "code",
   "execution_count": 251,
   "id": "45d57da5",
   "metadata": {},
   "outputs": [],
   "source": [
    "#Criar ano e mes\n",
    "df['Ano']=df['DT_REFER'].apply(str).str[0:4]\n",
    "df['Mes']=df['DT_REFER'].apply(str).str[5:7]\n",
    "#Transformar colunas negativas em positivas\n",
    "df['Passivo Circulante']=df['Passivo Circulante']*-1\n",
    "df['Passivo Total']=df['Passivo Total']*-1\n",
    "#Coloca a Flag de 1 company no dataset central\n",
    "df1 = pd.merge( ListofCompanies,df, left_on='SETOR_ATIV', right_on='SETOR_ATIV')\n"
   ]
  },
  {
   "cell_type": "code",
   "execution_count": 252,
   "id": "4bed0a3e",
   "metadata": {},
   "outputs": [],
   "source": [
    "df_produ=df1"
   ]
  },
  {
   "cell_type": "code",
   "execution_count": 253,
   "id": "69a55555",
   "metadata": {},
   "outputs": [],
   "source": [
    "#Transforma as relações de indicadores para clusterizar em numeros, para o for andar de lado.\n",
    "df_produ[14]=df_produ['Ativo Circulante'].clip(lower=0)\n",
    "df_produ[13]=df_produ['Patrimônio Líquido'].clip(lower=0)\n",
    "df_produ[12]=df_produ['Passivo Circulante'].clip(upper=0)\n",
    "df_produ[11]=df_produ['Patrimônio Líquido'].clip(lower=0)\n",
    "df_produ[10]=df_produ['Passivo Total'].clip(upper=0)\n",
    "df_produ[9]=df_produ['Patrimônio Líquido'].clip(lower=0)\n",
    "df_produ[8]=df_produ['Ativo Total'].clip(lower=0)\n",
    "df_produ[7]=df_produ['Patrimônio Líquido'].clip(lower=0)\n",
    "df_produ[6]=df_produ['Reservas de Lucro'].clip(lower=0)\n",
    "df_produ[5]=df_produ['Receita'].clip(lower=0)\n",
    "df_produ[4]=df_produ['Receita'].clip(lower=0)\n",
    "df_produ[3]=df_produ['Patrimônio Líquido'].clip(lower=0)\n",
    "df_produ[2]=df_produ['Receita'].clip(lower=0)\n",
    "df_produ[1]=df_produ['Lucro/Prejuízo do Período'].clip(lower=0)"
   ]
  },
  {
   "cell_type": "markdown",
   "id": "8a1ddd54",
   "metadata": {},
   "source": [
    "# Clusterizar as empresas com dados realizados"
   ]
  },
  {
   "cell_type": "code",
   "execution_count": 254,
   "id": "8160b4ee",
   "metadata": {},
   "outputs": [],
   "source": [
    "df_provisorio=df_produ\n",
    "df_provisorio=df_provisorio[['Nome Empresa',\n",
    "                             'Ticker',\n",
    "                             'SETOR_ATIV',\n",
    "                             'Flag1Company',\n",
    "                             'DT_REFER',\n",
    "                             'Ano',\n",
    "                             'Mes',\n",
    "                             1,2,3,4,5,6,7,8,9,10,11,12,13,14]]\n",
    "#BAU KMEANS\n",
    "for y in range(1,13):\n",
    "    for x in ListofCompanies.index.values:\n",
    "        if y==1:\n",
    "            y1=1\n",
    "            y2=2\n",
    "        else:\n",
    "            y1=y+1\n",
    "            y2=y+2\n",
    "        #filtra o setor\n",
    "        df_produ_kmeans=df_provisorio[(df_provisorio['SETOR_ATIV']==x)&(df_provisorio['Flag1Company']==0)].reset_index(drop=True)\n",
    "      \n",
    "        Tcks_count=df_produ_kmeans.drop_duplicates(subset=['Ticker','DT_REFER'])\n",
    "        Tcks_count=Tcks_count['DT_REFER'].value_counts()\n",
    "        Tcks_count_mean=Tcks_count.mean()\n",
    "        Tcks_count=pd.DataFrame(Tcks_count)\n",
    "        ListOFTRI=Tcks_count[Tcks_count['DT_REFER']>=Tcks_count_mean]\n",
    "        ListOFTRI['DATE']=ListOFTRI.index\n",
    "        AnoMAX=ListOFTRI['DATE'].apply(str).str[0:4].max()\n",
    "        MesMAX=ListOFTRI['DATE'].apply(str).str[5:7].max()\n",
    "\n",
    "        #Filtrar ano e mês (ultimo tri de cada setor)\n",
    "        df_produ_kmeans=df_produ_kmeans[(df_produ_kmeans[\"Ano\"]==AnoMAX)&(df_produ_kmeans[\"Mes\"]==MesMAX)].reset_index(drop=True)      \n",
    "        #Clusteriza as empresas com valores negativos como 0 (ruim)\n",
    "        df_produ_kmeans_REST_NO=df_produ_kmeans[(df_produ_kmeans[y1]==0)|(df_produ_kmeans[y2]==0)].reset_index(drop=True)\n",
    "        df_produ_kmeans_REST_NO[f\"{y1}{y2} Cluster\"]=0\n",
    "        #Separa as empresas que são elegíveis a escalabilidade e a clusterização\n",
    "        df_produ_kmeans=df_produ_kmeans[(df_produ_kmeans[y1]!=0)&(df_produ_kmeans[y2]!=0)].reset_index(drop=True)\n",
    "        df_produ_kmeans=df_produ_kmeans.sort_values(by=[y1,y2]).reset_index(drop=True)\n",
    "        \n",
    "        #se tiver mais de 1 amostra (empresa)\n",
    "        if len(df_produ_kmeans)>=2:\n",
    "            #FAÇO A ESCALABILIDADE COM STANDARD\n",
    "            scaler = StandardScaler() \n",
    "            pca = PCA(n_components = 2) \n",
    "            features= df_produ_kmeans[[y1,y2]]\n",
    "            scaled_df = scaler.fit_transform(features) \n",
    "            normalized_df = normalize(scaled_df) \n",
    "            normalized_df = pd.DataFrame(normalized_df)\n",
    "            #E DEPOIS REDUZO AS DIMENSÕES E CORRELAÇÕES COM O PCA\n",
    "            X_principal = pca.fit_transform(normalized_df) \n",
    "            features = pd.DataFrame(X_principal) \n",
    "            features.columns = ['P1', 'P2']\n",
    "            c=3\n",
    "            if len(features)<3:\n",
    "                c=len(features)\n",
    "                \n",
    "            #DOU UM FIT NO KMEANS\n",
    "            kmeans = KMeans(n_clusters=c, init='random',\n",
    "                        n_init=10,\n",
    "                        max_iter=300,random_state=0)\n",
    "            kmeans.fit(features)\n",
    "            #DPS EU FAÇO A CLUSTERIZAÇÃO\n",
    "            d = KMeans(n_clusters=c, init='random',\n",
    "                        n_init=10,\n",
    "                        max_iter=300,random_state=0).fit_predict(features)\n",
    "            df_produ_kmeans[f\"{y1}{y2} Cluster\"]=d\n",
    "            DF_Cuspidao2=pd.concat([df_produ_kmeans,df_produ_kmeans_REST_NO]).reset_index(drop=True)\n",
    "            DF_Cuspidao_BAU=pd.concat([DF_Cuspidao2,DF_Cuspidao_BAU]).reset_index(drop=True)\n",
    "        else:\n",
    "            DF_Cuspidao2=pd.concat([df_produ_kmeans,df_produ_kmeans_REST_NO]).reset_index(drop=True)\n",
    "            DF_Cuspidao_BAU=pd.concat([DF_Cuspidao2,DF_Cuspidao_BAU]).reset_index(drop=True)\n",
    "    df_provisorio=DF_Cuspidao_BAU\n",
    "    DF_Cuspidao2=pd.DataFrame()\n",
    "    DF_Cuspidao_BAU=pd.DataFrame()\n",
    "    \n",
    "DF_Cuspidao_BAU=df_provisorio\n",
    "DF_Cuspidao=pd.DataFrame()\n",
    "df_provisorio=df_produ\n",
    "df_provisorio=df_provisorio[['Nome Empresa',\n",
    "                             'Ticker',\n",
    "                             'SETOR_ATIV',\n",
    "                             'Flag1Company',\n",
    "                             'DT_REFER',\n",
    "                             'Ano',\n",
    "                             'Mes',\n",
    "                             1,2,3,4,5,6,7,8,9,10,11,12,13,14]]\n",
    "#REJEITADOS KMEANS\n",
    "for y in range(1,13):\n",
    "    if y==1:\n",
    "        y1=1\n",
    "        y2=2\n",
    "    else:\n",
    "        y1=y+1\n",
    "        y2=y+2\n",
    "    #filtra o setor\n",
    "    df_produ_kmeans=df_provisorio[(df_provisorio['Flag1Company']==1)].reset_index(drop=True)\n",
    "    Tcks_count=df_produ_kmeans.drop_duplicates(subset=['Ticker','DT_REFER'])\n",
    "    Tcks_count=Tcks_count['DT_REFER'].value_counts()\n",
    "    Tcks_count_mean=Tcks_count.mean()\n",
    "    Tcks_count=pd.DataFrame(Tcks_count)\n",
    "    ListOFTRI=Tcks_count[Tcks_count['DT_REFER']>=Tcks_count_mean]\n",
    "    ListOFTRI['DATE']=ListOFTRI.index\n",
    "    AnoMAX=ListOFTRI['DATE'].apply(str).str[0:4].max()\n",
    "    MesMAX=ListOFTRI['DATE'].apply(str).str[5:7].max()\n",
    "    #Filtrar ano e mês (ultimo tri de cada setor)\n",
    "    df_produ_kmeans=df_produ_kmeans[(df_produ_kmeans[\"Ano\"]==AnoMAX)&(df_produ_kmeans[\"Mes\"]==MesMAX)].reset_index(drop=True)\n",
    "    #Clusteriza as empresas com valores negativos como 0 (ruim)\n",
    "    df_produ_kmeans_REST_NO=df_produ_kmeans[(df_produ_kmeans[y1]==0)|(df_produ_kmeans[y2]==0)].reset_index(drop=True)\n",
    "    df_produ_kmeans_REST_NO[f\"{y1}{y2} Cluster\"]=0\n",
    "    #Separa as empresas que são elegíveis a escalabilidade e a clusterização\n",
    "    df_produ_kmeans=df_produ_kmeans[(df_produ_kmeans[y1]!=0)&(df_produ_kmeans[y2]!=0)].reset_index(drop=True)\n",
    "    df_produ_kmeans=df_produ_kmeans.sort_values(by=[y1,y2]).reset_index(drop=True)\n",
    "    #se tiver mais de 1 amostra (empresa)\n",
    "    if len(df_produ_kmeans)>=2:\n",
    "        #FAÇO A ESCALABILIDADE COM STANDARD\n",
    "        scaler = StandardScaler() \n",
    "        pca = PCA(n_components = 2) \n",
    "        features= df_produ_kmeans[[y1,y2]]\n",
    "        scaled_df = scaler.fit_transform(features) \n",
    "        normalized_df = normalize(scaled_df) \n",
    "        normalized_df = pd.DataFrame(normalized_df)\n",
    "        #E DEPOIS REDUZO AS DIMENSÕES E CORRELAÇÕES COM O PCA\n",
    "        X_principal = pca.fit_transform(normalized_df) \n",
    "        features = pd.DataFrame(X_principal) \n",
    "        features.columns = ['P1', 'P2']\n",
    "        c=3\n",
    "        if len(features)<3:\n",
    "            c=len(features)\n",
    "        #DOU UM FIT NO KMEANS\n",
    "        kmeans = KMeans(n_clusters=c, init='random',\n",
    "                    n_init=10,\n",
    "                    max_iter=300,random_state=0)\n",
    "        kmeans.fit(features)\n",
    "        #DPS EU FAÇO A CLUSTERIZAÇÃO\n",
    "        d = KMeans(n_clusters=c, init='random',\n",
    "                    n_init=10,\n",
    "                    max_iter=300,random_state=0).fit_predict(features)\n",
    "        df_produ_kmeans[f\"{y1}{y2} Cluster\"]=d\n",
    "        DF_Cuspidao2=pd.concat([df_produ_kmeans,df_produ_kmeans_REST_NO]).reset_index(drop=True)\n",
    "        DF_Cuspidao_RESTO=pd.concat([DF_Cuspidao2,DF_Cuspidao_RESTO]).reset_index(drop=True)\n",
    "    else:\n",
    "        DF_Cuspidao2=pd.concat([df_produ_kmeans,df_produ_kmeans_REST_NO]).reset_index(drop=True)\n",
    "        DF_Cuspidao_RESTO=pd.concat([DF_Cuspidao2,DF_Cuspidao_RESTO]).reset_index(drop=True)\n",
    "    df_provisorio=DF_Cuspidao_RESTO\n",
    "    DF_Cuspidao2=pd.DataFrame()\n",
    "    DF_Cuspidao_RESTO=pd.DataFrame()\n",
    "DF_kmeans=pd.concat([DF_Cuspidao_BAU,df_provisorio]).reset_index(drop=True)\n",
    "DF_kmeans[\"Dados\"]=\"Realizado\""
   ]
  },
  {
   "cell_type": "code",
   "execution_count": 255,
   "id": "6b3a891c",
   "metadata": {},
   "outputs": [],
   "source": [
    "DF_kmeans=DF_kmeans[['Nome Empresa','Ticker','SETOR_ATIV','DT_REFER',\"Dados\",\n",
    "             1,2,3,4,5,6,7,8,9,10,11,12,13,14,\n",
    "            '12 Cluster',\n",
    "            '34 Cluster',\n",
    "            '56 Cluster',\n",
    "            '78 Cluster',\n",
    "            '910 Cluster',\n",
    "            '1112 Cluster',\n",
    "            '1314 Cluster',\n",
    "             ]]"
   ]
  },
  {
   "cell_type": "markdown",
   "id": "b8b8d4dc",
   "metadata": {},
   "source": [
    "# Prever os próximos 4 tri"
   ]
  },
  {
   "cell_type": "code",
   "execution_count": 256,
   "id": "38755ef8",
   "metadata": {},
   "outputs": [],
   "source": [
    "#Separo os indicadores que eu quero prever\n",
    "df_produ[11]=df_produ['Obrigações Fiscais']\n",
    "df_produ[10]=df_produ['Obrigações Sociais e Trabalhistas']\n",
    "df_produ[9]=df_produ['Contas a Receber']\n",
    "df_produ[8]=df_produ['Ativo Circulante']\n",
    "df_produ[7]=df_produ['Passivo Circulante']\n",
    "df_produ[6]=df_produ['Passivo Total']\n",
    "df_produ[5]=df_produ['Ativo Total']\n",
    "df_produ[4]=df_produ['Reservas de Lucro']\n",
    "df_produ[3]=df_produ['Patrimônio Líquido']\n",
    "df_produ[2]=df_produ['Receita']\n",
    "df_produ[1]=df_produ['Lucro/Prejuízo do Período']"
   ]
  },
  {
   "cell_type": "code",
   "execution_count": 257,
   "id": "94532911",
   "metadata": {},
   "outputs": [],
   "source": [
    "df_provisorio=df_produ\n",
    "df_provisorio=df_provisorio[['Nome Empresa',\n",
    "                             'Ticker',\n",
    "                             'SETOR_ATIV',\n",
    "                             'Flag1Company',\n",
    "                             'DT_REFER',\n",
    "                             'Ano',\n",
    "                             'Mes',\n",
    "                             1,2,3,4,5,6,7,8,9,10,11]]\n",
    "\n",
    "#pego a lista de empresas para analisar\n",
    "LitsofTickers=df_provisorio.drop_duplicates(subset='Ticker')\n",
    "LitsofTickers=LitsofTickers['Ticker'].values\n",
    "for x in LitsofTickers:\n",
    "    DF_Poly=df_provisorio[df_provisorio['Ticker']==x].reset_index(drop=True)\n",
    "    DF_Poly.sort_values(by=['DT_REFER']).reset_index(drop=True)\n",
    "    #transformo os indexes em variáveis e a data em datetime\n",
    "    DF_Poly[\"indexes\"]=DF_Poly.index\n",
    "    DF_Poly['DT_REFER']=pd.to_datetime(DF_Poly['DT_REFER'])\n",
    "    #pego a ultima linha dessa empresa para pegar as informações principais para criar um novo dataset\n",
    "    Lastmonth=DF_Poly.iloc[-1]['DT_REFER']\n",
    "    Lastname=DF_Poly.iloc[-1]['Nome Empresa']\n",
    "    Lastsector=DF_Poly.iloc[-1]['SETOR_ATIV']\n",
    "    Lastnamesub=DF_Poly.iloc[-1]['Ticker']\n",
    "    Lastindex=DF_Poly.iloc[-1]['indexes']\n",
    "    #Crio as datas que eu quero ver la na frente,baseado na data do ultimo balanço\n",
    "    Lastmonth1=Lastmonth+ relativedelta(months=+3)\n",
    "    Lastmonth2=Lastmonth+ relativedelta(months=+6)\n",
    "    Lastmonth3=Lastmonth+ relativedelta(months=+9)\n",
    "    Lastmonth4=Lastmonth+ relativedelta(months=+12)\n",
    "    #Crio um dataframe novo com essas datas\n",
    "    Dateto=pd.DataFrame({'Data_REF': [Lastmonth1,Lastmonth2,Lastmonth3,Lastmonth4]})\n",
    "    X_seq=pd.DataFrame({'x': [Lastindex+1,Lastindex+2,Lastindex+3,Lastindex+4]})\n",
    "    #Configuro o modelo polimonial\n",
    "    polyreg=make_pipeline(PolynomialFeatures(3),LinearRegression())\n",
    "    Pred=Dateto\n",
    "    Pred[\"Nome Empresa\"]=Lastname\n",
    "    Pred['Ticker']=Lastnamesub\n",
    "    Pred['SETOR_ATIV']=Lastsector\n",
    "    #Leio o historico de todos os indicadores e faço a previsão\n",
    "    for y in range(1,12):\n",
    "        yy=DF_Poly[['indexes']]\n",
    "        xx=DF_Poly[[y]]\n",
    "        polyreg.fit(yy,xx)\n",
    "        Pred2=polyreg.predict(X_seq)\n",
    "        Pred2=pd.DataFrame(Pred2,columns=[y])\n",
    "        Pred[y]=Pred2\n",
    "    DF_Polyline=pd.concat([Pred,DF_Polyline]).reset_index(drop=True)\n",
    "\n",
    "    \n",
    "DF_Polyline['Ano']=DF_Polyline['Data_REF'].apply(str).str[0:4]\n",
    "DF_Polyline['Mes']=DF_Polyline['Data_REF'].apply(str).str[5:7]\n",
    "DF_Polyline['Dados']=\"Previsão\""
   ]
  },
  {
   "cell_type": "markdown",
   "id": "9c7b6ef5",
   "metadata": {},
   "source": [
    "# Organizar os dados para cuspir no Front"
   ]
  },
  {
   "cell_type": "code",
   "execution_count": 258,
   "id": "934c0ec4",
   "metadata": {},
   "outputs": [],
   "source": [
    "DF_kmeans=DF_kmeans.fillna(0)\n",
    "#Separo as colunas principais do dataset Kmeans e dou um replace nas clusterizações para criar uma nota\n",
    "DF_kmeans_2=DF_kmeans.loc[:,('Ticker','DT_REFER',\"Dados\",'12 Cluster',\n",
    "            '34 Cluster',\n",
    "            '56 Cluster',\n",
    "            '78 Cluster',\n",
    "            '910 Cluster',\n",
    "            '1112 Cluster',\n",
    "            '1314 Cluster')].replace([0,1,2],[0,10,5])\n",
    "#Crio a nota da empresa baseada nos clusters (0 é ruim, 1 é bom e 2 é mediano)\n",
    "DF_kmeans_2['Nota da Empresa']=DF_kmeans_2['12 Cluster']+DF_kmeans_2['34 Cluster']+DF_kmeans_2['56 Cluster']+DF_kmeans_2['78 Cluster']+DF_kmeans_2['910 Cluster']+DF_kmeans_2['1112 Cluster']+DF_kmeans_2['1314 Cluster']\n",
    "DF_kmeans_2['Nota da Empresa']=DF_kmeans_2['Nota da Empresa']/7\n",
    "DF_kmeans_2['Desempenho do Trimestre']=np.where(DF_kmeans_2['Nota da Empresa']<5,\"Ruim\",\n",
    "                                        (np.where((DF_kmeans_2['Nota da Empresa']>=5) & (DF_kmeans_2['Nota da Empresa']<7) ,\"Médio\",\"Bom\")))\n",
    "#Pego o indicador com a melhor nota de clusterização (indicador denominador)\n",
    "DF_kmeans_2['Melhor Indicador1']=(DF_kmeans_2['12 Cluster']+DF_kmeans_2['34 Cluster']+DF_kmeans_2['56 Cluster'])/3\n",
    "DF_kmeans_2['Melhor Indicador2']=(DF_kmeans_2['34 Cluster']+DF_kmeans_2['78 Cluster']+DF_kmeans_2['910 Cluster']+DF_kmeans_2['1112 Cluster']+DF_kmeans_2['1314 Cluster'])/5\n",
    "DF_kmeans_2['Melhor Indicador']=np.where(DF_kmeans_2['Melhor Indicador1']>DF_kmeans_2['Melhor Indicador2'],\"Receita\",\n",
    "                                        (np.where(DF_kmeans_2['Melhor Indicador1']<DF_kmeans_2['Melhor Indicador2'],\"Patrimônio Líquido\",\"Nenhum\")))\n",
    "df_produ=df1\n",
    "#Pego as colunas antigas sem tratamento de clips\n",
    "DF_kmeans_2 = pd.merge(df_produ,DF_kmeans_2 ,left_on=['Ticker','DT_REFER'], right_on=['Ticker','DT_REFER'])\n",
    "DF_kmeans_2['Analise']=DF_kmeans_2['Flag1Company'].replace([0,1],[\"Analise por Setor\",'Analise com outras empresas'])\n",
    "DF_kmeans_2['Tipo de Analise']='Kmeans'\n",
    "#Deixo tudo limpinho e arrumado no dataset kmeans\n",
    "DF_kmeans_2=DF_kmeans_2[['Nome Empresa','Ticker','SETOR_ATIV','Dados','Analise','Tipo de Analise','Melhor Indicador','Desempenho do Trimestre','DT_REFER','Lucro/Prejuízo do Período','Ativo Total','Ativo Circulante','Contas a Receber','Passivo Total','Passivo Circulante','Obrigações Sociais e Trabalhistas','Obrigações Fiscais','Reservas de Lucro','Patrimônio Líquido','Receita']]\n",
    "#Dou nome aos bois no dataset do polimonial\n",
    "DF_Polyline_2=DF_Polyline.rename({'Data_REF': 'DT_REFER', \n",
    "                                  1: 'Lucro/Prejuízo do Período',\n",
    "                                  2: 'Receita', \n",
    "                                  3: 'Patrimônio Líquido', \n",
    "                                  4: 'Reservas de Lucro', \n",
    "                                  5: 'Ativo Total',\n",
    "                                  6: 'Passivo Total', \n",
    "                                  7: 'Passivo Circulante', \n",
    "                                  8: 'Ativo Circulante',\n",
    "                                  9: 'Contas a Receber',\n",
    "                                  10: 'Obrigações Sociais e Trabalhistas',\n",
    "                                  11: 'Obrigações Fiscais',\n",
    "                                 }, axis=1)\n",
    "#Seto as mesmas colunas do kmeans\n",
    "DF_Polyline_2['Melhor Indicador']='Não Analisado'\n",
    "DF_Polyline_2['Desempenho do Trimestre']='Não Analisado'\n",
    "DF_Polyline_2['Nota da Empresa']='Não Analisado'\n",
    "DF_Polyline_2['Analise']='Analise de Historico Financeiro'\n",
    "DF_Polyline_2['Tipo de Analise']='Regressão Polimonial'\n",
    "#Deixo tudo limpinho e arrumado no dataset polimonial\n",
    "DF_Polyline_2=DF_Polyline_2[['Nome Empresa','Ticker','SETOR_ATIV','Dados','Analise','Tipo de Analise','Melhor Indicador','Desempenho do Trimestre','DT_REFER','Lucro/Prejuízo do Período','Ativo Total','Ativo Circulante','Contas a Receber','Passivo Total','Passivo Circulante','Obrigações Sociais e Trabalhistas','Obrigações Fiscais','Reservas de Lucro','Patrimônio Líquido','Receita']]\n",
    "#Deipois junto tudo e cuspo\n",
    "Base_Unica=pd.concat([DF_Polyline_2,DF_kmeans_2]).reset_index(drop=True)\n",
    "Base_Unica.to_csv(rf\"Cuspidão\\Base_Unica.csv\",decimal=',',sep=';', encoding='latin-1',index=False)"
   ]
  },
  {
   "cell_type": "code",
   "execution_count": 259,
   "id": "7eab1dda",
   "metadata": {},
   "outputs": [
    {
     "ename": "SyntaxError",
     "evalue": "unexpected character after line continuation character (4231324964.py, line 1)",
     "output_type": "error",
     "traceback": [
      "\u001b[1;36m  File \u001b[1;32m\"C:\\Users\\marqu\\AppData\\Local\\Temp\\ipykernel_12956\\4231324964.py\"\u001b[1;36m, line \u001b[1;32m1\u001b[0m\n\u001b[1;33m    C:\\Users\\marqu\\Desktop\\Marcus\\PROJETO\\theras_app\\asset\\Empresas_data\u001b[0m\n\u001b[1;37m       ^\u001b[0m\n\u001b[1;31mSyntaxError\u001b[0m\u001b[1;31m:\u001b[0m unexpected character after line continuation character\n"
     ]
    }
   ],
   "source": [
    "C:\\Users\\marqu\\Desktop\\Marcus\\PROJETO\\theras_app\\asset\\Empresas_data"
   ]
  },
  {
   "cell_type": "markdown",
   "id": "ebccd095",
   "metadata": {},
   "source": [
    "# Código do vitor"
   ]
  },
  {
   "cell_type": "code",
   "execution_count": null,
   "id": "15ec7d33",
   "metadata": {},
   "outputs": [],
   "source": []
  },
  {
   "cell_type": "markdown",
   "id": "6876e325",
   "metadata": {},
   "source": [
    "# Cruzar bases e ter uma base unica"
   ]
  },
  {
   "cell_type": "code",
   "execution_count": null,
   "id": "ca1d6692",
   "metadata": {},
   "outputs": [],
   "source": []
  },
  {
   "cell_type": "markdown",
   "id": "e8244e1f",
   "metadata": {},
   "source": [
    "# PIPELINE CUSPIDOR"
   ]
  },
  {
   "cell_type": "markdown",
   "id": "66cbc7fd",
   "metadata": {},
   "source": [
    "# Ajustando setor"
   ]
  },
  {
   "cell_type": "code",
   "execution_count": 288,
   "id": "cd261fc2",
   "metadata": {},
   "outputs": [],
   "source": [
    "import re"
   ]
  },
  {
   "cell_type": "code",
   "execution_count": 289,
   "id": "ef68bcae",
   "metadata": {},
   "outputs": [],
   "source": [
    "setor_agrup=pd.read_csv(fr\"Depara\\setor_ajust.csv\",delimiter=';',encoding=\"utf-8\",decimal='.')\n"
   ]
  },
  {
   "cell_type": "code",
   "execution_count": 290,
   "id": "0cdb1035",
   "metadata": {},
   "outputs": [],
   "source": [
    "#Precisa multiplicar os valores da empresa\n",
    "#Base_Unica['Patrimônio Líquido']=Base_Unica['Patrimônio Líquido']*1000"
   ]
  },
  {
   "cell_type": "code",
   "execution_count": 291,
   "id": "49a0e7f4",
   "metadata": {},
   "outputs": [],
   "source": [
    "Base_Unica_json = pd.merge( Base_Unica, setor_agrup, left_on='SETOR_ATIV', right_on='SETOR_ASIS')\n",
    "Base_Unica_json = Base_Unica_json.drop(columns=['SETOR_ATIV','SETOR_ASIS'])"
   ]
  },
  {
   "cell_type": "markdown",
   "id": "681a93aa",
   "metadata": {},
   "source": [
    "# criar arquivo unico de leitura dos cards"
   ]
  },
  {
   "cell_type": "code",
   "execution_count": null,
   "id": "8a8d5cac",
   "metadata": {},
   "outputs": [],
   "source": []
  },
  {
   "cell_type": "code",
   "execution_count": 292,
   "id": "640940e0",
   "metadata": {},
   "outputs": [],
   "source": [
    "Base_Unica_CARDS_JSON=Base_Unica_json[Base_Unica_json['Dados']=='Realizado'].reset_index(drop=True)\n",
    "Base_Unica_CARDS_JSON = Base_Unica_CARDS_JSON.groupby(['Ticker','Nome Empresa','Patrimônio Líquido','SETOR_AJUST','Desempenho do Trimestre'])['DT_REFER'].max().reset_index()"
   ]
  },
  {
   "cell_type": "code",
   "execution_count": 293,
   "id": "34b458c6",
   "metadata": {},
   "outputs": [],
   "source": [
    "#Cria a coluna PL do card\n",
    "def formatar_valor(valor):\n",
    "    if valor >= 1000000000:  # Valor em bilhões\n",
    "        valor_dividido = valor / 1000000000\n",
    "        return f'{valor_dividido:.2f} BI'\n",
    "    \n",
    "    elif valor >= 1000000:  # Valor em milhões\n",
    "        valor_dividido = valor / 1000000\n",
    "        return f'{valor_dividido:.2f} MM'\n",
    "    \n",
    "    elif valor >= 1000: # Valor menor que 1 milhão\n",
    "        valor_dividido = valor / 1000\n",
    "        return f'{valor_dividido:.2f} Mil'\n",
    "    \n",
    "    elif valor < 1000 and valor > -1000000: # Valor menor que 1 milhão\n",
    "        valor_dividido = valor / 1000 \n",
    "        return f'{valor_dividido:.2f} Mil'\n",
    "    \n",
    "    if valor <= -1000000000:  # Valor em bilhões\n",
    "        valor_dividido = valor / 1000000000\n",
    "        return f'{valor_dividido:.2f} BI'\n",
    "    \n",
    "    elif valor <= -1000000:  # Valor em milhões\n",
    "        valor_dividido = valor / 1000000\n",
    "        return f'{valor_dividido:.2f} MM'\n",
    "\n",
    "    \n",
    "Base_Unica_CARDS_JSON['PL'] = Base_Unica_CARDS_JSON ['Patrimônio Líquido'].apply(formatar_valor)"
   ]
  },
  {
   "cell_type": "code",
   "execution_count": 294,
   "id": "72371201",
   "metadata": {},
   "outputs": [],
   "source": [
    "#cria a coluna symbol, PM, gain e CMP\n",
    "#coluna PM depende do Preço médio\n",
    "#coluna symbol:down,side e up\n",
    "#coluna CMP: YoY e MoM\n",
    "\n",
    "Base_Unica_CARDS_JSON['symbol'] = \"side\"\n",
    "Base_Unica_CARDS_JSON['PM'] = \"0.0\"\n",
    "Base_Unica_CARDS_JSON['gain'] = \"0%\"\n",
    "Base_Unica_CARDS_JSON['CMP'] = \"YoY\"\n"
   ]
  },
  {
   "cell_type": "code",
   "execution_count": 295,
   "id": "0b06e8f0",
   "metadata": {},
   "outputs": [],
   "source": [
    "#cria a coluna color\n",
    "\n",
    "def map_desempenho(valor):\n",
    "    if valor == 'Bom':\n",
    "        return 'green'\n",
    "    elif valor == 'Médio':\n",
    "        return 'orange'\n",
    "    elif valor == 'Ruim':\n",
    "        return 'red'\n",
    "    else:\n",
    "        return valor\n",
    "\n",
    "Base_Unica_CARDS_JSON['Desempenho do Trimestre'] = Base_Unica_CARDS_JSON['Desempenho do Trimestre'].apply(map_desempenho)"
   ]
  },
  {
   "cell_type": "code",
   "execution_count": 296,
   "id": "d31be6b4",
   "metadata": {},
   "outputs": [],
   "source": [
    "#faz os ajustes finais\n",
    "Base_Unica_CARDS_JSON = Base_Unica_CARDS_JSON.rename(columns={'Ticker':'tick',\n",
    "                                                              'Nome Empresa':'nome',\n",
    "                                                             'SETOR_AJUST':'sector',\n",
    "                                                             'Desempenho do Trimestre':'color'\n",
    "                                                             })\n",
    "Base_Unica_CARDS_JSON=Base_Unica_CARDS_JSON.drop(columns=['Patrimônio Líquido','DT_REFER'])\n"
   ]
  },
  {
   "cell_type": "code",
   "execution_count": null,
   "id": "1b5aa437",
   "metadata": {},
   "outputs": [],
   "source": []
  },
  {
   "cell_type": "code",
   "execution_count": 299,
   "id": "e1dacc53",
   "metadata": {},
   "outputs": [],
   "source": [
    "\n",
    "\n",
    "# Extrai a parte específica da string usando uma expressão regular\n",
    "Base_Unica_CARDS_JSON['nome'] = Base_Unica_CARDS_JSON['nome'].str.replace(' - EM RECUPERAÇÃO JUDICIAL', '')\n",
    "Base_Unica_CARDS_JSON['nome'] = Base_Unica_CARDS_JSON['nome'].str.replace('S.A.', '')\n",
    "Base_Unica_CARDS_JSON['nome'] = Base_Unica_CARDS_JSON['nome'].str.replace('SA.', '')\n",
    "Base_Unica_CARDS_JSON['nome'] = Base_Unica_CARDS_JSON['nome'].str.replace('S/A.', '')\n",
    "Base_Unica_CARDS_JSON['nome'] = Base_Unica_CARDS_JSON['nome'].str.title()"
   ]
  },
  {
   "cell_type": "markdown",
   "id": "cf7b16a9",
   "metadata": {},
   "source": [
    "# Salva os Jsons\n"
   ]
  },
  {
   "cell_type": "code",
   "execution_count": 300,
   "id": "b786b98b",
   "metadata": {},
   "outputs": [],
   "source": [
    "\n",
    "# Converta o DataFrame selecionado em uma lista de dicionários\n",
    "dados = Base_Unica_CARDS_JSON.to_dict('records')\n",
    "\n",
    "# Salve os dados como um arquivo JSON\n",
    "import json\n",
    "with open('pipeline/cards_main.json', 'w', encoding='utf-8') as arquivo:\n",
    "    json.dump(dados, arquivo, ensure_ascii=False)"
   ]
  },
  {
   "cell_type": "code",
   "execution_count": null,
   "id": "c196a085",
   "metadata": {},
   "outputs": [],
   "source": []
  },
  {
   "cell_type": "code",
   "execution_count": 287,
   "id": "6c3a0971",
   "metadata": {},
   "outputs": [
    {
     "name": "stdout",
     "output_type": "stream",
     "text": [
      "[{'tick': 'AALR', 'nome': 'Centro De Imagem Diagnosticos ', 'sector': 'Serviços Médicos', 'color': 'orange', 'PL': '1.07 MM', 'symbol': 'side', 'PM': '0.0', 'gain': '0%', 'CMP': 'YoY'}, {'tick': 'ABCB', 'nome': 'Bco Abc Brasil ', 'sector': 'Bancos', 'color': 'red', 'PL': '5.07 MM', 'symbol': 'side', 'PM': '0.0', 'gain': '0%', 'CMP': 'YoY'}, {'tick': 'ABEV', 'nome': 'Ambev ', 'sector': 'Bebidas e Fumo', 'color': 'green', 'PL': '90.18 MM', 'symbol': 'side', 'PM': '0.0', 'gain': '0%', 'CMP': 'YoY'}, {'tick': 'AERI', 'nome': 'Aeris Ind. E Com. De Equip. Para Ger. De Eng. ', 'sector': 'Industria', 'color': 'orange', 'PL': '942.09 Mil', 'symbol': 'side', 'PM': '0.0', 'gain': '0%', 'CMP': 'YoY'}, {'tick': 'AFLT', 'nome': 'Afluente Transmissão De Energia Elétrica S/A', 'sector': 'Energia Elétrica', 'color': 'green', 'PL': '271.49 Mil', 'symbol': 'side', 'PM': '0.0', 'gain': '0%', 'CMP': 'YoY'}, {'tick': 'AGRO', 'nome': 'Brasilagro - Cia Bras De Prop Agricolas', 'sector': 'Agro', 'color': 'green', 'PL': '2.27 MM', 'symbol': 'side', 'PM': '0.0', 'gain': '0%', 'CMP': 'YoY'}, {'tick': 'AHEB', 'nome': ' Paulo Turismo ', 'sector': 'Hospedagem e Turismo', 'color': 'red', 'PL': None, 'symbol': 'side', 'PM': '0.0', 'gain': '0%', 'CMP': 'YoY'}, {'tick': 'ALPA', 'nome': 'Alpargatas ', 'sector': 'Têxtil e Vestuário', 'color': 'red', 'PL': '5.86 MM', 'symbol': 'side', 'PM': '0.0', 'gain': '0%', 'CMP': 'YoY'}, {'tick': 'ALPK', 'nome': 'Allpark Empreendimentos, Participações E Serviços ', 'sector': 'Logistica', 'color': 'orange', 'PL': '459.50 Mil', 'symbol': 'side', 'PM': '0.0', 'gain': '0%', 'CMP': 'YoY'}, {'tick': 'ALSO', 'nome': 'Aliansce Sonae Shopping Centers ', 'sector': 'Comércio', 'color': 'red', 'PL': '6.92 MM', 'symbol': 'side', 'PM': '0.0', 'gain': '0%', 'CMP': 'YoY'}, {'tick': 'ALUP', 'nome': 'Alupar Investimento S/A', 'sector': 'Energia Elétrica', 'color': 'orange', 'PL': '7.19 MM', 'symbol': 'side', 'PM': '0.0', 'gain': '0%', 'CMP': 'YoY'}, {'tick': 'AMAR', 'nome': 'Marilojas ', 'sector': 'Comércio', 'color': 'orange', 'PL': '973.98 Mil', 'symbol': 'side', 'PM': '0.0', 'gain': '0%', 'CMP': 'YoY'}, {'tick': 'AMBP', 'nome': 'Ambipar Participações E Empreendimentos ', 'sector': 'Saneamento Básico', 'color': 'red', 'PL': '1.03 MM', 'symbol': 'side', 'PM': '0.0', 'gain': '0%', 'CMP': 'YoY'}, {'tick': 'AMER', 'nome': 'Americanas ', 'sector': 'Comércio', 'color': 'orange', 'PL': '14.71 MM', 'symbol': 'side', 'PM': '0.0', 'gain': '0%', 'CMP': 'YoY'}, {'tick': 'ANIM', 'nome': 'Anima Holding ', 'sector': 'Educação', 'color': 'orange', 'PL': '2.64 MM', 'symbol': 'side', 'PM': '0.0', 'gain': '0%', 'CMP': 'YoY'}, {'tick': 'APER', 'nome': 'Alper Consultoria E Corretora De Seguros ', 'sector': 'Seguradoras e Corretoras', 'color': 'orange', 'PL': '468.02 Mil', 'symbol': 'side', 'PM': '0.0', 'gain': '0%', 'CMP': 'YoY'}, {'tick': 'APTI', 'nome': 'Siderurgica J. L. Aliperti ', 'sector': 'Metalurgia e Siderurgia', 'color': 'red', 'PL': '243.43 Mil', 'symbol': 'side', 'PM': '0.0', 'gain': '0%', 'CMP': 'YoY'}, {'tick': 'ARZZ', 'nome': 'Arezzo Indústria E Comércio ', 'sector': 'Têxtil e Vestuário', 'color': 'orange', 'PL': '2.61 MM', 'symbol': 'side', 'PM': '0.0', 'gain': '0%', 'CMP': 'YoY'}, {'tick': 'ASAI', 'nome': 'Sendas Distribuidora ', 'sector': 'Comércio', 'color': 'red', 'PL': '3.60 MM', 'symbol': 'side', 'PM': '0.0', 'gain': '0%', 'CMP': 'YoY'}, {'tick': 'ATMP', 'nome': 'Atma Participações ', 'sector': 'Telecomunicação', 'color': 'red', 'PL': None, 'symbol': 'side', 'PM': '0.0', 'gain': '0%', 'CMP': 'YoY'}, {'tick': 'ATOM', 'nome': 'Atom Empreendimentos E Participações ', 'sector': 'Serviços em Geral', 'color': 'orange', 'PL': '26.78 Mil', 'symbol': 'side', 'PM': '0.0', 'gain': '0%', 'CMP': 'YoY'}, {'tick': 'AZEV', 'nome': 'Azevedo E Travassos ', 'sector': 'Construção Civil', 'color': 'red', 'PL': '124.65 Mil', 'symbol': 'side', 'PM': '0.0', 'gain': '0%', 'CMP': 'YoY'}, {'tick': 'AZUL', 'nome': 'Azul ', 'sector': 'Logistica', 'color': 'red', 'PL': '-20.13 MM', 'symbol': 'side', 'PM': '0.0', 'gain': '0%', 'CMP': 'YoY'}, {'tick': 'B3SA', 'nome': 'B3  - Brasil, Bol Balcão', 'sector': 'Bolsa de Valores', 'color': 'orange', 'PL': '20.42 MM', 'symbol': 'side', 'PM': '0.0', 'gain': '0%', 'CMP': 'YoY'}, {'tick': 'BAHI', 'nome': 'Bahema Educação ', 'sector': 'Educação', 'color': 'red', 'PL': '106.10 Mil', 'symbol': 'side', 'PM': '0.0', 'gain': '0%', 'CMP': 'YoY'}, {'tick': 'BALM', 'nome': 'Baumer ', 'sector': 'Metalurgia e Siderurgia', 'color': 'red', 'PL': '135.06 Mil', 'symbol': 'side', 'PM': '0.0', 'gain': '0%', 'CMP': 'YoY'}, {'tick': 'BAUH', 'nome': 'Excelsior Alimentos ', 'sector': 'Alimentos', 'color': 'red', 'PL': '98.56 Mil', 'symbol': 'side', 'PM': '0.0', 'gain': '0%', 'CMP': 'YoY'}, {'tick': 'BAZA', 'nome': 'Bco Amazonia ', 'sector': 'Bancos', 'color': 'red', 'PL': '4.88 MM', 'symbol': 'side', 'PM': '0.0', 'gain': '0%', 'CMP': 'YoY'}, {'tick': 'BBAS', 'nome': 'Bco Brasil ', 'sector': 'Bancos', 'color': 'red', 'PL': '147.13 MM', 'symbol': 'side', 'PM': '0.0', 'gain': '0%', 'CMP': 'YoY'}, {'tick': 'BBDC', 'nome': 'Bco Bradesco ', 'sector': 'Bancos', 'color': 'red', 'PL': '156.88 MM', 'symbol': 'side', 'PM': '0.0', 'gain': '0%', 'CMP': 'YoY'}, {'tick': 'BBML', 'nome': 'Bbm Logística ', 'sector': 'Logistica', 'color': 'green', 'PL': '90.23 Mil', 'symbol': 'side', 'PM': '0.0', 'gain': '0%', 'CMP': 'YoY'}, {'tick': 'BBRK', 'nome': 'Nexpe Participações S.A', 'sector': 'Construção Civil', 'color': 'red', 'PL': '20.28 Mil', 'symbol': 'side', 'PM': '0.0', 'gain': '0%', 'CMP': 'YoY'}, {'tick': 'BBSE', 'nome': 'Bb Seguridade Participações ', 'sector': 'Seguradoras e Corretoras', 'color': 'red', 'PL': '9.46 MM', 'symbol': 'side', 'PM': '0.0', 'gain': '0%', 'CMP': 'YoY'}, {'tick': 'BDLL', 'nome': 'Bardella  Industrias Mecanicas Em Recuperação Judicial', 'sector': 'Industria', 'color': 'red', 'PL': None, 'symbol': 'side', 'PM': '0.0', 'gain': '0%', 'CMP': 'YoY'}, {'tick': 'BEEF', 'nome': 'Minerva ', 'sector': 'Alimentos', 'color': 'orange', 'PL': '483.05 Mil', 'symbol': 'side', 'PM': '0.0', 'gain': '0%', 'CMP': 'YoY'}, {'tick': 'BEES', 'nome': 'Banestes  - Bco Est Espirito To', 'sector': 'Bancos', 'color': 'red', 'PL': '2.01 MM', 'symbol': 'side', 'PM': '0.0', 'gain': '0%', 'CMP': 'YoY'}, {'tick': 'BGIP', 'nome': 'Bco Eo De Sergipe  - Banese', 'sector': 'Bancos', 'color': 'red', 'PL': '582.34 Mil', 'symbol': 'side', 'PM': '0.0', 'gain': '0%', 'CMP': 'YoY'}, {'tick': 'BIOM', 'nome': 'Biomm ', 'sector': 'Farmacêutico e Higiene', 'color': 'red', 'PL': '121.36 Mil', 'symbol': 'side', 'PM': '0.0', 'gain': '0%', 'CMP': 'YoY'}, {'tick': 'BKBR', 'nome': 'Zamp Sa', 'sector': 'Alimentos', 'color': 'red', 'PL': '1.55 MM', 'symbol': 'side', 'PM': '0.0', 'gain': '0%', 'CMP': 'YoY'}, {'tick': 'BLUT', 'nome': 'Blue Tech Solutions Eqi ', 'sector': 'Alimentos', 'color': 'red', 'PL': '57.20 Mil', 'symbol': 'side', 'PM': '0.0', 'gain': '0%', 'CMP': 'YoY'}, {'tick': 'BMEB', 'nome': 'Bco Mercantil Do Brasil ', 'sector': 'Bancos', 'color': 'red', 'PL': '1.23 MM', 'symbol': 'side', 'PM': '0.0', 'gain': '0%', 'CMP': 'YoY'}, {'tick': 'BMGB', 'nome': 'Banco Bmg S/A', 'sector': 'Bancos', 'color': 'red', 'PL': '3.84 MM', 'symbol': 'side', 'PM': '0.0', 'gain': '0%', 'CMP': 'YoY'}, {'tick': 'BMIN', 'nome': 'Bco Mercantil De Investimentos ', 'sector': 'Bancos', 'color': 'red', 'PL': '134.10 Mil', 'symbol': 'side', 'PM': '0.0', 'gain': '0%', 'CMP': 'YoY'}, {'tick': 'BMKS', 'nome': 'Bicicletas Monark ', 'sector': 'Brinquedos e Lazer', 'color': 'green', 'PL': '206.10 Mil', 'symbol': 'side', 'PM': '0.0', 'gain': '0%', 'CMP': 'YoY'}, {'tick': 'BMOB', 'nome': 'Bemobi Mobile Tech ', 'sector': 'Telecomunicação', 'color': 'green', 'PL': '1.06 MM', 'symbol': 'side', 'PM': '0.0', 'gain': '0%', 'CMP': 'YoY'}, {'tick': 'BNBR', 'nome': 'Bco Nordeste Do Brasil ', 'sector': 'Bancos', 'color': 'red', 'PL': '8.59 MM', 'symbol': 'side', 'PM': '0.0', 'gain': '0%', 'CMP': 'YoY'}, {'tick': 'BOBR', 'nome': 'Bombril ', 'sector': 'Farmacêutico e Higiene', 'color': 'red', 'PL': None, 'symbol': 'side', 'PM': '0.0', 'gain': '0%', 'CMP': 'YoY'}, {'tick': 'BPAC', 'nome': 'Bco Btg Pactual ', 'sector': 'Bancos', 'color': 'green', 'PL': '42.26 MM', 'symbol': 'side', 'PM': '0.0', 'gain': '0%', 'CMP': 'YoY'}, {'tick': 'BPAN', 'nome': 'Bco Pan ', 'sector': 'Bancos', 'color': 'red', 'PL': '7.79 MM', 'symbol': 'side', 'PM': '0.0', 'gain': '0%', 'CMP': 'YoY'}, {'tick': 'BPAR', 'nome': 'Bco Eo Do Para ', 'sector': 'Bancos', 'color': 'red', 'PL': '1.70 MM', 'symbol': 'side', 'PM': '0.0', 'gain': '0%', 'CMP': 'YoY'}, {'tick': 'BRAP', 'nome': 'Brade ', 'sector': 'Extração Mineral', 'color': 'orange', 'PL': '7.83 MM', 'symbol': 'side', 'PM': '0.0', 'gain': '0%', 'CMP': 'YoY'}, {'tick': 'BRFS', 'nome': 'Brf ', 'sector': 'Alimentos', 'color': 'red', 'PL': '12.00 MM', 'symbol': 'side', 'PM': '0.0', 'gain': '0%', 'CMP': 'YoY'}, {'tick': 'BRGE', 'nome': 'Consorcio Alfa De Administracao ', 'sector': 'Intermediação Financeira', 'color': 'orange', 'PL': '1.29 MM', 'symbol': 'side', 'PM': '0.0', 'gain': '0%', 'CMP': 'YoY'}, {'tick': 'BRIV', 'nome': 'Bco Alfa De Investimento ', 'sector': 'Bancos', 'color': 'red', 'PL': '1.68 MM', 'symbol': 'side', 'PM': '0.0', 'gain': '0%', 'CMP': 'YoY'}, {'tick': 'BRKM', 'nome': 'Braskem ', 'sector': 'Petroquímicos e Borracha', 'color': 'green', 'PL': '8.69 MM', 'symbol': 'side', 'PM': '0.0', 'gain': '0%', 'CMP': 'YoY'}, {'tick': 'BRML', 'nome': 'Br Malls Participacoes ', 'sector': 'Comércio', 'color': 'red', 'PL': '11.07 MM', 'symbol': 'side', 'PM': '0.0', 'gain': '0%', 'CMP': 'YoY'}, {'tick': 'BRPR', 'nome': 'Br Properties ', 'sector': 'Serviços em Geral', 'color': 'red', 'PL': '4.49 MM', 'symbol': 'side', 'PM': '0.0', 'gain': '0%', 'CMP': 'YoY'}, {'tick': 'BRQB', 'nome': 'Brq Solucoes Em Informatica ', 'sector': 'Telecomunicação', 'color': 'green', 'PL': '172.41 Mil', 'symbol': 'side', 'PM': '0.0', 'gain': '0%', 'CMP': 'YoY'}, {'tick': 'BRSR', 'nome': 'Bco Eo Do Rio Grande Do Sul ', 'sector': 'Bancos', 'color': 'red', 'PL': '9.00 MM', 'symbol': 'side', 'PM': '0.0', 'gain': '0%', 'CMP': 'YoY'}, {'tick': 'BSLI', 'nome': 'Brb Bco De Brasilia ', 'sector': 'Bancos', 'color': 'red', 'PL': '2.13 MM', 'symbol': 'side', 'PM': '0.0', 'gain': '0%', 'CMP': 'YoY'}, {'tick': 'CALI', 'nome': 'Construtora Adolpho Lindenberg ', 'sector': 'Construção Civil', 'color': 'red', 'PL': '19.71 Mil', 'symbol': 'side', 'PM': '0.0', 'gain': '0%', 'CMP': 'YoY'}, {'tick': 'CAMB', 'nome': 'Cambuci ', 'sector': 'Têxtil e Vestuário', 'color': 'orange', 'PL': '158.79 Mil', 'symbol': 'side', 'PM': '0.0', 'gain': '0%', 'CMP': 'YoY'}, {'tick': 'CARD', 'nome': 'Csu Digital ', 'sector': 'Serviços em Geral', 'color': 'red', 'PL': '362.82 Mil', 'symbol': 'side', 'PM': '0.0', 'gain': '0%', 'CMP': 'YoY'}, {'tick': 'CASH', 'nome': 'Méliuz ', 'sector': 'Telecomunicação', 'color': 'green', 'PL': '776.49 Mil', 'symbol': 'side', 'PM': '0.0', 'gain': '0%', 'CMP': 'YoY'}, {'tick': 'CASN', 'nome': 'Cia Catarinense De Aguas E Eam.-Ca', 'sector': 'Saneamento Básico', 'color': 'red', 'PL': '1.85 MM', 'symbol': 'side', 'PM': '0.0', 'gain': '0%', 'CMP': 'YoY'}, {'tick': 'CBEE', 'nome': 'Ampla Energia E Servicos ', 'sector': 'Energia Elétrica', 'color': 'red', 'PL': '4.75 MM', 'symbol': 'side', 'PM': '0.0', 'gain': '0%', 'CMP': 'YoY'}, {'tick': 'CCRO', 'nome': 'Ccr ', 'sector': 'Logistica', 'color': 'red', 'PL': '12.33 MM', 'symbol': 'side', 'PM': '0.0', 'gain': '0%', 'CMP': 'YoY'}, {'tick': 'CEBR', 'nome': 'Companhia Energética De Brasília - Ceb', 'sector': 'Energia Elétrica', 'color': 'green', 'PL': '962.56 Mil', 'symbol': 'side', 'PM': '0.0', 'gain': '0%', 'CMP': 'YoY'}, {'tick': 'CEDO', 'nome': 'Cia Fiacao Tecidos Cedro Cachoeira', 'sector': 'Têxtil e Vestuário', 'color': 'red', 'PL': '117.76 Mil', 'symbol': 'side', 'PM': '0.0', 'gain': '0%', 'CMP': 'YoY'}, {'tick': 'CEEB', 'nome': 'Cia Eletricidade Est. Da Bahia - Coelba', 'sector': 'Energia Elétrica', 'color': 'red', 'PL': '5.60 MM', 'symbol': 'side', 'PM': '0.0', 'gain': '0%', 'CMP': 'YoY'}, {'tick': 'CEED', 'nome': 'Cia Eual De Distrib Ener Elet-Ceee-D', 'sector': 'Energia Elétrica', 'color': 'red', 'PL': '-2.77 MM', 'symbol': 'side', 'PM': '0.0', 'gain': '0%', 'CMP': 'YoY'}, {'tick': 'CEGR', 'nome': 'Cia Distrib De Gas Do Rio De Janeiro-Ceg', 'sector': 'Saneamento Básico', 'color': 'orange', 'PL': '1.32 MM', 'symbol': 'side', 'PM': '0.0', 'gain': '0%', 'CMP': 'YoY'}, {'tick': 'CEPE', 'nome': 'Cia Energetica De Pernambuco - Celpe', 'sector': 'Energia Elétrica', 'color': 'red', 'PL': '1.42 MM', 'symbol': 'side', 'PM': '0.0', 'gain': '0%', 'CMP': 'YoY'}, {'tick': 'CESP', 'nome': 'Cesp - Cia Energetica De  Paulo', 'sector': 'Energia Elétrica', 'color': 'green', 'PL': '7.63 MM', 'symbol': 'side', 'PM': '0.0', 'gain': '0%', 'CMP': 'YoY'}, {'tick': 'CGAS', 'nome': 'Cia Gas De  Paulo - Comgas', 'sector': 'Saneamento Básico', 'color': 'red', 'PL': '1.66 MM', 'symbol': 'side', 'PM': '0.0', 'gain': '0%', 'CMP': 'YoY'}, {'tick': 'CGRA', 'nome': 'Grazziotin ', 'sector': 'Comércio', 'color': 'green', 'PL': '809.43 Mil', 'symbol': 'side', 'PM': '0.0', 'gain': '0%', 'CMP': 'YoY'}, {'tick': 'CIEL', 'nome': 'Cielo  -  Instituição De Pagamento', 'sector': 'Intermediação Financeira', 'color': 'red', 'PL': '10.83 MM', 'symbol': 'side', 'PM': '0.0', 'gain': '0%', 'CMP': 'YoY'}, {'tick': 'CLSC', 'nome': 'Centrais Elet De Ta Catarina ', 'sector': 'Energia Elétrica', 'color': 'green', 'PL': '2.93 MM', 'symbol': 'side', 'PM': '0.0', 'gain': '0%', 'CMP': 'YoY'}, {'tick': 'CMIG', 'nome': 'Cia Energetica De Minas Gerais - Cemig', 'sector': 'Energia Elétrica', 'color': 'red', 'PL': '21.07 MM', 'symbol': 'side', 'PM': '0.0', 'gain': '0%', 'CMP': 'YoY'}, {'tick': 'CMSA', 'nome': 'Cims ', 'sector': 'Energia Elétrica', 'color': 'red', 'PL': '33.82 Mil', 'symbol': 'side', 'PM': '0.0', 'gain': '0%', 'CMP': 'YoY'}, {'tick': 'COCE', 'nome': 'Cia Energetica Do Ceara - Coelce', 'sector': 'Energia Elétrica', 'color': 'red', 'PL': '3.71 MM', 'symbol': 'side', 'PM': '0.0', 'gain': '0%', 'CMP': 'YoY'}, {'tick': 'COGN', 'nome': 'Cogna Educação ', 'sector': 'Educação', 'color': 'red', 'PL': '12.39 MM', 'symbol': 'side', 'PM': '0.0', 'gain': '0%', 'CMP': 'YoY'}, {'tick': 'CORR', 'nome': 'Correa Ribeiro  Comercio E Industria', 'sector': 'Construção Civil', 'color': 'red', 'PL': '-0.74 Mil', 'symbol': 'side', 'PM': '0.0', 'gain': '0%', 'CMP': 'YoY'}, {'tick': 'CPFE', 'nome': 'Cpfl Energia ', 'sector': 'Energia Elétrica', 'color': 'red', 'PL': '15.42 MM', 'symbol': 'side', 'PM': '0.0', 'gain': '0%', 'CMP': 'YoY'}, {'tick': 'CPLE', 'nome': 'Cia Paranaense De Energia - Copel', 'sector': 'Energia Elétrica', 'color': 'red', 'PL': '20.97 MM', 'symbol': 'side', 'PM': '0.0', 'gain': '0%', 'CMP': 'YoY'}, {'tick': 'CRDE', 'nome': 'Cr2 Empreendimentos Imobiliarios ', 'sector': 'Construção Civil', 'color': 'red', 'PL': '94.41 Mil', 'symbol': 'side', 'PM': '0.0', 'gain': '0%', 'CMP': 'YoY'}, {'tick': 'CRFB', 'nome': 'Atacadão ', 'sector': 'Comércio', 'color': 'green', 'PL': '19.99 MM', 'symbol': 'side', 'PM': '0.0', 'gain': '0%', 'CMP': 'YoY'}, {'tick': 'CRIV', 'nome': 'Financeira Alfa - Cred Financ E Invs', 'sector': 'Bancos', 'color': 'red', 'PL': '1.06 MM', 'symbol': 'side', 'PM': '0.0', 'gain': '0%', 'CMP': 'YoY'}, {'tick': 'CRPG', 'nome': 'Tronox Pigmentos Do Brasil ', 'sector': 'Petroquímicos e Borracha', 'color': 'orange', 'PL': '911.27 Mil', 'symbol': 'side', 'PM': '0.0', 'gain': '0%', 'CMP': 'YoY'}, {'tick': 'CSAB', 'nome': 'Cia Seguroianca Da Bahia', 'sector': 'Seguradoras e Corretoras', 'color': 'red', 'PL': '190.98 Mil', 'symbol': 'side', 'PM': '0.0', 'gain': '0%', 'CMP': 'YoY'}, {'tick': 'CSAN', 'nome': 'Co ', 'sector': 'Agro', 'color': 'red', 'PL': '15.97 MM', 'symbol': 'side', 'PM': '0.0', 'gain': '0%', 'CMP': 'YoY'}, {'tick': 'CSED', 'nome': 'Cruzeiro Do Sul Educacional ', 'sector': 'Educação', 'color': 'orange', 'PL': '1.44 MM', 'symbol': 'side', 'PM': '0.0', 'gain': '0%', 'CMP': 'YoY'}, {'tick': 'CSMG', 'nome': 'Cia Eamento De Minas Gerais-Copamg', 'sector': 'Saneamento Básico', 'color': 'green', 'PL': '7.19 MM', 'symbol': 'side', 'PM': '0.0', 'gain': '0%', 'CMP': 'YoY'}, {'tick': 'CSNA', 'nome': 'Cia Siderurgica Nacional', 'sector': 'Metalurgia e Siderurgia', 'color': 'red', 'PL': '21.11 MM', 'symbol': 'side', 'PM': '0.0', 'gain': '0%', 'CMP': 'YoY'}, {'tick': 'CSRN', 'nome': 'Cia Energetica Do Rio Gde Norte - Cosern', 'sector': 'Energia Elétrica', 'color': 'green', 'PL': '1.27 MM', 'symbol': 'side', 'PM': '0.0', 'gain': '0%', 'CMP': 'YoY'}, {'tick': 'CTCA', 'nome': 'Ctc - Centro De Tecnologia Canavieira ', 'sector': 'Agro', 'color': 'green', 'PL': '839.30 Mil', 'symbol': 'side', 'PM': '0.0', 'gain': '0%', 'CMP': 'YoY'}, {'tick': 'CTKA', 'nome': 'Karsten ', 'sector': 'Têxtil e Vestuário', 'color': 'red', 'PL': None, 'symbol': 'side', 'PM': '0.0', 'gain': '0%', 'CMP': 'YoY'}, {'tick': 'CTNM', 'nome': 'Cia Tecidos Norte De Minas Coteminas', 'sector': 'Têxtil e Vestuário', 'color': 'red', 'PL': '504.08 Mil', 'symbol': 'side', 'PM': '0.0', 'gain': '0%', 'CMP': 'YoY'}, {'tick': 'CTSA', 'nome': 'Cia Tecidos Tanense', 'sector': 'Têxtil e Vestuário', 'color': 'red', 'PL': '279.57 Mil', 'symbol': 'side', 'PM': '0.0', 'gain': '0%', 'CMP': 'YoY'}, {'tick': 'CURY', 'nome': 'Cury Construtora E Incorporadora ', 'sector': 'Construção Civil', 'color': 'red', 'PL': '738.30 Mil', 'symbol': 'side', 'PM': '0.0', 'gain': '0%', 'CMP': 'YoY'}, {'tick': 'CVCB', 'nome': 'Cvc Brasil Operadora E Agência De Viagens ', 'sector': 'Hospedagem e Turismo', 'color': 'red', 'PL': '416.11 Mil', 'symbol': 'side', 'PM': '0.0', 'gain': '0%', 'CMP': 'YoY'}, {'tick': 'CYRE', 'nome': 'Cyrela Brazil Realty Empreend E Part', 'sector': 'Construção Civil', 'color': 'red', 'PL': '6.73 MM', 'symbol': 'side', 'PM': '0.0', 'gain': '0%', 'CMP': 'YoY'}, {'tick': 'DASA', 'nome': 'Diagnosticos Da America ', 'sector': 'Serviços Médicos', 'color': 'red', 'PL': '7.35 MM', 'symbol': 'side', 'PM': '0.0', 'gain': '0%', 'CMP': 'YoY'}, {'tick': 'DEXP', 'nome': 'Dexxos Participações ', 'sector': 'Petroquímicos e Borracha', 'color': 'orange', 'PL': '555.60 Mil', 'symbol': 'side', 'PM': '0.0', 'gain': '0%', 'CMP': 'YoY'}, {'tick': 'DIRR', 'nome': 'Direcional Engenharia ', 'sector': 'Construção Civil', 'color': 'orange', 'PL': '1.36 MM', 'symbol': 'side', 'PM': '0.0', 'gain': '0%', 'CMP': 'YoY'}, {'tick': 'DMVF', 'nome': 'D1000 Varejo Farma Participações ', 'sector': 'Comércio', 'color': 'green', 'PL': '846.55 Mil', 'symbol': 'side', 'PM': '0.0', 'gain': '0%', 'CMP': 'YoY'}, {'tick': 'DOHL', 'nome': 'Dohler ', 'sector': 'Têxtil e Vestuário', 'color': 'orange', 'PL': '708.64 Mil', 'symbol': 'side', 'PM': '0.0', 'gain': '0%', 'CMP': 'YoY'}, {'tick': 'DTCY', 'nome': 'Dtcom - Direct To Company ', 'sector': 'Telecomunicação', 'color': 'red', 'PL': None, 'symbol': 'side', 'PM': '0.0', 'gain': '0%', 'CMP': 'YoY'}, {'tick': 'DXCO', 'nome': 'Dexco ', 'sector': 'Construção Civil', 'color': 'green', 'PL': '5.91 MM', 'symbol': 'side', 'PM': '0.0', 'gain': '0%', 'CMP': 'YoY'}, {'tick': 'EALT', 'nome': 'Electro Aco Altona ', 'sector': 'Metalurgia e Siderurgia', 'color': 'red', 'PL': '204.69 Mil', 'symbol': 'side', 'PM': '0.0', 'gain': '0%', 'CMP': 'YoY'}, {'tick': 'ECOR', 'nome': 'Ecorodovias Infraestrutura E Logística ', 'sector': 'Logistica', 'color': 'green', 'PL': '2.25 MM', 'symbol': 'side', 'PM': '0.0', 'gain': '0%', 'CMP': 'YoY'}, {'tick': 'EEEL', 'nome': 'Cia Eual De Transmissão De Energia Eletrica - Ceee-T', 'sector': 'Energia Elétrica', 'color': 'green', 'PL': '1.30 MM', 'symbol': 'side', 'PM': '0.0', 'gain': '0%', 'CMP': 'YoY'}, {'tick': 'EGIE', 'nome': 'Engie Brasil Energia ', 'sector': 'Energia Elétrica', 'color': 'red', 'PL': '8.04 MM', 'symbol': 'side', 'PM': '0.0', 'gain': '0%', 'CMP': 'YoY'}, {'tick': 'EKTR', 'nome': 'Elektro Redes ', 'sector': 'Energia Elétrica', 'color': 'red', 'PL': '3.04 MM', 'symbol': 'side', 'PM': '0.0', 'gain': '0%', 'CMP': 'YoY'}, {'tick': 'ELET', 'nome': 'Centrais Elet Bras  - Eletrobras', 'sector': 'Energia Elétrica', 'color': 'red', 'PL': '111.50 MM', 'symbol': 'side', 'PM': '0.0', 'gain': '0%', 'CMP': 'YoY'}, {'tick': 'ELMD', 'nome': 'Eletromidia ', 'sector': 'Telecomunicação', 'color': 'green', 'PL': '739.45 Mil', 'symbol': 'side', 'PM': '0.0', 'gain': '0%', 'CMP': 'YoY'}, {'tick': 'EMAE', 'nome': 'Emae - Empremetrop.Aguas Energia ', 'sector': 'Energia Elétrica', 'color': 'green', 'PL': '927.12 Mil', 'symbol': 'side', 'PM': '0.0', 'gain': '0%', 'CMP': 'YoY'}, {'tick': 'EMBR', 'nome': 'Embraer ', 'sector': 'Industria', 'color': 'green', 'PL': '13.31 MM', 'symbol': 'side', 'PM': '0.0', 'gain': '0%', 'CMP': 'YoY'}, {'tick': 'ENAT', 'nome': 'Enauta Participações ', 'sector': 'Petróleo e Gás', 'color': 'orange', 'PL': '3.98 MM', 'symbol': 'side', 'PM': '0.0', 'gain': '0%', 'CMP': 'YoY'}, {'tick': 'ENBR', 'nome': 'Edp - Energias Do Brasil ', 'sector': 'Energia Elétrica', 'color': 'red', 'PL': '11.78 MM', 'symbol': 'side', 'PM': '0.0', 'gain': '0%', 'CMP': 'YoY'}, {'tick': 'ENEV', 'nome': 'Eneva S.A', 'sector': 'Energia Elétrica', 'color': 'orange', 'PL': '13.87 MM', 'symbol': 'side', 'PM': '0.0', 'gain': '0%', 'CMP': 'YoY'}, {'tick': 'ENGI', 'nome': 'Energi', 'sector': 'Energia Elétrica', 'color': 'orange', 'PL': '11.67 MM', 'symbol': 'side', 'PM': '0.0', 'gain': '0%', 'CMP': 'YoY'}, {'tick': 'ENJU', 'nome': 'Enjoei ', 'sector': 'Comércio', 'color': 'orange', 'PL': '383.69 Mil', 'symbol': 'side', 'PM': '0.0', 'gain': '0%', 'CMP': 'YoY'}, {'tick': 'ENMT', 'nome': 'Energimato Grosso-Distribuidora De Energia S/A', 'sector': 'Energia Elétrica', 'color': 'red', 'PL': '3.40 MM', 'symbol': 'side', 'PM': '0.0', 'gain': '0%', 'CMP': 'YoY'}, {'tick': 'EPAR', 'nome': 'Embpar Participações S/A', 'sector': 'Serviços em Geral', 'color': 'orange', 'PL': '93.39 Mil', 'symbol': 'side', 'PM': '0.0', 'gain': '0%', 'CMP': 'YoY'}, {'tick': 'EQPA', 'nome': 'Equatorial Pará Distribuidora De Energia ', 'sector': 'Energia Elétrica', 'color': 'red', 'PL': '4.35 MM', 'symbol': 'side', 'PM': '0.0', 'gain': '0%', 'CMP': 'YoY'}, {'tick': 'EQTL', 'nome': 'Equatorial Energia ', 'sector': 'Energia Elétrica', 'color': 'red', 'PL': '16.28 MM', 'symbol': 'side', 'PM': '0.0', 'gain': '0%', 'CMP': 'YoY'}, {'tick': 'ESPA', 'nome': 'Mpm Corpóreos ', 'sector': 'Serviços Médicos', 'color': 'red', 'PL': '684.24 Mil', 'symbol': 'side', 'PM': '0.0', 'gain': '0%', 'CMP': 'YoY'}, {'tick': 'ESTR', 'nome': 'Manufatura De Brinquedos Estrela ', 'sector': 'Brinquedos e Lazer', 'color': 'red', 'PL': None, 'symbol': 'side', 'PM': '0.0', 'gain': '0%', 'CMP': 'YoY'}, {'tick': 'ETER', 'nome': 'Eternit ', 'sector': 'Construção Civil', 'color': 'orange', 'PL': '659.78 Mil', 'symbol': 'side', 'PM': '0.0', 'gain': '0%', 'CMP': 'YoY'}, {'tick': 'EUCA', 'nome': 'Eucatex  Industria E Comercio', 'sector': 'Construção Civil', 'color': 'red', 'PL': '2.06 MM', 'symbol': 'side', 'PM': '0.0', 'gain': '0%', 'CMP': 'YoY'}, {'tick': 'EVEN', 'nome': 'Even Construtora E Incorporadora ', 'sector': 'Construção Civil', 'color': 'red', 'PL': '1.94 MM', 'symbol': 'side', 'PM': '0.0', 'gain': '0%', 'CMP': 'YoY'}, {'tick': 'EZTC', 'nome': 'Ez Tec Empreend. E Participacoes ', 'sector': 'Construção Civil', 'color': 'orange', 'PL': '4.47 MM', 'symbol': 'side', 'PM': '0.0', 'gain': '0%', 'CMP': 'YoY'}, {'tick': 'FESA', 'nome': 'Cia Ferro Ligas Da Bahia - Ferbasa', 'sector': 'Metalurgia e Siderurgia', 'color': 'red', 'PL': '3.04 MM', 'symbol': 'side', 'PM': '0.0', 'gain': '0%', 'CMP': 'YoY'}, {'tick': 'FHER', 'nome': 'Fertilizantes Heringer ', 'sector': 'Petroquímicos e Borracha', 'color': 'red', 'PL': '442.02 Mil', 'symbol': 'side', 'PM': '0.0', 'gain': '0%', 'CMP': 'YoY'}, {'tick': 'FIGE', 'nome': 'Investimentos Bemge ', 'sector': 'Bancos', 'color': 'red', 'PL': '148.69 Mil', 'symbol': 'side', 'PM': '0.0', 'gain': '0%', 'CMP': 'YoY'}, {'tick': 'FLEX', 'nome': 'Flex Gestão De Relacionamentos ', 'sector': 'Telecomunicação', 'color': 'red', 'PL': None, 'symbol': 'side', 'PM': '0.0', 'gain': '0%', 'CMP': 'YoY'}, {'tick': 'FLRY', 'nome': 'Fleury ', 'sector': 'Serviços Médicos', 'color': 'green', 'PL': '1.91 MM', 'symbol': 'side', 'PM': '0.0', 'gain': '0%', 'CMP': 'YoY'}, {'tick': 'FNCN', 'nome': 'Dm Financeira  - Crédito, Financiamento E Investimento', 'sector': 'Bancos', 'color': 'red', 'PL': '13.94 Mil', 'symbol': 'side', 'PM': '0.0', 'gain': '0%', 'CMP': 'YoY'}, {'tick': 'FRAS', 'nome': 'Fras-Le ', 'sector': 'Industria', 'color': 'orange', 'PL': '1.80 MM', 'symbol': 'side', 'PM': '0.0', 'gain': '0%', 'CMP': 'YoY'}, {'tick': 'FRTA', 'nome': 'Pomifrutas Em Recuperacao Judicial', 'sector': 'Agro', 'color': 'red', 'PL': None, 'symbol': 'side', 'PM': '0.0', 'gain': '0%', 'CMP': 'YoY'}, {'tick': 'GEPA', 'nome': 'Rio Paranapanema Energia ', 'sector': 'Energia Elétrica', 'color': 'green', 'PL': '2.06 MM', 'symbol': 'side', 'PM': '0.0', 'gain': '0%', 'CMP': 'YoY'}, {'tick': 'GFSA', 'nome': 'Gafi', 'sector': 'Construção Civil', 'color': 'red', 'PL': '1.74 MM', 'symbol': 'side', 'PM': '0.0', 'gain': '0%', 'CMP': 'YoY'}, {'tick': 'GGBR', 'nome': 'Gerdau ', 'sector': 'Metalurgia e Siderurgia', 'color': 'red', 'PL': '49.19 MM', 'symbol': 'side', 'PM': '0.0', 'gain': '0%', 'CMP': 'YoY'}, {'tick': 'GMAT', 'nome': 'Grupo Mateus ', 'sector': 'Comércio', 'color': 'red', 'PL': '7.15 MM', 'symbol': 'side', 'PM': '0.0', 'gain': '0%', 'CMP': 'YoY'}, {'tick': 'GOAU', 'nome': 'Metalurgica Gerdau ', 'sector': 'Metalurgia e Siderurgia', 'color': 'red', 'PL': '16.69 MM', 'symbol': 'side', 'PM': '0.0', 'gain': '0%', 'CMP': 'YoY'}, {'tick': 'GOLL', 'nome': 'Gol Linhareas Inteligentes ', 'sector': 'Logistica', 'color': 'red', 'PL': '-21.72 MM', 'symbol': 'side', 'PM': '0.0', 'gain': '0%', 'CMP': 'YoY'}, {'tick': 'GPAR', 'nome': 'Cia Celg De Participacoes - Celgpar', 'sector': 'Energia Elétrica', 'color': 'red', 'PL': '1.17 MM', 'symbol': 'side', 'PM': '0.0', 'gain': '0%', 'CMP': 'YoY'}, {'tick': 'GRND', 'nome': 'Grendene ', 'sector': 'Têxtil e Vestuário', 'color': 'red', 'PL': '4.27 MM', 'symbol': 'side', 'PM': '0.0', 'gain': '0%', 'CMP': 'YoY'}, {'tick': 'GSHP', 'nome': 'General Shopping E Outlets Do Brasil Brasil ', 'sector': 'Comércio', 'color': 'red', 'PL': None, 'symbol': 'side', 'PM': '0.0', 'gain': '0%', 'CMP': 'YoY'}, {'tick': 'GUAR', 'nome': 'Guararapes Confeccoes ', 'sector': 'Têxtil e Vestuário', 'color': 'red', 'PL': '5.16 MM', 'symbol': 'side', 'PM': '0.0', 'gain': '0%', 'CMP': 'YoY'}, {'tick': 'HAGA', 'nome': 'Haga  Industria E Comercio', 'sector': 'Metalurgia e Siderurgia', 'color': 'red', 'PL': '-62.75 MM', 'symbol': 'side', 'PM': '0.0', 'gain': '0%', 'CMP': 'YoY'}, {'tick': 'HAPV', 'nome': 'Hapvida Participações E Investimentos ', 'sector': 'Serviços Médicos', 'color': 'orange', 'PL': '49.05 MM', 'symbol': 'side', 'PM': '0.0', 'gain': '0%', 'CMP': 'YoY'}, {'tick': 'HBOR', 'nome': 'Helbor Empreendimentos ', 'sector': 'Construção Civil', 'color': 'orange', 'PL': '1.36 MM', 'symbol': 'side', 'PM': '0.0', 'gain': '0%', 'CMP': 'YoY'}, {'tick': 'HBRE', 'nome': 'Hbr Realty Empreendimentos Imobiliários ', 'sector': 'Construção Civil', 'color': 'red', 'PL': '1.89 MM', 'symbol': 'side', 'PM': '0.0', 'gain': '0%', 'CMP': 'YoY'}, {'tick': 'HBSA', 'nome': 'Hidrovias Do Brasil ', 'sector': 'Logistica', 'color': 'orange', 'PL': '1.46 MM', 'symbol': 'side', 'PM': '0.0', 'gain': '0%', 'CMP': 'YoY'}, {'tick': 'HBTS', 'nome': 'Cia Habitasul De Participacoes', 'sector': 'Crédito Imobiliário', 'color': 'orange', 'PL': '499.83 Mil', 'symbol': 'side', 'PM': '0.0', 'gain': '0%', 'CMP': 'YoY'}, {'tick': 'HETA', 'nome': 'Hercules  Fabrica De Talheres', 'sector': 'Metalurgia e Siderurgia', 'color': 'red', 'PL': None, 'symbol': 'side', 'PM': '0.0', 'gain': '0%', 'CMP': 'YoY'}, {'tick': 'HOOT', 'nome': 'Hoteis Othon ', 'sector': 'Hospedagem e Turismo', 'color': 'red', 'PL': None, 'symbol': 'side', 'PM': '0.0', 'gain': '0%', 'CMP': 'YoY'}, {'tick': 'HYPE', 'nome': 'Hypera ', 'sector': 'Farmacêutico e Higiene', 'color': 'orange', 'PL': '10.49 MM', 'symbol': 'side', 'PM': '0.0', 'gain': '0%', 'CMP': 'YoY'}, {'tick': 'IGBR', 'nome': 'Igb Eletronica - Em Recuperacao Judicial', 'sector': 'Industria', 'color': 'red', 'PL': None, 'symbol': 'side', 'PM': '0.0', 'gain': '0%', 'CMP': 'YoY'}, {'tick': 'IGSN', 'nome': 'Igua Eamento ', 'sector': 'Saneamento Básico', 'color': 'red', 'PL': '3.26 MM', 'symbol': 'side', 'PM': '0.0', 'gain': '0%', 'CMP': 'YoY'}, {'tick': 'IGTI', 'nome': 'Iguatemi ', 'sector': 'Telecomunicações', 'color': 'orange', 'PL': '4.00 MM', 'symbol': 'side', 'PM': '0.0', 'gain': '0%', 'CMP': 'YoY'}, {'tick': 'INEP', 'nome': 'Inepar  Industria E Construcoes Em Recuperacao Judicial', 'sector': 'Industria', 'color': 'red', 'PL': '-1.46 MM', 'symbol': 'side', 'PM': '0.0', 'gain': '0%', 'CMP': 'YoY'}, {'tick': 'INNT', 'nome': 'Inter Construtora E Incorporadora ', 'sector': 'Construção Civil', 'color': 'red', 'PL': '127.47 Mil', 'symbol': 'side', 'PM': '0.0', 'gain': '0%', 'CMP': 'YoY'}, {'tick': 'INTB', 'nome': 'Intelbras ', 'sector': 'Comércio', 'color': 'green', 'PL': '2.13 MM', 'symbol': 'side', 'PM': '0.0', 'gain': '0%', 'CMP': 'YoY'}, {'tick': 'IRBR', 'nome': 'Irb - Brasil Resseguros ', 'sector': 'Seguradoras e Corretoras', 'color': 'red', 'PL': '4.11 MM', 'symbol': 'side', 'PM': '0.0', 'gain': '0%', 'CMP': 'YoY'}, {'tick': 'ITSA', 'nome': 'Itaú', 'sector': 'Intermediação Financeira', 'color': 'green', 'PL': '70.83 MM', 'symbol': 'side', 'PM': '0.0', 'gain': '0%', 'CMP': 'YoY'}, {'tick': 'ITUB', 'nome': 'Itau Unibanco Holding ', 'sector': 'Bancos', 'color': 'green', 'PL': '158.50 MM', 'symbol': 'side', 'PM': '0.0', 'gain': '0%', 'CMP': 'YoY'}, {'tick': 'IVPR', 'nome': 'Investimentos E Particip. Em Infra  - Invepar', 'sector': 'Logistica', 'color': 'red', 'PL': '-1.35 MM', 'symbol': 'side', 'PM': '0.0', 'gain': '0%', 'CMP': 'YoY'}, {'tick': 'JALL', 'nome': 'Jalles Machado ', 'sector': 'Agro', 'color': 'green', 'PL': '1.68 MM', 'symbol': 'side', 'PM': '0.0', 'gain': '0%', 'CMP': 'YoY'}, {'tick': 'JBSS', 'nome': 'Jbs ', 'sector': 'Alimentos', 'color': 'orange', 'PL': '46.55 MM', 'symbol': 'side', 'PM': '0.0', 'gain': '0%', 'CMP': 'YoY'}, {'tick': 'JFEN', 'nome': 'Joao Fortes Engenharia ', 'sector': 'Construção Civil', 'color': 'red', 'PL': None, 'symbol': 'side', 'PM': '0.0', 'gain': '0%', 'CMP': 'YoY'}, {'tick': 'JHSF', 'nome': 'Jhsf Participacoes ', 'sector': 'Construção Civil', 'color': 'orange', 'PL': '4.97 MM', 'symbol': 'side', 'PM': '0.0', 'gain': '0%', 'CMP': 'YoY'}, {'tick': 'JOPA', 'nome': 'Joar-Joaquim Oliveira  - Particip', 'sector': 'Alimentos', 'color': 'orange', 'PL': '571.09 Mil', 'symbol': 'side', 'PM': '0.0', 'gain': '0%', 'CMP': 'YoY'}, {'tick': 'JSLG', 'nome': 'Jsl ', 'sector': 'Logistica', 'color': 'red', 'PL': '1.39 MM', 'symbol': 'side', 'PM': '0.0', 'gain': '0%', 'CMP': 'YoY'}, {'tick': 'KEPL', 'nome': 'Kepler Weber ', 'sector': 'Metalurgia e Siderurgia', 'color': 'green', 'PL': '631.38 Mil', 'symbol': 'side', 'PM': '0.0', 'gain': '0%', 'CMP': 'YoY'}, {'tick': 'KLBN', 'nome': 'Klabin ', 'sector': 'Papel e Celulose', 'color': 'red', 'PL': '9.00 MM', 'symbol': 'side', 'PM': '0.0', 'gain': '0%', 'CMP': 'YoY'}, {'tick': 'LAVV', 'nome': 'Lavvi Empreendimentos Imobiliários ', 'sector': 'Construção Civil', 'color': 'red', 'PL': '1.14 MM', 'symbol': 'side', 'PM': '0.0', 'gain': '0%', 'CMP': 'YoY'}, {'tick': 'LEVE', 'nome': 'Mahle-Metal Leve ', 'sector': 'Industria', 'color': 'red', 'PL': '1.65 MM', 'symbol': 'side', 'PM': '0.0', 'gain': '0%', 'CMP': 'YoY'}, {'tick': 'LIGT', 'nome': 'Light ', 'sector': 'Energia Elétrica', 'color': 'red', 'PL': '8.56 MM', 'symbol': 'side', 'PM': '0.0', 'gain': '0%', 'CMP': 'YoY'}, {'tick': 'LIPR', 'nome': 'Eletrobrás Participações  - Eletropar', 'sector': 'Energia Elétrica', 'color': 'orange', 'PL': '215.09 Mil', 'symbol': 'side', 'PM': '0.0', 'gain': '0%', 'CMP': 'YoY'}, {'tick': 'LJQQ', 'nome': 'Lojas Quero Quero ', 'sector': 'Comércio', 'color': 'orange', 'PL': '520.37 Mil', 'symbol': 'side', 'PM': '0.0', 'gain': '0%', 'CMP': 'YoY'}, {'tick': 'LLIS', 'nome': 'Veste  Estilo', 'sector': 'Comércio', 'color': 'red', 'PL': None, 'symbol': 'side', 'PM': '0.0', 'gain': '0%', 'CMP': 'YoY'}, {'tick': 'LOGG', 'nome': 'Log Commercial Properties E Participações', 'sector': 'Construção Civil', 'color': 'red', 'PL': '3.64 MM', 'symbol': 'side', 'PM': '0.0', 'gain': '0%', 'CMP': 'YoY'}, {'tick': 'LOGN', 'nome': 'Log-In Logistica Intermodal ', 'sector': 'Logistica', 'color': 'orange', 'PL': '583.88 Mil', 'symbol': 'side', 'PM': '0.0', 'gain': '0%', 'CMP': 'YoY'}, {'tick': 'LPSB', 'nome': 'Lps Brasil - Consultoria De Imoveis ', 'sector': 'Construção Civil', 'color': 'orange', 'PL': '196.83 Mil', 'symbol': 'side', 'PM': '0.0', 'gain': '0%', 'CMP': 'YoY'}, {'tick': 'LREN', 'nome': 'Lojas Renner ', 'sector': 'Comércio', 'color': 'green', 'PL': '9.79 MM', 'symbol': 'side', 'PM': '0.0', 'gain': '0%', 'CMP': 'YoY'}, {'tick': 'LUPA', 'nome': 'Lupatech ', 'sector': 'Industria', 'color': 'red', 'PL': '113.75 Mil', 'symbol': 'side', 'PM': '0.0', 'gain': '0%', 'CMP': 'YoY'}, {'tick': 'LUXM', 'nome': 'Treviinvestimentos ', 'sector': 'Serviços em Geral', 'color': 'orange', 'PL': '107.81 Mil', 'symbol': 'side', 'PM': '0.0', 'gain': '0%', 'CMP': 'YoY'}, {'tick': 'LWSA', 'nome': 'Locaweb Serviços De Internet ', 'sector': 'Telecomunicação', 'color': 'orange', 'PL': '2.96 MM', 'symbol': 'side', 'PM': '0.0', 'gain': '0%', 'CMP': 'YoY'}, {'tick': 'MAPT', 'nome': 'Cemepe Investimentos ', 'sector': 'Serviços em Geral', 'color': 'red', 'PL': None, 'symbol': 'side', 'PM': '0.0', 'gain': '0%', 'CMP': 'YoY'}, {'tick': 'MATD', 'nome': 'Hospital Mater Dei ', 'sector': 'Serviços Médicos', 'color': 'green', 'PL': '1.64 MM', 'symbol': 'side', 'PM': '0.0', 'gain': '0%', 'CMP': 'YoY'}, {'tick': 'MBLY', 'nome': 'Mobly ', 'sector': 'Comércio', 'color': 'red', 'PL': '570.42 Mil', 'symbol': 'side', 'PM': '0.0', 'gain': '0%', 'CMP': 'YoY'}, {'tick': 'MDIA', 'nome': 'M.Dias Branco  Ind Com De Alimentos', 'sector': 'Alimentos', 'color': 'green', 'PL': '6.89 MM', 'symbol': 'side', 'PM': '0.0', 'gain': '0%', 'CMP': 'YoY'}, {'tick': 'MDNE', 'nome': 'Moura Dubeux Engenharia S/A', 'sector': 'Construção Civil', 'color': 'red', 'PL': '1.17 MM', 'symbol': 'side', 'PM': '0.0', 'gain': '0%', 'CMP': 'YoY'}, {'tick': 'MEAL', 'nome': 'International Meal Company Alimentacao ', 'sector': 'Alimentos', 'color': 'red', 'PL': '1.16 MM', 'symbol': 'side', 'PM': '0.0', 'gain': '0%', 'CMP': 'YoY'}, {'tick': 'MELK', 'nome': 'Melnick Desenvolvimento Imobiliário ', 'sector': 'Construção Civil', 'color': 'orange', 'PL': '1.20 MM', 'symbol': 'side', 'PM': '0.0', 'gain': '0%', 'CMP': 'YoY'}, {'tick': 'MERC', 'nome': 'Creditaqui Financeira  - C.F.I.', 'sector': 'Bancos', 'color': 'red', 'PL': '251.34 Mil', 'symbol': 'side', 'PM': '0.0', 'gain': '0%', 'CMP': 'YoY'}, {'tick': 'MGEL', 'nome': 'Mangels Industrial ', 'sector': 'Metalurgia e Siderurgia', 'color': 'red', 'PL': None, 'symbol': 'side', 'PM': '0.0', 'gain': '0%', 'CMP': 'YoY'}, {'tick': 'MGLU', 'nome': 'Magazine Luiza ', 'sector': 'Comércio', 'color': 'red', 'PL': '10.81 MM', 'symbol': 'side', 'PM': '0.0', 'gain': '0%', 'CMP': 'YoY'}, {'tick': 'MILS', 'nome': 'Mills Locação, Serviços E Logística ', 'sector': 'Logistica', 'color': 'green', 'PL': '1.20 MM', 'symbol': 'side', 'PM': '0.0', 'gain': '0%', 'CMP': 'YoY'}, {'tick': 'MNDL', 'nome': 'Mundial  - Produtos De Consumo', 'sector': 'Têxtil e Vestuário', 'color': 'red', 'PL': None, 'symbol': 'side', 'PM': '0.0', 'gain': '0%', 'CMP': 'YoY'}, {'tick': 'MNPR', 'nome': 'Minupar Participacoes ', 'sector': 'Alimentos', 'color': 'red', 'PL': None, 'symbol': 'side', 'PM': '0.0', 'gain': '0%', 'CMP': 'YoY'}, {'tick': 'MOAR', 'nome': 'Monteiro Aranha ', 'sector': 'Serviços em Geral', 'color': 'green', 'PL': '827.32 Mil', 'symbol': 'side', 'PM': '0.0', 'gain': '0%', 'CMP': 'YoY'}, {'tick': 'MOVI', 'nome': 'Movida Participacoes Sa', 'sector': 'Logistica', 'color': 'red', 'PL': '2.78 MM', 'symbol': 'side', 'PM': '0.0', 'gain': '0%', 'CMP': 'YoY'}, {'tick': 'MRFG', 'nome': 'Marfrig Global Foods ', 'sector': 'Alimentos', 'color': 'green', 'PL': '4.87 MM', 'symbol': 'side', 'PM': '0.0', 'gain': '0%', 'CMP': 'YoY'}, {'tick': 'MRVE', 'nome': 'Mrv Engenharia E Participacoes ', 'sector': 'Construção Civil', 'color': 'green', 'PL': '6.21 MM', 'symbol': 'side', 'PM': '0.0', 'gain': '0%', 'CMP': 'YoY'}, {'tick': 'MSRO', 'nome': 'Maestro Locadora De Veiculos ', 'sector': 'Logistica', 'color': 'orange', 'PL': '65.84 Mil', 'symbol': 'side', 'PM': '0.0', 'gain': '0%', 'CMP': 'YoY'}, {'tick': 'MTRE', 'nome': 'Mitre Realty Empreendimentos E Participações ', 'sector': 'Construção Civil', 'color': 'red', 'PL': '995.19 Mil', 'symbol': 'side', 'PM': '0.0', 'gain': '0%', 'CMP': 'YoY'}, {'tick': 'MTSA', 'nome': 'Metimetalurgica Timboense ', 'sector': 'Metalurgia e Siderurgia', 'color': 'green', 'PL': '372.46 MM', 'symbol': 'side', 'PM': '0.0', 'gain': '0%', 'CMP': 'YoY'}, {'tick': 'MULT', 'nome': 'Multiplan - Empreend Imobiliarios ', 'sector': 'Construção Civil', 'color': 'red', 'PL': '6.54 MM', 'symbol': 'side', 'PM': '0.0', 'gain': '0%', 'CMP': 'YoY'}, {'tick': 'MWET', 'nome': 'Wetzel ', 'sector': 'Metalurgia e Siderurgia', 'color': 'red', 'PL': None, 'symbol': 'side', 'PM': '0.0', 'gain': '0%', 'CMP': 'YoY'}, {'tick': 'MYPK', 'nome': 'Iochpe Maxion ', 'sector': 'Industria', 'color': 'red', 'PL': '4.09 MM', 'symbol': 'side', 'PM': '0.0', 'gain': '0%', 'CMP': 'YoY'}, {'tick': 'NEMO', 'nome': 'Suzano Holding ', 'sector': 'Papel e Celulose', 'color': 'orange', 'PL': '7.97 MM', 'symbol': 'side', 'PM': '0.0', 'gain': '0%', 'CMP': 'YoY'}, {'tick': 'NEOE', 'nome': 'Neoenergia ', 'sector': 'Energia Elétrica', 'color': 'orange', 'PL': '26.70 MM', 'symbol': 'side', 'PM': '0.0', 'gain': '0%', 'CMP': 'YoY'}, {'tick': 'NORD', 'nome': 'Nordon Industrias Metalurgicas ', 'sector': 'Metalurgia e Siderurgia', 'color': 'red', 'PL': None, 'symbol': 'side', 'PM': '0.0', 'gain': '0%', 'CMP': 'YoY'}, {'tick': 'NTCO', 'nome': 'Natura &Co Holding ', 'sector': 'Farmacêutico e Higiene', 'color': 'red', 'PL': '22.98 MM', 'symbol': 'side', 'PM': '0.0', 'gain': '0%', 'CMP': 'YoY'}, {'tick': 'NUTR', 'nome': 'Nutriplant Industria E Comercio ', 'sector': 'Agro', 'color': 'green', 'PL': '29.04 Mil', 'symbol': 'side', 'PM': '0.0', 'gain': '0%', 'CMP': 'YoY'}, {'tick': 'ODER', 'nome': 'Conservas Oderich ', 'sector': 'Alimentos', 'color': 'red', 'PL': '354.72 Mil', 'symbol': 'side', 'PM': '0.0', 'gain': '0%', 'CMP': 'YoY'}, {'tick': 'ODPV', 'nome': 'Odontoprev ', 'sector': 'Serviços Médicos', 'color': 'green', 'PL': '1.21 MM', 'symbol': 'side', 'PM': '0.0', 'gain': '0%', 'CMP': 'YoY'}, {'tick': 'OFSA', 'nome': 'Ouro Fino De Animal Participacoes ', 'sector': 'Comércio', 'color': 'red', 'PL': '726.06 Mil', 'symbol': 'side', 'PM': '0.0', 'gain': '0%', 'CMP': 'YoY'}, {'tick': 'OPCT', 'nome': 'Oceanpact Serviços Maritimos ', 'sector': 'Petróleo e Gás', 'color': 'red', 'PL': '751.06 Mil', 'symbol': 'side', 'PM': '0.0', 'gain': '0%', 'CMP': 'YoY'}, {'tick': 'ORVR', 'nome': 'Orizon Valorização De Resíduos ', 'sector': 'Saneamento Básico', 'color': 'red', 'PL': '413.00 Mil', 'symbol': 'side', 'PM': '0.0', 'gain': '0%', 'CMP': 'YoY'}, {'tick': 'OSXB', 'nome': 'Osx Brasil ', 'sector': 'Serviços em Geral', 'color': 'red', 'PL': '-5.84 MM', 'symbol': 'side', 'PM': '0.0', 'gain': '0%', 'CMP': 'YoY'}, {'tick': 'PARD', 'nome': 'Instituto Hermes Pardini ', 'sector': 'Serviços Médicos', 'color': 'green', 'PL': '957.43 Mil', 'symbol': 'side', 'PM': '0.0', 'gain': '0%', 'CMP': 'YoY'}, {'tick': 'PATI', 'nome': 'Panatlantica ', 'sector': 'Metalurgia e Siderurgia', 'color': 'red', 'PL': '910.40 Mil', 'symbol': 'side', 'PM': '0.0', 'gain': '0%', 'CMP': 'YoY'}, {'tick': 'PCAR', 'nome': 'Cia Brasileira De Distribuicao', 'sector': 'Comércio', 'color': 'orange', 'PL': '13.54 MM', 'symbol': 'side', 'PM': '0.0', 'gain': '0%', 'CMP': 'YoY'}, {'tick': 'PDGR', 'nome': 'Pdg Realty  Empreend E Participacoes', 'sector': 'Construção Civil', 'color': 'red', 'PL': '-4.87 MM', 'symbol': 'side', 'PM': '0.0', 'gain': '0%', 'CMP': 'YoY'}, {'tick': 'PDTC', 'nome': 'Padtec Holding ', 'sector': 'Telecomunicações', 'color': 'red', 'PL': '130.60 Mil', 'symbol': 'side', 'PM': '0.0', 'gain': '0%', 'CMP': 'YoY'}, {'tick': 'PEAB', 'nome': 'Cia Participacoeianca Da Bahia', 'sector': 'Serviços em Geral', 'color': 'orange', 'PL': '678.04 Mil', 'symbol': 'side', 'PM': '0.0', 'gain': '0%', 'CMP': 'YoY'}, {'tick': 'PETR', 'nome': 'Petroleo Brasileiro  Petrobras', 'sector': 'Petróleo e Gás', 'color': 'green', 'PL': '372.50 MM', 'symbol': 'side', 'PM': '0.0', 'gain': '0%', 'CMP': 'YoY'}, {'tick': 'PETZ', 'nome': 'Pet Center Comércio E Participações ', 'sector': 'Comércio', 'color': 'green', 'PL': '1.83 MM', 'symbol': 'side', 'PM': '0.0', 'gain': '0%', 'CMP': 'YoY'}, {'tick': 'PFRM', 'nome': 'Profarma Distrib Prod Farmaceuticos ', 'sector': 'Comércio', 'color': 'green', 'PL': '1.21 MM', 'symbol': 'side', 'PM': '0.0', 'gain': '0%', 'CMP': 'YoY'}, {'tick': 'PINE', 'nome': 'Bco Pine S.A', 'sector': 'Bancos', 'color': 'red', 'PL': '857.61 Mil', 'symbol': 'side', 'PM': '0.0', 'gain': '0%', 'CMP': 'YoY'}, {'tick': 'PLAS', 'nome': 'Pla Participacoes Industriais ', 'sector': 'Industria', 'color': 'red', 'PL': None, 'symbol': 'side', 'PM': '0.0', 'gain': '0%', 'CMP': 'YoY'}, {'tick': 'PLPL', 'nome': 'Plano & Plano Desenvolvimento Imobiliário ', 'sector': 'Construção Civil', 'color': 'red', 'PL': '383.68 Mil', 'symbol': 'side', 'PM': '0.0', 'gain': '0%', 'CMP': 'YoY'}, {'tick': 'PMAM', 'nome': 'Paranapanema ', 'sector': 'Metalurgia e Siderurgia', 'color': 'red', 'PL': '-1.62 MM', 'symbol': 'side', 'PM': '0.0', 'gain': '0%', 'CMP': 'YoY'}, {'tick': 'PNVL', 'nome': 'Dimed  Distribuidora De Medicamentos', 'sector': 'Comércio', 'color': 'green', 'PL': '1.09 MM', 'symbol': 'side', 'PM': '0.0', 'gain': '0%', 'CMP': 'YoY'}, {'tick': 'POMO', 'nome': 'Marcopolo ', 'sector': 'Industria', 'color': 'red', 'PL': '3.05 MM', 'symbol': 'side', 'PM': '0.0', 'gain': '0%', 'CMP': 'YoY'}, {'tick': 'POSI', 'nome': 'Positivo Tecnologia ', 'sector': 'Telecomunicação', 'color': 'red', 'PL': '1.33 MM', 'symbol': 'side', 'PM': '0.0', 'gain': '0%', 'CMP': 'YoY'}, {'tick': 'PPAR', 'nome': 'Polpar ', 'sector': 'Serviços em Geral', 'color': 'red', 'PL': '42.78 Mil', 'symbol': 'side', 'PM': '0.0', 'gain': '0%', 'CMP': 'YoY'}, {'tick': 'PRIO', 'nome': 'Petro Rio ', 'sector': 'Petróleo e Gás', 'color': 'red', 'PL': '9.24 MM', 'symbol': 'side', 'PM': '0.0', 'gain': '0%', 'CMP': 'YoY'}, {'tick': 'PRNR', 'nome': 'Priner Serviços Industriais ', 'sector': 'Construção Civil', 'color': 'red', 'PL': '257.32 Mil', 'symbol': 'side', 'PM': '0.0', 'gain': '0%', 'CMP': 'YoY'}, {'tick': 'PSSA', 'nome': 'Porto Seguro ', 'sector': 'Seguradoras e Corretoras', 'color': 'red', 'PL': '9.95 MM', 'symbol': 'side', 'PM': '0.0', 'gain': '0%', 'CMP': 'YoY'}, {'tick': 'PTBL', 'nome': 'Pbg S/A', 'sector': 'Construção Civil', 'color': 'orange', 'PL': '456.09 Mil', 'symbol': 'side', 'PM': '0.0', 'gain': '0%', 'CMP': 'YoY'}, {'tick': 'PTCA', 'nome': 'Prática Klimaquip Indústria E Comércio ', 'sector': 'Industria', 'color': 'orange', 'PL': '75.53 Mil', 'symbol': 'side', 'PM': '0.0', 'gain': '0%', 'CMP': 'YoY'}, {'tick': 'PTNT', 'nome': 'Pettenati  Industria Textil', 'sector': 'Têxtil e Vestuário', 'color': 'green', 'PL': '353.21 MM', 'symbol': 'side', 'PM': '0.0', 'gain': '0%', 'CMP': 'YoY'}, {'tick': 'QUAL', 'nome': 'Qualicorp Consultoria E Corretora De Seguros ', 'sector': 'Seguradoras e Corretoras', 'color': 'green', 'PL': '1.45 MM', 'symbol': 'side', 'PM': '0.0', 'gain': '0%', 'CMP': 'YoY'}, {'tick': 'QUSW', 'nome': 'Quality Software ', 'sector': 'Telecomunicação', 'color': 'red', 'PL': '63.79 MM', 'symbol': 'side', 'PM': '0.0', 'gain': '0%', 'CMP': 'YoY'}, {'tick': 'RADL', 'nome': 'Raia Drogasil ', 'sector': 'Comércio', 'color': 'orange', 'PL': '5.05 MM', 'symbol': 'side', 'PM': '0.0', 'gain': '0%', 'CMP': 'YoY'}, {'tick': 'RAIL', 'nome': 'Rumo ', 'sector': 'Logistica', 'color': 'red', 'PL': '15.06 MM', 'symbol': 'side', 'PM': '0.0', 'gain': '0%', 'CMP': 'YoY'}, {'tick': 'RAPT', 'nome': 'Randon  Implementos E Participacoes', 'sector': 'Industria', 'color': 'red', 'PL': '2.77 MM', 'symbol': 'side', 'PM': '0.0', 'gain': '0%', 'CMP': 'YoY'}, {'tick': 'RCSL', 'nome': 'Recrusul ', 'sector': 'Industria', 'color': 'red', 'PL': None, 'symbol': 'side', 'PM': '0.0', 'gain': '0%', 'CMP': 'YoY'}, {'tick': 'RDNI', 'nome': 'Rni Negócios Imobiliários ', 'sector': 'Construção Civil', 'color': 'red', 'PL': '638.83 Mil', 'symbol': 'side', 'PM': '0.0', 'gain': '0%', 'CMP': 'YoY'}, {'tick': 'RDOR', 'nome': \"Rede D'Or São Luiz \", 'sector': 'Serviços Médicos', 'color': 'red', 'PL': '13.63 MM', 'symbol': 'side', 'PM': '0.0', 'gain': '0%', 'CMP': 'YoY'}, {'tick': 'REDE', 'nome': 'Rede Energia Participações ', 'sector': 'Energia Elétrica', 'color': 'green', 'PL': '4.20 MM', 'symbol': 'side', 'PM': '0.0', 'gain': '0%', 'CMP': 'YoY'}, {'tick': 'RENT', 'nome': 'Localiza Rent A Car ', 'sector': 'Logistica', 'color': 'red', 'PL': '20.33 MM', 'symbol': 'side', 'PM': '0.0', 'gain': '0%', 'CMP': 'YoY'}, {'tick': 'RNEW', 'nome': 'Renova Energia ', 'sector': 'Energia Elétrica', 'color': 'red', 'PL': '160.68 Mil', 'symbol': 'side', 'PM': '0.0', 'gain': '0%', 'CMP': 'YoY'}, {'tick': 'ROMI', 'nome': 'Romi ', 'sector': 'Industria', 'color': 'orange', 'PL': '1.02 MM', 'symbol': 'side', 'PM': '0.0', 'gain': '0%', 'CMP': 'YoY'}, {'tick': 'RPAD', 'nome': 'Alfa Holdings ', 'sector': 'Intermediação Financeira', 'color': 'orange', 'PL': '1.07 MM', 'symbol': 'side', 'PM': '0.0', 'gain': '0%', 'CMP': 'YoY'}, {'tick': 'RPMG', 'nome': 'Refinaria De Petroleos Manguinhos ', 'sector': 'Petróleo e Gás', 'color': 'red', 'PL': '-4.23 MM', 'symbol': 'side', 'PM': '0.0', 'gain': '0%', 'CMP': 'YoY'}, {'tick': 'RRRP', 'nome': '3R Petroleum Óleo E Gás ', 'sector': 'Petróleo e Gás', 'color': 'red', 'PL': '4.32 MM', 'symbol': 'side', 'PM': '0.0', 'gain': '0%', 'CMP': 'YoY'}, {'tick': 'RSID', 'nome': 'Rossi Residencial ', 'sector': 'Construção Civil', 'color': 'red', 'PL': None, 'symbol': 'side', 'PM': '0.0', 'gain': '0%', 'CMP': 'YoY'}, {'tick': 'RSUL', 'nome': 'Metalurgica Riosulense ', 'sector': 'Industria', 'color': 'orange', 'PL': '124.14 Mil', 'symbol': 'side', 'PM': '0.0', 'gain': '0%', 'CMP': 'YoY'}, {'tick': 'SANB', 'nome': 'Bco Tander (Brasil) ', 'sector': 'Bancos', 'color': 'red', 'PL': '82.40 MM', 'symbol': 'side', 'PM': '0.0', 'gain': '0%', 'CMP': 'YoY'}, {'tick': 'SAPR', 'nome': 'Cia Eamento Do Parana - Epar', 'sector': 'Saneamento Básico', 'color': 'red', 'PL': '8.41 MM', 'symbol': 'side', 'PM': '0.0', 'gain': '0%', 'CMP': 'YoY'}, {'tick': 'SBFG', 'nome': 'Grupo Sbf ', 'sector': 'Comércio', 'color': 'green', 'PL': '2.32 MM', 'symbol': 'side', 'PM': '0.0', 'gain': '0%', 'CMP': 'YoY'}, {'tick': 'SBSP', 'nome': 'Cia Eamento Basico Est  Paulo', 'sector': 'Saneamento Básico', 'color': 'red', 'PL': '27.36 MM', 'symbol': 'side', 'PM': '0.0', 'gain': '0%', 'CMP': 'YoY'}, {'tick': 'SCAR', 'nome': ' Carlos Empreend E Participacoes ', 'sector': 'Serviços em Geral', 'color': 'red', 'PL': '1.50 MM', 'symbol': 'side', 'PM': '0.0', 'gain': '0%', 'CMP': 'YoY'}, {'tick': 'SEER', 'nome': 'Ser Educacional ', 'sector': 'Educação', 'color': 'orange', 'PL': '1.36 MM', 'symbol': 'side', 'PM': '0.0', 'gain': '0%', 'CMP': 'YoY'}, {'tick': 'SEQL', 'nome': 'Sequoia Logística E Transportes ', 'sector': 'Logistica', 'color': 'green', 'PL': '537.37 Mil', 'symbol': 'side', 'PM': '0.0', 'gain': '0%', 'CMP': 'YoY'}, {'tick': 'SGPS', 'nome': 'Springs Global Participacoes ', 'sector': 'Têxtil e Vestuário', 'color': 'red', 'PL': '605.75 Mil', 'symbol': 'side', 'PM': '0.0', 'gain': '0%', 'CMP': 'YoY'}, {'tick': 'SHOW', 'nome': 'T4F Entretenimento ', 'sector': 'Brinquedos e Lazer', 'color': 'red', 'PL': '141.72 Mil', 'symbol': 'side', 'PM': '0.0', 'gain': '0%', 'CMP': 'YoY'}, {'tick': 'SHUL', 'nome': 'Schulz ', 'sector': 'Metalurgia e Siderurgia', 'color': 'red', 'PL': '1.04 MM', 'symbol': 'side', 'PM': '0.0', 'gain': '0%', 'CMP': 'YoY'}, {'tick': 'SIMH', 'nome': 'Simpar ', 'sector': 'Logistica', 'color': 'red', 'PL': '2.77 MM', 'symbol': 'side', 'PM': '0.0', 'gain': '0%', 'CMP': 'YoY'}, {'tick': 'SLCE', 'nome': 'Slc Agricola ', 'sector': 'Agro', 'color': 'red', 'PL': '4.79 MM', 'symbol': 'side', 'PM': '0.0', 'gain': '0%', 'CMP': 'YoY'}, {'tick': 'SLED', 'nome': 'Aiva Livreiros ', 'sector': 'Comércio', 'color': 'red', 'PL': None, 'symbol': 'side', 'PM': '0.0', 'gain': '0%', 'CMP': 'YoY'}, {'tick': 'SMFT', 'nome': 'Tfit Escola De Ginástica E Dança ', 'sector': 'Brinquedos e Lazer', 'color': 'red', 'PL': '4.15 MM', 'symbol': 'side', 'PM': '0.0', 'gain': '0%', 'CMP': 'YoY'}, {'tick': 'SMTO', 'nome': ' Martinho ', 'sector': 'Agro', 'color': 'orange', 'PL': '5.45 MM', 'symbol': 'side', 'PM': '0.0', 'gain': '0%', 'CMP': 'YoY'}, {'tick': 'SNSY', 'nome': 'Suy  Industria De Plasticos', 'sector': 'Petroquímicos e Borracha', 'color': 'red', 'PL': '-1.61 MM', 'symbol': 'side', 'PM': '0.0', 'gain': '0%', 'CMP': 'YoY'}, {'tick': 'SOMA', 'nome': 'Grupo De Moda Soma ', 'sector': 'Têxtil e Vestuário', 'color': 'red', 'PL': '7.41 MM', 'symbol': 'side', 'PM': '0.0', 'gain': '0%', 'CMP': 'YoY'}, {'tick': 'SOND', 'nome': 'Sondotecnica Engenharia Solos ', 'sector': 'Construção Civil', 'color': 'red', 'PL': '57.91 Mil', 'symbol': 'side', 'PM': '0.0', 'gain': '0%', 'CMP': 'YoY'}, {'tick': 'SQIA', 'nome': 'Sinqia ', 'sector': 'Telecomunicação', 'color': 'green', 'PL': '783.63 Mil', 'symbol': 'side', 'PM': '0.0', 'gain': '0%', 'CMP': 'YoY'}, {'tick': 'STBP', 'nome': 'Tos Brasil Participacoes ', 'sector': 'Logistica', 'color': 'orange', 'PL': '2.14 MM', 'symbol': 'side', 'PM': '0.0', 'gain': '0%', 'CMP': 'YoY'}, {'tick': 'STKF', 'nome': 'Kraft Energias Renovaveis ', 'sector': 'Energia Elétrica', 'color': 'green', 'PL': '3.11 MM', 'symbol': 'side', 'PM': '0.0', 'gain': '0%', 'CMP': 'YoY'}, {'tick': 'SUZB', 'nome': 'Suzano ', 'sector': 'Papel e Celulose', 'color': 'orange', 'PL': '27.95 MM', 'symbol': 'side', 'PM': '0.0', 'gain': '0%', 'CMP': 'YoY'}, {'tick': 'SYNE', 'nome': 'Syn Prop & Tech ', 'sector': 'Construção Civil', 'color': 'orange', 'PL': '1.55 MM', 'symbol': 'side', 'PM': '0.0', 'gain': '0%', 'CMP': 'YoY'}, {'tick': 'TAEE', 'nome': 'Transmissora Aliança De Energia Elétrica ', 'sector': 'Energia Elétrica', 'color': 'red', 'PL': '6.95 MM', 'symbol': 'side', 'PM': '0.0', 'gain': '0%', 'CMP': 'YoY'}, {'tick': 'TASA', 'nome': 'Taurumas ', 'sector': 'Industria', 'color': 'orange', 'PL': '1.08 MM', 'symbol': 'side', 'PM': '0.0', 'gain': '0%', 'CMP': 'YoY'}, {'tick': 'TCSA', 'nome': 'Tecni', 'sector': 'Construção Civil', 'color': 'red', 'PL': '575.51 Mil', 'symbol': 'side', 'PM': '0.0', 'gain': '0%', 'CMP': 'YoY'}, {'tick': 'TECN', 'nome': 'Technos ', 'sector': 'Comércio', 'color': 'green', 'PL': '342.79 Mil', 'symbol': 'side', 'PM': '0.0', 'gain': '0%', 'CMP': 'YoY'}, {'tick': 'TEKA', 'nome': 'Teka-Tecelagem Kuehnrich ', 'sector': 'Têxtil e Vestuário', 'color': 'red', 'PL': '-1.88 MM', 'symbol': 'side', 'PM': '0.0', 'gain': '0%', 'CMP': 'YoY'}, {'tick': 'TELB', 'nome': 'Telec Brasileiras  Telebras', 'sector': 'Telecomunicação', 'color': 'red', 'PL': '1.66 MM', 'symbol': 'side', 'PM': '0.0', 'gain': '0%', 'CMP': 'YoY'}, {'tick': 'TEND', 'nome': 'Construtora Tenda ', 'sector': 'Construção Civil', 'color': 'red', 'PL': '843.68 Mil', 'symbol': 'side', 'PM': '0.0', 'gain': '0%', 'CMP': 'YoY'}, {'tick': 'TFCO', 'nome': 'Track & Field Co ', 'sector': 'Têxtil e Vestuário', 'color': 'orange', 'PL': '317.94 Mil', 'symbol': 'side', 'PM': '0.0', 'gain': '0%', 'CMP': 'YoY'}, {'tick': 'TGMA', 'nome': 'Tegma Ge Logistica ', 'sector': 'Logistica', 'color': 'green', 'PL': '736.38 Mil', 'symbol': 'side', 'PM': '0.0', 'gain': '0%', 'CMP': 'YoY'}, {'tick': 'TIMS', 'nome': 'Tim ', 'sector': 'Telecomunicação', 'color': 'green', 'PL': '25.30 MM', 'symbol': 'side', 'PM': '0.0', 'gain': '0%', 'CMP': 'YoY'}, {'tick': 'TKNO', 'nome': 'Tekno  - Industria E Comercio', 'sector': 'Metalurgia e Siderurgia', 'color': 'red', 'PL': '264.67 Mil', 'symbol': 'side', 'PM': '0.0', 'gain': '0%', 'CMP': 'YoY'}, {'tick': 'TOTS', 'nome': 'Totvs ', 'sector': 'Telecomunicação', 'color': 'red', 'PL': '4.44 MM', 'symbol': 'side', 'PM': '0.0', 'gain': '0%', 'CMP': 'YoY'}, {'tick': 'TPIS', 'nome': 'Tpi - Triunfo Particip. E Invest. ', 'sector': 'Logistica', 'color': 'red', 'PL': '926.52 Mil', 'symbol': 'side', 'PM': '0.0', 'gain': '0%', 'CMP': 'YoY'}, {'tick': 'TRIS', 'nome': 'Trisul ', 'sector': 'Construção Civil', 'color': 'orange', 'PL': '1.25 MM', 'symbol': 'side', 'PM': '0.0', 'gain': '0%', 'CMP': 'YoY'}, {'tick': 'TRPL', 'nome': 'Cteep - Cia Transmissão Energia Elétrica Paulista', 'sector': 'Energia Elétrica', 'color': 'red', 'PL': '16.07 MM', 'symbol': 'side', 'PM': '0.0', 'gain': '0%', 'CMP': 'YoY'}, {'tick': 'TUPY', 'nome': 'Tupy ', 'sector': 'Metalurgia e Siderurgia', 'color': 'red', 'PL': '3.11 MM', 'symbol': 'side', 'PM': '0.0', 'gain': '0%', 'CMP': 'YoY'}, {'tick': 'TXRX', 'nome': 'Textil Renauxview ', 'sector': 'Têxtil e Vestuário', 'color': 'red', 'PL': None, 'symbol': 'side', 'PM': '0.0', 'gain': '0%', 'CMP': 'YoY'}, {'tick': 'UCAS', 'nome': 'Unicaindústria De Móveis ', 'sector': 'Construção Civil', 'color': 'red', 'PL': '196.06 Mil', 'symbol': 'side', 'PM': '0.0', 'gain': '0%', 'CMP': 'YoY'}, {'tick': 'UGPA', 'nome': 'Ultrapar Participacoes ', 'sector': 'Petróleo e Gás', 'color': 'orange', 'PL': '10.91 MM', 'symbol': 'side', 'PM': '0.0', 'gain': '0%', 'CMP': 'YoY'}, {'tick': 'UNIP', 'nome': 'Unipar Carbocloro ', 'sector': 'Petroquímicos e Borracha', 'color': 'red', 'PL': '2.82 MM', 'symbol': 'side', 'PM': '0.0', 'gain': '0%', 'CMP': 'YoY'}, {'tick': 'USIM', 'nome': 'Usinas Sid De Minas Gerais -Usiminas', 'sector': 'Metalurgia e Siderurgia', 'color': 'red', 'PL': '24.29 MM', 'symbol': 'side', 'PM': '0.0', 'gain': '0%', 'CMP': 'YoY'}, {'tick': 'VALE', 'nome': 'Vale ', 'sector': 'Extração Mineral', 'color': 'green', 'PL': '179.54 MM', 'symbol': 'side', 'PM': '0.0', 'gain': '0%', 'CMP': 'YoY'}, {'tick': 'VAMO', 'nome': 'Vamos Locação De Caminhões, Máquinas E Equipamentos ', 'sector': 'Logistica', 'color': 'orange', 'PL': '3.66 MM', 'symbol': 'side', 'PM': '0.0', 'gain': '0%', 'CMP': 'YoY'}, {'tick': 'VBBR', 'nome': 'Vibra Energia S/A', 'sector': 'Comércio', 'color': 'red', 'PL': '12.64 MM', 'symbol': 'side', 'PM': '0.0', 'gain': '0%', 'CMP': 'YoY'}, {'tick': 'VIIA', 'nome': 'Via ', 'sector': 'Comércio', 'color': 'red', 'PL': '5.50 MM', 'symbol': 'side', 'PM': '0.0', 'gain': '0%', 'CMP': 'YoY'}, {'tick': 'VIVA', 'nome': 'Vivara Participações ', 'sector': 'Comércio', 'color': 'red', 'PL': '1.58 BI', 'symbol': 'side', 'PM': '0.0', 'gain': '0%', 'CMP': 'YoY'}, {'tick': 'VIVR', 'nome': 'Viver Incorporadora E Construtora ', 'sector': 'Construção Civil', 'color': 'red', 'PL': None, 'symbol': 'side', 'PM': '0.0', 'gain': '0%', 'CMP': 'YoY'}, {'tick': 'VIVT', 'nome': 'Telefônica Brasil S.A', 'sector': 'Telecomunicação', 'color': 'red', 'PL': '69.09 MM', 'symbol': 'side', 'PM': '0.0', 'gain': '0%', 'CMP': 'YoY'}, {'tick': 'VLID', 'nome': 'Valid Soluções ', 'sector': 'Gráficas e Editoras', 'color': 'orange', 'PL': '1.27 MM', 'symbol': 'side', 'PM': '0.0', 'gain': '0%', 'CMP': 'YoY'}, {'tick': 'VSPT', 'nome': 'Ferrovia Centro-Atlantica ', 'sector': 'Logistica', 'color': 'red', 'PL': '4.15 MM', 'symbol': 'side', 'PM': '0.0', 'gain': '0%', 'CMP': 'YoY'}, {'tick': 'VULC', 'nome': 'Vulcabras ', 'sector': 'Têxtil e Vestuário', 'color': 'red', 'PL': '1.61 MM', 'symbol': 'side', 'PM': '0.0', 'gain': '0%', 'CMP': 'YoY'}, {'tick': 'WEGE', 'nome': 'Weg ', 'sector': 'Industria', 'color': 'red', 'PL': '13.89 MM', 'symbol': 'side', 'PM': '0.0', 'gain': '0%', 'CMP': 'YoY'}, {'tick': 'WEST', 'nome': 'Westwing Comércio Vareji', 'sector': 'Comércio', 'color': 'orange', 'PL': '351.39 Mil', 'symbol': 'side', 'PM': '0.0', 'gain': '0%', 'CMP': 'YoY'}, {'tick': 'WHRL', 'nome': 'Whirlpool ', 'sector': 'Industria', 'color': 'orange', 'PL': '2.44 MM', 'symbol': 'side', 'PM': '0.0', 'gain': '0%', 'CMP': 'YoY'}, {'tick': 'WIZS', 'nome': 'Wiz Co Participações E Corretagem De Seguros ', 'sector': 'Seguradoras e Corretoras', 'color': 'orange', 'PL': '435.29 Mil', 'symbol': 'side', 'PM': '0.0', 'gain': '0%', 'CMP': 'YoY'}, {'tick': 'WLMM', 'nome': 'Wlm Part. E Comércio De Máquinas E Veículos ', 'sector': 'Industria', 'color': 'green', 'PL': '605.08 Mil', 'symbol': 'side', 'PM': '0.0', 'gain': '0%', 'CMP': 'YoY'}, {'tick': 'YDUQ', 'nome': 'Yduqs Participacoes ', 'sector': 'Educação', 'color': 'orange', 'PL': '3.02 MM', 'symbol': 'side', 'PM': '0.0', 'gain': '0%', 'CMP': 'YoY'}]\n"
     ]
    }
   ],
   "source": [
    "print(dados)"
   ]
  },
  {
   "cell_type": "code",
   "execution_count": 53,
   "id": "374000c1",
   "metadata": {},
   "outputs": [],
   "source": [
    "divi=pd.read_csv(fr'C:\\Users\\marqu\\Desktop\\Marcus\\Estudos Finanças\\IA_FINAN-AS_APS_2023\\diz\\fre_cia_aberta_distribuicao_dividendos_classe_acao_2022.csv',delimiter=';',encoding=\"latin-1\",decimal='.')\n",
    "company_infor=pd.read_csv(fr'C:\\Users\\marqu\\Desktop\\Marcus\\Estudos Finanças\\IA_FINAN-AS_APS_2023\\diz\\fre_cia_aberta_distribuicao_capital_2022.csv',delimiter=';',encoding=\"latin-1\",decimal='.')\n",
    "divi=divi[(divi['CNPJ_Companhia']=='33.000.167/0001-01')&(divi['Data_Pagamento_Dividendo']=='2022-05-16')].reset_index(drop=True)\n",
    "company_infor=company_infor[(company_infor['CNPJ_Companhia']=='33.000.167/0001-01')].reset_index(drop=True).drop_duplicates(subset='CNPJ_Companhia')"
   ]
  },
  {
   "cell_type": "code",
   "execution_count": 56,
   "id": "3d4ec737",
   "metadata": {},
   "outputs": [
    {
     "data": {
      "text/html": [
       "<div>\n",
       "<style scoped>\n",
       "    .dataframe tbody tr th:only-of-type {\n",
       "        vertical-align: middle;\n",
       "    }\n",
       "\n",
       "    .dataframe tbody tr th {\n",
       "        vertical-align: top;\n",
       "    }\n",
       "\n",
       "    .dataframe thead th {\n",
       "        text-align: right;\n",
       "    }\n",
       "</style>\n",
       "<table border=\"1\" class=\"dataframe\">\n",
       "  <thead>\n",
       "    <tr style=\"text-align: right;\">\n",
       "      <th></th>\n",
       "      <th>CNPJ_Companhia</th>\n",
       "      <th>Data_Referencia</th>\n",
       "      <th>Versao</th>\n",
       "      <th>ID_Documento</th>\n",
       "      <th>Quantidade_Acionistas_PF</th>\n",
       "      <th>Quantidade_Acionistas_PJ</th>\n",
       "      <th>Quantidade_Acionistas_Investidores_Institucionais</th>\n",
       "      <th>Quantidade_Acoes_Ordinarias_Circulacao</th>\n",
       "      <th>Percentual_Acoes_Ordinarias_Circulacao</th>\n",
       "      <th>Quantidade_Acoes_Preferenciais_Circulacao</th>\n",
       "      <th>Percentual_Acoes_Preferenciais_Circulacao</th>\n",
       "      <th>Quantidade_Total_Acoes_Circulacao</th>\n",
       "      <th>Percentual_Total_Acoes_Circulacao</th>\n",
       "      <th>Data_Ultima_Assembleia</th>\n",
       "    </tr>\n",
       "  </thead>\n",
       "  <tbody>\n",
       "    <tr>\n",
       "      <th>0</th>\n",
       "      <td>33.000.167/0001-01</td>\n",
       "      <td>2022-01-01</td>\n",
       "      <td>26</td>\n",
       "      <td>126948</td>\n",
       "      <td>858992</td>\n",
       "      <td>5807</td>\n",
       "      <td>2748</td>\n",
       "      <td>3701760571</td>\n",
       "      <td>49.7399</td>\n",
       "      <td>4566511125</td>\n",
       "      <td>81.5151</td>\n",
       "      <td>8268271696</td>\n",
       "      <td>63.3851</td>\n",
       "      <td>2022-11-30</td>\n",
       "    </tr>\n",
       "  </tbody>\n",
       "</table>\n",
       "</div>"
      ],
      "text/plain": [
       "       CNPJ_Companhia Data_Referencia  Versao  ID_Documento  \\\n",
       "0  33.000.167/0001-01      2022-01-01      26        126948   \n",
       "\n",
       "   Quantidade_Acionistas_PF  Quantidade_Acionistas_PJ  \\\n",
       "0                    858992                      5807   \n",
       "\n",
       "   Quantidade_Acionistas_Investidores_Institucionais  \\\n",
       "0                                               2748   \n",
       "\n",
       "   Quantidade_Acoes_Ordinarias_Circulacao  \\\n",
       "0                              3701760571   \n",
       "\n",
       "   Percentual_Acoes_Ordinarias_Circulacao  \\\n",
       "0                                 49.7399   \n",
       "\n",
       "   Quantidade_Acoes_Preferenciais_Circulacao  \\\n",
       "0                                 4566511125   \n",
       "\n",
       "   Percentual_Acoes_Preferenciais_Circulacao  \\\n",
       "0                                    81.5151   \n",
       "\n",
       "   Quantidade_Total_Acoes_Circulacao  Percentual_Total_Acoes_Circulacao  \\\n",
       "0                         8268271696                            63.3851   \n",
       "\n",
       "  Data_Ultima_Assembleia  \n",
       "0             2022-11-30  "
      ]
     },
     "execution_count": 56,
     "metadata": {},
     "output_type": "execute_result"
    }
   ],
   "source": [
    "company_infor"
   ]
  },
  {
   "cell_type": "code",
   "execution_count": 57,
   "id": "972de277",
   "metadata": {},
   "outputs": [
    {
     "data": {
      "text/html": [
       "<div>\n",
       "<style scoped>\n",
       "    .dataframe tbody tr th:only-of-type {\n",
       "        vertical-align: middle;\n",
       "    }\n",
       "\n",
       "    .dataframe tbody tr th {\n",
       "        vertical-align: top;\n",
       "    }\n",
       "\n",
       "    .dataframe thead th {\n",
       "        text-align: right;\n",
       "    }\n",
       "</style>\n",
       "<table border=\"1\" class=\"dataframe\">\n",
       "  <thead>\n",
       "    <tr style=\"text-align: right;\">\n",
       "      <th></th>\n",
       "      <th>CNPJ_Companhia</th>\n",
       "      <th>Data_Referencia</th>\n",
       "      <th>Versao</th>\n",
       "      <th>ID_Documento</th>\n",
       "      <th>Data_Inicio_Exercicio_Social</th>\n",
       "      <th>Data_Fim_Exercicio_Social</th>\n",
       "      <th>Especie_Acao</th>\n",
       "      <th>Classe_Acao</th>\n",
       "      <th>Dividendo_Distribuido</th>\n",
       "      <th>Montante</th>\n",
       "      <th>Data_Pagamento_Dividendo</th>\n",
       "    </tr>\n",
       "  </thead>\n",
       "  <tbody>\n",
       "    <tr>\n",
       "      <th>0</th>\n",
       "      <td>33.000.167/0001-01</td>\n",
       "      <td>2022-01-01</td>\n",
       "      <td>26</td>\n",
       "      <td>126948</td>\n",
       "      <td>2021-01-01</td>\n",
       "      <td>2021-12-31</td>\n",
       "      <td>Ordinária</td>\n",
       "      <td>NaN</td>\n",
       "      <td>Dividendo Obrigatório</td>\n",
       "      <td>2.129279e+10</td>\n",
       "      <td>2022-05-16</td>\n",
       "    </tr>\n",
       "    <tr>\n",
       "      <th>1</th>\n",
       "      <td>33.000.167/0001-01</td>\n",
       "      <td>2022-01-01</td>\n",
       "      <td>26</td>\n",
       "      <td>126948</td>\n",
       "      <td>2021-01-01</td>\n",
       "      <td>2021-12-31</td>\n",
       "      <td>Preferencial</td>\n",
       "      <td>NaN</td>\n",
       "      <td>Dividendo Obrigatório</td>\n",
       "      <td>1.602766e+10</td>\n",
       "      <td>2022-05-16</td>\n",
       "    </tr>\n",
       "  </tbody>\n",
       "</table>\n",
       "</div>"
      ],
      "text/plain": [
       "       CNPJ_Companhia Data_Referencia  Versao  ID_Documento  \\\n",
       "0  33.000.167/0001-01      2022-01-01      26        126948   \n",
       "1  33.000.167/0001-01      2022-01-01      26        126948   \n",
       "\n",
       "  Data_Inicio_Exercicio_Social Data_Fim_Exercicio_Social  Especie_Acao  \\\n",
       "0                   2021-01-01                2021-12-31     Ordinária   \n",
       "1                   2021-01-01                2021-12-31  Preferencial   \n",
       "\n",
       "  Classe_Acao  Dividendo_Distribuido      Montante Data_Pagamento_Dividendo  \n",
       "0         NaN  Dividendo Obrigatório  2.129279e+10               2022-05-16  \n",
       "1         NaN  Dividendo Obrigatório  1.602766e+10               2022-05-16  "
      ]
     },
     "execution_count": 57,
     "metadata": {},
     "output_type": "execute_result"
    }
   ],
   "source": [
    "divi"
   ]
  },
  {
   "cell_type": "code",
   "execution_count": 65,
   "id": "50ad8f9a",
   "metadata": {},
   "outputs": [
    {
     "data": {
      "text/plain": [
       "1.9384538006514487"
      ]
     },
     "execution_count": 65,
     "metadata": {},
     "output_type": "execute_result"
    }
   ],
   "source": [
    "X"
   ]
  },
  {
   "cell_type": "code",
   "execution_count": null,
   "id": "6c4d303f",
   "metadata": {},
   "outputs": [],
   "source": []
  }
 ],
 "metadata": {
  "kernelspec": {
   "display_name": "Python 3 (ipykernel)",
   "language": "python",
   "name": "python3"
  },
  "language_info": {
   "codemirror_mode": {
    "name": "ipython",
    "version": 3
   },
   "file_extension": ".py",
   "mimetype": "text/x-python",
   "name": "python",
   "nbconvert_exporter": "python",
   "pygments_lexer": "ipython3",
   "version": "3.9.13"
  }
 },
 "nbformat": 4,
 "nbformat_minor": 5
}
