{
 "cells": [
  {
   "cell_type": "markdown",
   "id": "1443276f",
   "metadata": {},
   "source": [
    "# 1.Pré tratamento dos dados para análise."
   ]
  },
  {
   "cell_type": "code",
   "execution_count": 1,
   "id": "001adca9",
   "metadata": {},
   "outputs": [],
   "source": [
    "from sklearn.cluster import KMeans\n",
    "from sklearn.preprocessing import StandardScaler, normalize\n",
    "from sklearn.decomposition import PCA\n",
    "import pandas as pd\n",
    "import numpy as np\n",
    "from datetime import date, datetime\n",
    "from dateutil.relativedelta import relativedelta\n",
    "from sklearn.preprocessing import PolynomialFeatures\n",
    "from sklearn.pipeline import make_pipeline\n",
    "from sklearn.linear_model import LinearRegression\n",
    "import warnings\n",
    "warnings.filterwarnings(\"ignore\")"
   ]
  },
  {
   "cell_type": "code",
   "execution_count": 2,
   "id": "c2993c3a",
   "metadata": {},
   "outputs": [],
   "source": [
    "df=pd.read_csv(r\"Cuspidão\\Completao.csv\",delimiter=';',encoding=\"latin-1\",decimal=',')"
   ]
  },
  {
   "cell_type": "markdown",
   "id": "5d6e52f9",
   "metadata": {},
   "source": [
    "# Criar variáveis gerais"
   ]
  },
  {
   "cell_type": "code",
   "execution_count": 3,
   "id": "8db85fdc",
   "metadata": {},
   "outputs": [],
   "source": [
    "#Cria um variável com o nome de todos os setores do dataset e cria uma flag para se tem somente essa empresa no setor\n",
    "ListofCompanies=df.drop_duplicates(subset=['SETOR_ATIV','Nome Empresa'])\n",
    "ListofCompanies=ListofCompanies['SETOR_ATIV'].value_counts()\n",
    "ListofCompanies=pd.DataFrame(ListofCompanies)\n",
    "Listof1Companies=ListofCompanies[ListofCompanies['SETOR_ATIV']<4]\n",
    "ListofCompanies=ListofCompanies[ListofCompanies['SETOR_ATIV']>=4]\n",
    "ListofCompanies['Flag1Company']=0\n",
    "Listof1Companies['Flag1Company']=1\n",
    "ListofCompanies=pd.concat([ListofCompanies,Listof1Companies])\n",
    "ListofCompanies['SETOR_ATIV']=ListofCompanies.index\n",
    "\n",
    "#Cria Variáveis de Cuspir\n",
    "DF_Polyline=pd.DataFrame()\n",
    "DF_Cuspidao=pd.DataFrame()\n",
    "DF_Cuspidao2=pd.DataFrame()\n",
    "DF_Cuspidao_BAU=pd.DataFrame()\n",
    "DF_Cuspidao_RESTO=pd.DataFrame()\n",
    "df_produ_kmeans_REST_ALL=pd.DataFrame()"
   ]
  },
  {
   "cell_type": "markdown",
   "id": "057cfec9",
   "metadata": {},
   "source": [
    "# Pré tratar dados para modelos\n"
   ]
  },
  {
   "cell_type": "code",
   "execution_count": 4,
   "id": "45d57da5",
   "metadata": {},
   "outputs": [],
   "source": [
    "#Criar ano e mes\n",
    "df['Ano']=df['DT_REFER'].apply(str).str[0:4]\n",
    "df['Mes']=df['DT_REFER'].apply(str).str[5:7]\n",
    "#Transformar colunas negativas em positivas\n",
    "df['Passivo Circulante']=df['Passivo Circulante']*-1\n",
    "df['Passivo Total']=df['Passivo Total']*-1\n",
    "#Coloca a Flag de 1 company no dataset central\n",
    "df1 = pd.merge( ListofCompanies,df, left_on='SETOR_ATIV', right_on='SETOR_ATIV')\n"
   ]
  },
  {
   "cell_type": "code",
   "execution_count": 5,
   "id": "4bed0a3e",
   "metadata": {},
   "outputs": [],
   "source": [
    "df_produ=df1"
   ]
  },
  {
   "cell_type": "code",
   "execution_count": 6,
   "id": "69a55555",
   "metadata": {},
   "outputs": [],
   "source": [
    "#Transforma as relações de indicadores para clusterizar em numeros, para o for andar de lado.\n",
    "df_produ[14]=df_produ['Ativo Circulante'].clip(lower=0)\n",
    "df_produ[13]=df_produ['Patrimônio Líquido'].clip(lower=0)\n",
    "df_produ[12]=df_produ['Passivo Circulante'].clip(upper=0)\n",
    "df_produ[11]=df_produ['Patrimônio Líquido'].clip(lower=0)\n",
    "df_produ[10]=df_produ['Passivo Total'].clip(upper=0)\n",
    "df_produ[9]=df_produ['Patrimônio Líquido'].clip(lower=0)\n",
    "df_produ[8]=df_produ['Ativo Total'].clip(lower=0)\n",
    "df_produ[7]=df_produ['Patrimônio Líquido'].clip(lower=0)\n",
    "df_produ[6]=df_produ['Reservas de Lucro'].clip(lower=0)\n",
    "df_produ[5]=df_produ['Receita'].clip(lower=0)\n",
    "df_produ[4]=df_produ['Receita'].clip(lower=0)\n",
    "df_produ[3]=df_produ['Patrimônio Líquido'].clip(lower=0)\n",
    "df_produ[2]=df_produ['Receita'].clip(lower=0)\n",
    "df_produ[1]=df_produ['Lucro/Prejuízo do Período'].clip(lower=0)"
   ]
  },
  {
   "cell_type": "markdown",
   "id": "8a1ddd54",
   "metadata": {},
   "source": [
    "# Clusterizar as empresas com dados realizados"
   ]
  },
  {
   "cell_type": "code",
   "execution_count": 7,
   "id": "8160b4ee",
   "metadata": {},
   "outputs": [],
   "source": [
    "df_provisorio=df_produ\n",
    "df_provisorio=df_provisorio[['Nome Empresa',\n",
    "                             'Ticker',\n",
    "                             'SETOR_ATIV',\n",
    "                             'Flag1Company',\n",
    "                             'DT_REFER',\n",
    "                             'Ano',\n",
    "                             'Mes',\n",
    "                             1,2,3,4,5,6,7,8,9,10,11,12,13,14]]\n",
    "#BAU KMEANS\n",
    "for y in range(1,13):\n",
    "    for x in ListofCompanies.index.values:\n",
    "        if y==1:\n",
    "            y1=1\n",
    "            y2=2\n",
    "        else:\n",
    "            y1=y+1\n",
    "            y2=y+2\n",
    "        #filtra o setor\n",
    "        df_produ_kmeans=df_provisorio[(df_provisorio['SETOR_ATIV']==x)&(df_provisorio['Flag1Company']==0)].reset_index(drop=True)\n",
    "      \n",
    "        Tcks_count=df_produ_kmeans.drop_duplicates(subset=['Ticker','DT_REFER'])\n",
    "        Tcks_count=Tcks_count['DT_REFER'].value_counts()\n",
    "        Tcks_count_mean=Tcks_count.mean()\n",
    "        Tcks_count=pd.DataFrame(Tcks_count)\n",
    "        ListOFTRI=Tcks_count[Tcks_count['DT_REFER']>=Tcks_count_mean]\n",
    "        ListOFTRI['DATE']=ListOFTRI.index\n",
    "        AnoMAX=ListOFTRI['DATE'].apply(str).str[0:4].max()\n",
    "        MesMAX=ListOFTRI['DATE'].apply(str).str[5:7].max()\n",
    "\n",
    "        #Filtrar ano e mês (ultimo tri de cada setor)\n",
    "        df_produ_kmeans=df_produ_kmeans[(df_produ_kmeans[\"Ano\"]==AnoMAX)&(df_produ_kmeans[\"Mes\"]==MesMAX)].reset_index(drop=True)      \n",
    "        #Clusteriza as empresas com valores negativos como 0 (ruim)\n",
    "        df_produ_kmeans_REST_NO=df_produ_kmeans[(df_produ_kmeans[y1]==0)|(df_produ_kmeans[y2]==0)].reset_index(drop=True)\n",
    "        df_produ_kmeans_REST_NO[f\"{y1}{y2} Cluster\"]=0\n",
    "        #Separa as empresas que são elegíveis a escalabilidade e a clusterização\n",
    "        df_produ_kmeans=df_produ_kmeans[(df_produ_kmeans[y1]!=0)&(df_produ_kmeans[y2]!=0)].reset_index(drop=True)\n",
    "        df_produ_kmeans=df_produ_kmeans.sort_values(by=[y1,y2]).reset_index(drop=True)\n",
    "        \n",
    "        #se tiver mais de 1 amostra (empresa)\n",
    "        if len(df_produ_kmeans)>=2:\n",
    "            #FAÇO A ESCALABILIDADE COM STANDARD\n",
    "            scaler = StandardScaler() \n",
    "            pca = PCA(n_components = 2) \n",
    "            features= df_produ_kmeans[[y1,y2]]\n",
    "            scaled_df = scaler.fit_transform(features) \n",
    "            normalized_df = normalize(scaled_df) \n",
    "            normalized_df = pd.DataFrame(normalized_df)\n",
    "            #E DEPOIS REDUZO AS DIMENSÕES E CORRELAÇÕES COM O PCA\n",
    "            X_principal = pca.fit_transform(normalized_df) \n",
    "            features = pd.DataFrame(X_principal) \n",
    "            features.columns = ['P1', 'P2']\n",
    "            c=3\n",
    "            if len(features)<3:\n",
    "                c=len(features)\n",
    "                \n",
    "            #DOU UM FIT NO KMEANS\n",
    "            kmeans = KMeans(n_clusters=c, init='random',\n",
    "                        n_init=10,\n",
    "                        max_iter=300,random_state=0)\n",
    "            kmeans.fit(features)\n",
    "            #DPS EU FAÇO A CLUSTERIZAÇÃO\n",
    "            d = KMeans(n_clusters=c, init='random',\n",
    "                        n_init=10,\n",
    "                        max_iter=300,random_state=0).fit_predict(features)\n",
    "            df_produ_kmeans[f\"{y1}{y2} Cluster\"]=d\n",
    "            DF_Cuspidao2=pd.concat([df_produ_kmeans,df_produ_kmeans_REST_NO]).reset_index(drop=True)\n",
    "            DF_Cuspidao_BAU=pd.concat([DF_Cuspidao2,DF_Cuspidao_BAU]).reset_index(drop=True)\n",
    "        else:\n",
    "            DF_Cuspidao2=pd.concat([df_produ_kmeans,df_produ_kmeans_REST_NO]).reset_index(drop=True)\n",
    "            DF_Cuspidao_BAU=pd.concat([DF_Cuspidao2,DF_Cuspidao_BAU]).reset_index(drop=True)\n",
    "    df_provisorio=DF_Cuspidao_BAU\n",
    "    DF_Cuspidao2=pd.DataFrame()\n",
    "    DF_Cuspidao_BAU=pd.DataFrame()\n",
    "    \n",
    "DF_Cuspidao_BAU=df_provisorio\n",
    "DF_Cuspidao=pd.DataFrame()\n",
    "df_provisorio=df_produ\n",
    "df_provisorio=df_provisorio[['Nome Empresa',\n",
    "                             'Ticker',\n",
    "                             'SETOR_ATIV',\n",
    "                             'Flag1Company',\n",
    "                             'DT_REFER',\n",
    "                             'Ano',\n",
    "                             'Mes',\n",
    "                             1,2,3,4,5,6,7,8,9,10,11,12,13,14]]\n",
    "#REJEITADOS KMEANS\n",
    "for y in range(1,13):\n",
    "    if y==1:\n",
    "        y1=1\n",
    "        y2=2\n",
    "    else:\n",
    "        y1=y+1\n",
    "        y2=y+2\n",
    "    #filtra o setor\n",
    "    df_produ_kmeans=df_provisorio[(df_provisorio['Flag1Company']==1)].reset_index(drop=True)\n",
    "    Tcks_count=df_produ_kmeans.drop_duplicates(subset=['Ticker','DT_REFER'])\n",
    "    Tcks_count=Tcks_count['DT_REFER'].value_counts()\n",
    "    Tcks_count_mean=Tcks_count.mean()\n",
    "    Tcks_count=pd.DataFrame(Tcks_count)\n",
    "    ListOFTRI=Tcks_count[Tcks_count['DT_REFER']>=Tcks_count_mean]\n",
    "    ListOFTRI['DATE']=ListOFTRI.index\n",
    "    AnoMAX=ListOFTRI['DATE'].apply(str).str[0:4].max()\n",
    "    MesMAX=ListOFTRI['DATE'].apply(str).str[5:7].max()\n",
    "    #Filtrar ano e mês (ultimo tri de cada setor)\n",
    "    df_produ_kmeans=df_produ_kmeans[(df_produ_kmeans[\"Ano\"]==AnoMAX)&(df_produ_kmeans[\"Mes\"]==MesMAX)].reset_index(drop=True)\n",
    "    #Clusteriza as empresas com valores negativos como 0 (ruim)\n",
    "    df_produ_kmeans_REST_NO=df_produ_kmeans[(df_produ_kmeans[y1]==0)|(df_produ_kmeans[y2]==0)].reset_index(drop=True)\n",
    "    df_produ_kmeans_REST_NO[f\"{y1}{y2} Cluster\"]=0\n",
    "    #Separa as empresas que são elegíveis a escalabilidade e a clusterização\n",
    "    df_produ_kmeans=df_produ_kmeans[(df_produ_kmeans[y1]!=0)&(df_produ_kmeans[y2]!=0)].reset_index(drop=True)\n",
    "    df_produ_kmeans=df_produ_kmeans.sort_values(by=[y1,y2]).reset_index(drop=True)\n",
    "    #se tiver mais de 1 amostra (empresa)\n",
    "    if len(df_produ_kmeans)>=2:\n",
    "        #FAÇO A ESCALABILIDADE COM STANDARD\n",
    "        scaler = StandardScaler() \n",
    "        pca = PCA(n_components = 2) \n",
    "        features= df_produ_kmeans[[y1,y2]]\n",
    "        scaled_df = scaler.fit_transform(features) \n",
    "        normalized_df = normalize(scaled_df) \n",
    "        normalized_df = pd.DataFrame(normalized_df)\n",
    "        #E DEPOIS REDUZO AS DIMENSÕES E CORRELAÇÕES COM O PCA\n",
    "        X_principal = pca.fit_transform(normalized_df) \n",
    "        features = pd.DataFrame(X_principal) \n",
    "        features.columns = ['P1', 'P2']\n",
    "        c=3\n",
    "        if len(features)<3:\n",
    "            c=len(features)\n",
    "        #DOU UM FIT NO KMEANS\n",
    "        kmeans = KMeans(n_clusters=c, init='random',\n",
    "                    n_init=10,\n",
    "                    max_iter=300,random_state=0)\n",
    "        kmeans.fit(features)\n",
    "        #DPS EU FAÇO A CLUSTERIZAÇÃO\n",
    "        d = KMeans(n_clusters=c, init='random',\n",
    "                    n_init=10,\n",
    "                    max_iter=300,random_state=0).fit_predict(features)\n",
    "        df_produ_kmeans[f\"{y1}{y2} Cluster\"]=d\n",
    "        DF_Cuspidao2=pd.concat([df_produ_kmeans,df_produ_kmeans_REST_NO]).reset_index(drop=True)\n",
    "        DF_Cuspidao_RESTO=pd.concat([DF_Cuspidao2,DF_Cuspidao_RESTO]).reset_index(drop=True)\n",
    "    else:\n",
    "        DF_Cuspidao2=pd.concat([df_produ_kmeans,df_produ_kmeans_REST_NO]).reset_index(drop=True)\n",
    "        DF_Cuspidao_RESTO=pd.concat([DF_Cuspidao2,DF_Cuspidao_RESTO]).reset_index(drop=True)\n",
    "    df_provisorio=DF_Cuspidao_RESTO\n",
    "    DF_Cuspidao2=pd.DataFrame()\n",
    "    DF_Cuspidao_RESTO=pd.DataFrame()\n",
    "DF_kmeans=pd.concat([DF_Cuspidao_BAU,df_provisorio]).reset_index(drop=True)\n",
    "DF_kmeans[\"Dados\"]=\"Realizado\""
   ]
  },
  {
   "cell_type": "code",
   "execution_count": 8,
   "id": "6b3a891c",
   "metadata": {},
   "outputs": [],
   "source": [
    "DF_kmeans=DF_kmeans[['Nome Empresa','Ticker','SETOR_ATIV','DT_REFER',\"Dados\",\n",
    "             1,2,3,4,5,6,7,8,9,10,11,12,13,14,\n",
    "            '12 Cluster',\n",
    "            '34 Cluster',\n",
    "            '56 Cluster',\n",
    "            '78 Cluster',\n",
    "            '910 Cluster',\n",
    "            '1112 Cluster',\n",
    "            '1314 Cluster',\n",
    "             ]]"
   ]
  },
  {
   "cell_type": "markdown",
   "id": "b8b8d4dc",
   "metadata": {},
   "source": [
    "# Prever os próximos 4 tri"
   ]
  },
  {
   "cell_type": "code",
   "execution_count": 9,
   "id": "38755ef8",
   "metadata": {},
   "outputs": [],
   "source": [
    "#Separo os indicadores que eu quero prever\n",
    "df_produ[11]=df_produ['Obrigações Fiscais']\n",
    "df_produ[10]=df_produ['Obrigações Sociais e Trabalhistas']\n",
    "df_produ[9]=df_produ['Contas a Receber']\n",
    "df_produ[8]=df_produ['Ativo Circulante']\n",
    "df_produ[7]=df_produ['Passivo Circulante']\n",
    "df_produ[6]=df_produ['Passivo Total']\n",
    "df_produ[5]=df_produ['Ativo Total']\n",
    "df_produ[4]=df_produ['Reservas de Lucro']\n",
    "df_produ[3]=df_produ['Patrimônio Líquido']\n",
    "df_produ[2]=df_produ['Receita']\n",
    "df_produ[1]=df_produ['Lucro/Prejuízo do Período']"
   ]
  },
  {
   "cell_type": "code",
   "execution_count": 10,
   "id": "94532911",
   "metadata": {},
   "outputs": [],
   "source": [
    "df_provisorio=df_produ\n",
    "df_provisorio=df_provisorio[['Nome Empresa',\n",
    "                             'Ticker',\n",
    "                             'SETOR_ATIV',\n",
    "                             'Flag1Company',\n",
    "                             'DT_REFER',\n",
    "                             'Ano',\n",
    "                             'Mes',\n",
    "                             1,2,3,4,5,6,7,8,9,10,11]]\n",
    "\n",
    "#pego a lista de empresas para analisar\n",
    "LitsofTickers=df_provisorio.drop_duplicates(subset='Ticker')\n",
    "LitsofTickers=LitsofTickers['Ticker'].values\n",
    "for x in LitsofTickers:\n",
    "    DF_Poly=df_provisorio[df_provisorio['Ticker']==x].reset_index(drop=True)\n",
    "    DF_Poly.sort_values(by=['DT_REFER']).reset_index(drop=True)\n",
    "    #transformo os indexes em variáveis e a data em datetime\n",
    "    DF_Poly[\"indexes\"]=DF_Poly.index\n",
    "    DF_Poly['DT_REFER']=pd.to_datetime(DF_Poly['DT_REFER'])\n",
    "    #pego a ultima linha dessa empresa para pegar as informações principais para criar um novo dataset\n",
    "    Lastmonth=DF_Poly.iloc[-1]['DT_REFER']\n",
    "    Lastname=DF_Poly.iloc[-1]['Nome Empresa']\n",
    "    Lastsector=DF_Poly.iloc[-1]['SETOR_ATIV']\n",
    "    Lastnamesub=DF_Poly.iloc[-1]['Ticker']\n",
    "    Lastindex=DF_Poly.iloc[-1]['indexes']\n",
    "    #Crio as datas que eu quero ver la na frente,baseado na data do ultimo balanço\n",
    "    Lastmonth1=Lastmonth+ relativedelta(months=+3)\n",
    "    Lastmonth2=Lastmonth+ relativedelta(months=+6)\n",
    "    Lastmonth3=Lastmonth+ relativedelta(months=+9)\n",
    "    Lastmonth4=Lastmonth+ relativedelta(months=+12)\n",
    "    #Crio um dataframe novo com essas datas\n",
    "    Dateto=pd.DataFrame({'Data_REF': [Lastmonth1,Lastmonth2,Lastmonth3,Lastmonth4]})\n",
    "    X_seq=pd.DataFrame({'x': [Lastindex+1,Lastindex+2,Lastindex+3,Lastindex+4]})\n",
    "    #Configuro o modelo polimonial\n",
    "    polyreg=make_pipeline(PolynomialFeatures(3),LinearRegression())\n",
    "    Pred=Dateto\n",
    "    Pred[\"Nome Empresa\"]=Lastname\n",
    "    Pred['Ticker']=Lastnamesub\n",
    "    Pred['SETOR_ATIV']=Lastsector\n",
    "    #Leio o historico de todos os indicadores e faço a previsão\n",
    "    for y in range(1,12):\n",
    "        yy=DF_Poly[['indexes']]\n",
    "        xx=DF_Poly[[y]]\n",
    "        polyreg.fit(yy,xx)\n",
    "        Pred2=polyreg.predict(X_seq)\n",
    "        Pred2=pd.DataFrame(Pred2,columns=[y])\n",
    "        Pred[y]=Pred2\n",
    "    DF_Polyline=pd.concat([Pred,DF_Polyline]).reset_index(drop=True)\n",
    "\n",
    "    \n",
    "DF_Polyline['Ano']=DF_Polyline['Data_REF'].apply(str).str[0:4]\n",
    "DF_Polyline['Mes']=DF_Polyline['Data_REF'].apply(str).str[5:7]\n",
    "DF_Polyline['Dados']=\"Previsão\""
   ]
  },
  {
   "cell_type": "markdown",
   "id": "9c7b6ef5",
   "metadata": {},
   "source": [
    "# Organizar os dados para cuspir no Front"
   ]
  },
  {
   "cell_type": "code",
   "execution_count": 11,
   "id": "934c0ec4",
   "metadata": {},
   "outputs": [],
   "source": [
    "DF_kmeans=DF_kmeans.fillna(0)\n",
    "#Separo as colunas principais do dataset Kmeans e dou um replace nas clusterizações para criar uma nota\n",
    "DF_kmeans_2=DF_kmeans.loc[:,('Ticker','DT_REFER',\"Dados\",'12 Cluster',\n",
    "            '34 Cluster',\n",
    "            '56 Cluster',\n",
    "            '78 Cluster',\n",
    "            '910 Cluster',\n",
    "            '1112 Cluster',\n",
    "            '1314 Cluster')].replace([0,1,2],[0,10,5])\n",
    "#Crio a nota da empresa baseada nos clusters (0 é ruim, 1 é bom e 2 é mediano)\n",
    "DF_kmeans_2['Nota da Empresa']=DF_kmeans_2['12 Cluster']+DF_kmeans_2['34 Cluster']+DF_kmeans_2['56 Cluster']+DF_kmeans_2['78 Cluster']+DF_kmeans_2['910 Cluster']+DF_kmeans_2['1112 Cluster']+DF_kmeans_2['1314 Cluster']\n",
    "DF_kmeans_2['Nota da Empresa']=DF_kmeans_2['Nota da Empresa']/7\n",
    "DF_kmeans_2['Desempenho do Trimestre']=np.where(DF_kmeans_2['Nota da Empresa']<5,\"Ruim\",\n",
    "                                        (np.where((DF_kmeans_2['Nota da Empresa']>=5) & (DF_kmeans_2['Nota da Empresa']<7) ,\"Médio\",\"Bom\")))\n",
    "#Pego o indicador com a melhor nota de clusterização (indicador denominador)\n",
    "DF_kmeans_2['Melhor Indicador1']=(DF_kmeans_2['12 Cluster']+DF_kmeans_2['34 Cluster']+DF_kmeans_2['56 Cluster'])/3\n",
    "DF_kmeans_2['Melhor Indicador2']=(DF_kmeans_2['34 Cluster']+DF_kmeans_2['78 Cluster']+DF_kmeans_2['910 Cluster']+DF_kmeans_2['1112 Cluster']+DF_kmeans_2['1314 Cluster'])/5\n",
    "DF_kmeans_2['Melhor Indicador']=np.where(DF_kmeans_2['Melhor Indicador1']>DF_kmeans_2['Melhor Indicador2'],\"Receita\",\n",
    "                                        (np.where(DF_kmeans_2['Melhor Indicador1']<DF_kmeans_2['Melhor Indicador2'],\"Patrimônio Líquido\",\"Nenhum\")))\n",
    "df_produ=df1\n",
    "#Pego as colunas antigas sem tratamento de clips\n",
    "DF_kmeans_2 = pd.merge(df_produ,DF_kmeans_2 ,left_on=['Ticker','DT_REFER'], right_on=['Ticker','DT_REFER'])\n",
    "DF_kmeans_2['Analise']=DF_kmeans_2['Flag1Company'].replace([0,1],[\"Analise por Setor\",'Analise com outras empresas'])\n",
    "DF_kmeans_2['Tipo de Analise']='Kmeans'\n",
    "#Deixo tudo limpinho e arrumado no dataset kmeans\n",
    "DF_kmeans_2=DF_kmeans_2[['Nome Empresa','Ticker','SETOR_ATIV','Dados','Analise','Tipo de Analise','Melhor Indicador','Desempenho do Trimestre','DT_REFER','Lucro/Prejuízo do Período','Ativo Total','Ativo Circulante','Contas a Receber','Passivo Total','Passivo Circulante','Obrigações Sociais e Trabalhistas','Obrigações Fiscais','Reservas de Lucro','Patrimônio Líquido','Receita']]\n",
    "#Dou nome aos bois no dataset do polimonial\n",
    "DF_Polyline_2=DF_Polyline.rename({'Data_REF': 'DT_REFER', \n",
    "                                  1: 'Lucro/Prejuízo do Período',\n",
    "                                  2: 'Receita', \n",
    "                                  3: 'Patrimônio Líquido', \n",
    "                                  4: 'Reservas de Lucro', \n",
    "                                  5: 'Ativo Total',\n",
    "                                  6: 'Passivo Total', \n",
    "                                  7: 'Passivo Circulante', \n",
    "                                  8: 'Ativo Circulante',\n",
    "                                  9: 'Contas a Receber',\n",
    "                                  10: 'Obrigações Sociais e Trabalhistas',\n",
    "                                  11: 'Obrigações Fiscais',\n",
    "                                 }, axis=1)\n",
    "#Seto as mesmas colunas do kmeans\n",
    "DF_Polyline_2['Melhor Indicador']='Não Analisado'\n",
    "DF_Polyline_2['Desempenho do Trimestre']='Não Analisado'\n",
    "DF_Polyline_2['Nota da Empresa']='Não Analisado'\n",
    "DF_Polyline_2['Analise']='Analise de Historico Financeiro'\n",
    "DF_Polyline_2['Tipo de Analise']='Regressão Polimonial'\n",
    "#Deixo tudo limpinho e arrumado no dataset polimonial\n",
    "DF_Polyline_2=DF_Polyline_2[['Nome Empresa','Ticker','SETOR_ATIV','Dados','Analise','Tipo de Analise','Melhor Indicador','Desempenho do Trimestre','DT_REFER','Lucro/Prejuízo do Período','Ativo Total','Ativo Circulante','Contas a Receber','Passivo Total','Passivo Circulante','Obrigações Sociais e Trabalhistas','Obrigações Fiscais','Reservas de Lucro','Patrimônio Líquido','Receita']]\n",
    "#Deipois junto tudo e cuspo\n",
    "Base_Unica=pd.concat([DF_Polyline_2,DF_kmeans_2]).reset_index(drop=True)\n",
    "Base_Unica.to_csv(rf\"Cuspidão\\Base_Unica.csv\",decimal=',',sep=';', encoding='latin-1',index=False)"
   ]
  },
  {
   "cell_type": "code",
   "execution_count": null,
   "id": "76e02120",
   "metadata": {},
   "outputs": [],
   "source": [
    "C:\\Users\\marqu\\Desktop\\Marcus\\PROJETO\\theras_app\\asset\\Empresas_data"
   ]
  },
  {
   "cell_type": "markdown",
   "id": "d7b79c81",
   "metadata": {},
   "source": [
    "# Código do vitor"
   ]
  },
  {
   "cell_type": "code",
   "execution_count": null,
   "id": "795c587f",
   "metadata": {},
   "outputs": [],
   "source": []
  },
  {
   "cell_type": "markdown",
   "id": "744b12b3",
   "metadata": {},
   "source": [
    "# Cruzar bases e ter uma base unica"
   ]
  },
  {
   "cell_type": "code",
   "execution_count": null,
   "id": "0605eae5",
   "metadata": {},
   "outputs": [],
   "source": []
  },
  {
   "cell_type": "markdown",
   "id": "45acf54b",
   "metadata": {},
   "source": [
    "# PIPELINE CUSPIDOR"
   ]
  },
  {
   "cell_type": "markdown",
   "id": "bd61adcb",
   "metadata": {},
   "source": [
    "# Ajustando setor"
   ]
  },
  {
   "cell_type": "code",
   "execution_count": 118,
   "id": "aa3a14f8",
   "metadata": {},
   "outputs": [],
   "source": [
    "setor_agrup=pd.read_csv(fr\"Depara\\setor_ajust.csv\",delimiter=';',encoding=\"utf-8\",decimal='.')\n"
   ]
  },
  {
   "cell_type": "code",
   "execution_count": 119,
   "id": "0fa29003",
   "metadata": {},
   "outputs": [],
   "source": [
    "#Precisa multiplicar os valores da empresa\n",
    "#Base_Unica['Patrimônio Líquido']=Base_Unica['Patrimônio Líquido']*1000"
   ]
  },
  {
   "cell_type": "code",
   "execution_count": 120,
   "id": "11fa2c31",
   "metadata": {},
   "outputs": [],
   "source": [
    "Base_Unica_json = pd.merge( Base_Unica, setor_agrup, left_on='SETOR_ATIV', right_on='SETOR_ASIS')\n",
    "Base_Unica_json = Base_Unica_json.drop(columns=['SETOR_ATIV','SETOR_ASIS'])"
   ]
  },
  {
   "cell_type": "markdown",
   "id": "74a7cef5",
   "metadata": {},
   "source": [
    "# criar arquivo unico de leitura dos cards"
   ]
  },
  {
   "cell_type": "code",
   "execution_count": null,
   "id": "85b1c3d0",
   "metadata": {},
   "outputs": [],
   "source": []
  },
  {
   "cell_type": "code",
   "execution_count": 121,
   "id": "fae1b738",
   "metadata": {},
   "outputs": [],
   "source": [
    "Base_Unica_CARDS_JSON=Base_Unica_json[Base_Unica_json['Dados']=='Realizado'].reset_index(drop=True)\n",
    "Base_Unica_CARDS_JSON = Base_Unica_CARDS_JSON.groupby(['Ticker','Nome Empresa','Patrimônio Líquido','SETOR_AJUST','Desempenho do Trimestre'])['DT_REFER'].max().reset_index()"
   ]
  },
  {
   "cell_type": "code",
   "execution_count": 122,
   "id": "98a6782c",
   "metadata": {},
   "outputs": [],
   "source": [
    "#Cria a coluna PL do card\n",
    "def formatar_valor(valor):\n",
    "    if valor >= 1000000000:  # Valor em bilhões\n",
    "        valor_dividido = valor / 1000000000\n",
    "        return f'{valor_dividido:.2f} BI'\n",
    "    elif valor >= 1000000:  # Valor em milhões\n",
    "        valor_dividido = valor / 1000000\n",
    "        return f'{valor_dividido:.2f} MM'\n",
    "    elif valor >= 1000: # Valor menor que 1 milhão\n",
    "        valor_dividido = valor / 1000\n",
    "        return f'{valor_dividido:.2f} Mil'\n",
    "    if valor <= -1000000000:  # Valor em bilhões\n",
    "        valor_dividido = valor / 1000000000\n",
    "        return f'{valor_dividido:.2f} BI'\n",
    "    elif valor <= -1000000:  # Valor em milhões\n",
    "        valor_dividido = valor / 1000000\n",
    "        return f'{valor_dividido:.2f} MM'\n",
    "    elif valor <= -1000: # Valor menor que 1 milhão\n",
    "        valor_dividido = valor / 1000\n",
    "        return f'{valor_dividido:.2f} Mil'\n",
    "    \n",
    "Base_Unica_CARDS_JSON['PL'] = Base_Unica_CARDS_JSON ['Patrimônio Líquido'].apply(formatar_valor)"
   ]
  },
  {
   "cell_type": "code",
   "execution_count": 123,
   "id": "38977bfa",
   "metadata": {},
   "outputs": [],
   "source": [
    "#cria a coluna symbol, PM, gain e CMP\n",
    "#coluna PM depende do Preço médio\n",
    "#coluna symbol:down,side e up\n",
    "#coluna CMP: YoY e MoM\n",
    "\n",
    "Base_Unica_CARDS_JSON['symbol'] = \"side\"\n",
    "Base_Unica_CARDS_JSON['PM'] = \"0.0\"\n",
    "Base_Unica_CARDS_JSON['gain'] = \"0%\"\n",
    "Base_Unica_CARDS_JSON['CMP'] = \"YoY\"\n"
   ]
  },
  {
   "cell_type": "code",
   "execution_count": 124,
   "id": "fa59a518",
   "metadata": {},
   "outputs": [],
   "source": [
    "#cria a coluna color\n",
    "\n",
    "def map_desempenho(valor):\n",
    "    if valor == 'Bom':\n",
    "        return 'green'\n",
    "    elif valor == 'Médio':\n",
    "        return 'orange'\n",
    "    elif valor == 'Ruim':\n",
    "        return 'red'\n",
    "    else:\n",
    "        return valor\n",
    "\n",
    "Base_Unica_CARDS_JSON['Desempenho do Trimestre'] = Base_Unica_CARDS_JSON['Desempenho do Trimestre'].apply(map_desempenho)"
   ]
  },
  {
   "cell_type": "code",
   "execution_count": 125,
   "id": "3c628478",
   "metadata": {},
   "outputs": [],
   "source": [
    "#faz os ajustes finais\n",
    "Base_Unica_CARDS_JSON = Base_Unica_CARDS_JSON.rename(columns={'Ticker':'tick',\n",
    "                                                              'Nome Empresa':'nome',\n",
    "                                                             'SETOR_AJUST':'sector',\n",
    "                                                             'Desempenho do Trimestre':'color'\n",
    "                                                             })\n",
    "Base_Unica_CARDS_JSON=Base_Unica_CARDS_JSON.drop(columns=['Patrimônio Líquido','DT_REFER'])\n"
   ]
  },
  {
   "cell_type": "code",
   "execution_count": 126,
   "id": "bcaaaf61",
   "metadata": {},
   "outputs": [],
   "source": [
    "Base_Unica_CARDS_JSON.to_excel(\"teste.xlsx\")"
   ]
  },
  {
   "cell_type": "markdown",
   "id": "c9a784d0",
   "metadata": {},
   "source": [
    "# Salva os Jsons\n"
   ]
  },
  {
   "cell_type": "code",
   "execution_count": 127,
   "id": "7be0db49",
   "metadata": {},
   "outputs": [],
   "source": [
    "\n",
    "# Converta o DataFrame selecionado em uma lista de dicionários\n",
    "dados = Base_Unica_CARDS_JSON.to_dict('records')\n",
    "\n",
    "# Salve os dados como um arquivo JSON\n",
    "import json\n",
    "with open('pipeline/cards_main.json', 'w', encoding='utf-8') as arquivo:\n",
    "    json.dump(dados, arquivo, ensure_ascii=False)"
   ]
  },
  {
   "cell_type": "code",
   "execution_count": null,
   "id": "be7d9a3c",
   "metadata": {},
   "outputs": [],
   "source": []
  },
  {
   "cell_type": "code",
   "execution_count": 128,
   "id": "5c0d2aea",
   "metadata": {},
   "outputs": [
    {
     "name": "stdout",
     "output_type": "stream",
     "text": [
      "[{'tick': 'AALR', 'nome': 'CENTRO DE IMAGEM DIAGNOSTICOS S.A.', 'sector': 'Serviços Médicos', 'color': 'orange', 'PL': '1072.55 BI', 'symbol': 'side', 'PM': '0.0', 'gain': '0%', 'CMP': 'YoY'}, {'tick': 'ABCB', 'nome': 'BCO ABC BRASIL S.A.', 'sector': 'Bancos', 'color': 'red', 'PL': '5070.73 BI', 'symbol': 'side', 'PM': '0.0', 'gain': '0%', 'CMP': 'YoY'}, {'tick': 'ABEV', 'nome': 'AMBEV S.A.', 'sector': 'Bebidas e Fumo', 'color': 'green', 'PL': '90178.03 BI', 'symbol': 'side', 'PM': '0.0', 'gain': '0%', 'CMP': 'YoY'}, {'tick': 'AERI', 'nome': 'AERIS IND. E COM. DE EQUIP. PARA GER. DE ENG. S.A.', 'sector': 'Industria', 'color': 'orange', 'PL': '942.09 BI', 'symbol': 'side', 'PM': '0.0', 'gain': '0%', 'CMP': 'YoY'}, {'tick': 'AFLT', 'nome': 'AFLUENTE TRANSMISSÃO DE ENERGIA ELÉTRICA S/A', 'sector': 'Energia Elétrica', 'color': 'green', 'PL': '271.49 BI', 'symbol': 'side', 'PM': '0.0', 'gain': '0%', 'CMP': 'YoY'}, {'tick': 'AGRO', 'nome': 'BRASILAGRO - CIA BRAS DE PROP AGRICOLAS', 'sector': 'Agro', 'color': 'green', 'PL': '2274.11 BI', 'symbol': 'side', 'PM': '0.0', 'gain': '0%', 'CMP': 'YoY'}, {'tick': 'AHEB', 'nome': 'SAO PAULO TURISMO S.A.', 'sector': 'Hospedagem e Turismo', 'color': 'red', 'PL': '-80.88 BI', 'symbol': 'side', 'PM': '0.0', 'gain': '0%', 'CMP': 'YoY'}, {'tick': 'ALPA', 'nome': 'ALPARGATAS S.A.', 'sector': 'Têxtil e Vestuário', 'color': 'red', 'PL': '5860.17 BI', 'symbol': 'side', 'PM': '0.0', 'gain': '0%', 'CMP': 'YoY'}, {'tick': 'ALPK', 'nome': 'ALLPARK EMPREENDIMENTOS, PARTICIPAÇÕES E SERVIÇOS S.A.', 'sector': 'Logistica', 'color': 'orange', 'PL': '459.50 BI', 'symbol': 'side', 'PM': '0.0', 'gain': '0%', 'CMP': 'YoY'}, {'tick': 'ALSO', 'nome': 'ALIANSCE SONAE SHOPPING CENTERS S.A.', 'sector': 'Comércio', 'color': 'red', 'PL': '6924.05 BI', 'symbol': 'side', 'PM': '0.0', 'gain': '0%', 'CMP': 'YoY'}, {'tick': 'ALUP', 'nome': 'ALUPAR INVESTIMENTO S/A', 'sector': 'Energia Elétrica', 'color': 'orange', 'PL': '7188.60 BI', 'symbol': 'side', 'PM': '0.0', 'gain': '0%', 'CMP': 'YoY'}, {'tick': 'AMAR', 'nome': 'MARISA LOJAS S.A.', 'sector': 'Comércio', 'color': 'orange', 'PL': '973.98 BI', 'symbol': 'side', 'PM': '0.0', 'gain': '0%', 'CMP': 'YoY'}, {'tick': 'AMBP', 'nome': 'AMBIPAR PARTICIPAÇÕES E EMPREENDIMENTOS S.A.', 'sector': 'Saneamento Básico', 'color': 'red', 'PL': '1033.46 BI', 'symbol': 'side', 'PM': '0.0', 'gain': '0%', 'CMP': 'YoY'}, {'tick': 'AMER', 'nome': 'AMERICANAS S.A. - EM RECUPERAÇÃO JUDICIAL', 'sector': 'Comércio', 'color': 'orange', 'PL': '14705.56 BI', 'symbol': 'side', 'PM': '0.0', 'gain': '0%', 'CMP': 'YoY'}, {'tick': 'ANIM', 'nome': 'ANIMA HOLDING S.A.', 'sector': 'Educação', 'color': 'orange', 'PL': '2638.05 BI', 'symbol': 'side', 'PM': '0.0', 'gain': '0%', 'CMP': 'YoY'}, {'tick': 'APER', 'nome': 'ALPER CONSULTORIA E CORRETORA DE SEGUROS S.A.', 'sector': 'Seguradoras e Corretoras', 'color': 'orange', 'PL': '468.02 BI', 'symbol': 'side', 'PM': '0.0', 'gain': '0%', 'CMP': 'YoY'}, {'tick': 'APTI', 'nome': 'SIDERURGICA J. L. ALIPERTI S.A.', 'sector': 'Metalurgia e Siderurgia', 'color': 'red', 'PL': '243.43 BI', 'symbol': 'side', 'PM': '0.0', 'gain': '0%', 'CMP': 'YoY'}, {'tick': 'ARZZ', 'nome': 'AREZZO INDÚSTRIA E COMÉRCIO S.A.', 'sector': 'Têxtil e Vestuário', 'color': 'orange', 'PL': '2614.13 BI', 'symbol': 'side', 'PM': '0.0', 'gain': '0%', 'CMP': 'YoY'}, {'tick': 'ASAI', 'nome': 'SENDAS DISTRIBUIDORA S.A.', 'sector': 'Comércio', 'color': 'red', 'PL': '3595.00 BI', 'symbol': 'side', 'PM': '0.0', 'gain': '0%', 'CMP': 'YoY'}, {'tick': 'ATMP', 'nome': 'ATMA PARTICIPAÇÕES S.A. - EM RECUPERAÇÃO JUDICIAL', 'sector': 'Telecomunicação', 'color': 'red', 'PL': '-275.08 BI', 'symbol': 'side', 'PM': '0.0', 'gain': '0%', 'CMP': 'YoY'}, {'tick': 'ATOM', 'nome': 'ATOM EMPREENDIMENTOS E PARTICIPAÇÕES S.A.', 'sector': 'Serviços em Geral', 'color': 'orange', 'PL': '26.78 BI', 'symbol': 'side', 'PM': '0.0', 'gain': '0%', 'CMP': 'YoY'}, {'tick': 'AZEV', 'nome': 'AZEVEDO E TRAVASSOS S.A.', 'sector': 'Construção Civil', 'color': 'red', 'PL': '124.65 BI', 'symbol': 'side', 'PM': '0.0', 'gain': '0%', 'CMP': 'YoY'}, {'tick': 'AZUL', 'nome': 'AZUL S.A.', 'sector': 'Logistica', 'color': 'red', 'PL': '-20130.51 BI', 'symbol': 'side', 'PM': '0.0', 'gain': '0%', 'CMP': 'YoY'}, {'tick': 'B3SA', 'nome': 'B3 S.A. - BRASIL, BOLSA, BALCÃO', 'sector': 'Bolsa de Valores', 'color': 'orange', 'PL': '20417.54 BI', 'symbol': 'side', 'PM': '0.0', 'gain': '0%', 'CMP': 'YoY'}, {'tick': 'BAHI', 'nome': 'BAHEMA EDUCAÇÃO S.A.', 'sector': 'Educação', 'color': 'red', 'PL': '106.10 BI', 'symbol': 'side', 'PM': '0.0', 'gain': '0%', 'CMP': 'YoY'}, {'tick': 'BALM', 'nome': 'BAUMER S.A.', 'sector': 'Metalurgia e Siderurgia', 'color': 'red', 'PL': '135.06 BI', 'symbol': 'side', 'PM': '0.0', 'gain': '0%', 'CMP': 'YoY'}, {'tick': 'BAUH', 'nome': 'EXCELSIOR ALIMENTOS S.A.', 'sector': 'Alimentos', 'color': 'red', 'PL': '98.56 BI', 'symbol': 'side', 'PM': '0.0', 'gain': '0%', 'CMP': 'YoY'}, {'tick': 'BAZA', 'nome': 'BCO AMAZONIA S.A.', 'sector': 'Bancos', 'color': 'red', 'PL': '4881.81 BI', 'symbol': 'side', 'PM': '0.0', 'gain': '0%', 'CMP': 'YoY'}, {'tick': 'BBAS', 'nome': 'BCO BRASIL S.A.', 'sector': 'Bancos', 'color': 'red', 'PL': '147128.77 BI', 'symbol': 'side', 'PM': '0.0', 'gain': '0%', 'CMP': 'YoY'}, {'tick': 'BBDC', 'nome': 'BCO BRADESCO S.A.', 'sector': 'Bancos', 'color': 'red', 'PL': '156884.12 BI', 'symbol': 'side', 'PM': '0.0', 'gain': '0%', 'CMP': 'YoY'}, {'tick': 'BBML', 'nome': 'BBM LOGÍSTICA S.A.', 'sector': 'Logistica', 'color': 'green', 'PL': '90.23 BI', 'symbol': 'side', 'PM': '0.0', 'gain': '0%', 'CMP': 'YoY'}, {'tick': 'BBRK', 'nome': 'NEXPE PARTICIPAÇÕES S.A', 'sector': 'Construção Civil', 'color': 'red', 'PL': '20.28 BI', 'symbol': 'side', 'PM': '0.0', 'gain': '0%', 'CMP': 'YoY'}, {'tick': 'BBSE', 'nome': 'BB SEGURIDADE PARTICIPAÇÕES S.A.', 'sector': 'Seguradoras e Corretoras', 'color': 'red', 'PL': '9460.89 BI', 'symbol': 'side', 'PM': '0.0', 'gain': '0%', 'CMP': 'YoY'}, {'tick': 'BDLL', 'nome': 'BARDELLA S.A. INDUSTRIAS MECANICAS EM RECUPERAÇÃO JUDICIAL', 'sector': 'Industria', 'color': 'red', 'PL': '-181.34 BI', 'symbol': 'side', 'PM': '0.0', 'gain': '0%', 'CMP': 'YoY'}, {'tick': 'BEEF', 'nome': 'MINERVA S.A.', 'sector': 'Alimentos', 'color': 'orange', 'PL': '483.05 BI', 'symbol': 'side', 'PM': '0.0', 'gain': '0%', 'CMP': 'YoY'}, {'tick': 'BEES', 'nome': 'BANESTES S.A. - BCO EST ESPIRITO SANTO', 'sector': 'Bancos', 'color': 'red', 'PL': '2009.40 BI', 'symbol': 'side', 'PM': '0.0', 'gain': '0%', 'CMP': 'YoY'}, {'tick': 'BGIP', 'nome': 'BCO ESTADO DE SERGIPE S.A. - BANESE', 'sector': 'Bancos', 'color': 'red', 'PL': '582.34 BI', 'symbol': 'side', 'PM': '0.0', 'gain': '0%', 'CMP': 'YoY'}, {'tick': 'BIOM', 'nome': 'BIOMM S.A.', 'sector': 'Farmacêutico e Higiene', 'color': 'red', 'PL': '121.36 BI', 'symbol': 'side', 'PM': '0.0', 'gain': '0%', 'CMP': 'YoY'}, {'tick': 'BKBR', 'nome': 'ZAMP SA', 'sector': 'Alimentos', 'color': 'red', 'PL': '1547.14 BI', 'symbol': 'side', 'PM': '0.0', 'gain': '0%', 'CMP': 'YoY'}, {'tick': 'BLUT', 'nome': 'BLUE TECH SOLUTIONS EQI S.A.', 'sector': 'Alimentos', 'color': 'red', 'PL': '57.20 BI', 'symbol': 'side', 'PM': '0.0', 'gain': '0%', 'CMP': 'YoY'}, {'tick': 'BMEB', 'nome': 'BCO MERCANTIL DO BRASIL S.A.', 'sector': 'Bancos', 'color': 'red', 'PL': '1227.45 BI', 'symbol': 'side', 'PM': '0.0', 'gain': '0%', 'CMP': 'YoY'}, {'tick': 'BMGB', 'nome': 'BANCO BMG S/A', 'sector': 'Bancos', 'color': 'red', 'PL': '3839.06 BI', 'symbol': 'side', 'PM': '0.0', 'gain': '0%', 'CMP': 'YoY'}, {'tick': 'BMIN', 'nome': 'BCO MERCANTIL DE INVESTIMENTOS S.A.', 'sector': 'Bancos', 'color': 'red', 'PL': '134.10 BI', 'symbol': 'side', 'PM': '0.0', 'gain': '0%', 'CMP': 'YoY'}, {'tick': 'BMKS', 'nome': 'BICICLETAS MONARK S.A.', 'sector': 'Brinquedos e Lazer', 'color': 'green', 'PL': '206.10 BI', 'symbol': 'side', 'PM': '0.0', 'gain': '0%', 'CMP': 'YoY'}, {'tick': 'BMOB', 'nome': 'BEMOBI MOBILE TECH S.A.', 'sector': 'Telecomunicação', 'color': 'green', 'PL': '1063.71 BI', 'symbol': 'side', 'PM': '0.0', 'gain': '0%', 'CMP': 'YoY'}, {'tick': 'BNBR', 'nome': 'BCO NORDESTE DO BRASIL S.A.', 'sector': 'Bancos', 'color': 'red', 'PL': '8589.19 BI', 'symbol': 'side', 'PM': '0.0', 'gain': '0%', 'CMP': 'YoY'}, {'tick': 'BOBR', 'nome': 'BOMBRIL S.A.', 'sector': 'Farmacêutico e Higiene', 'color': 'red', 'PL': '-179.29 BI', 'symbol': 'side', 'PM': '0.0', 'gain': '0%', 'CMP': 'YoY'}, {'tick': 'BPAC', 'nome': 'BCO BTG PACTUAL S.A.', 'sector': 'Bancos', 'color': 'green', 'PL': '42261.95 BI', 'symbol': 'side', 'PM': '0.0', 'gain': '0%', 'CMP': 'YoY'}, {'tick': 'BPAN', 'nome': 'BCO PAN S.A.', 'sector': 'Bancos', 'color': 'red', 'PL': '7791.63 BI', 'symbol': 'side', 'PM': '0.0', 'gain': '0%', 'CMP': 'YoY'}, {'tick': 'BPAR', 'nome': 'BCO ESTADO DO PARA S.A.', 'sector': 'Bancos', 'color': 'red', 'PL': '1699.35 BI', 'symbol': 'side', 'PM': '0.0', 'gain': '0%', 'CMP': 'YoY'}, {'tick': 'BRAP', 'nome': 'BRADESPAR S.A.', 'sector': 'Extração Mineral', 'color': 'orange', 'PL': '7833.58 BI', 'symbol': 'side', 'PM': '0.0', 'gain': '0%', 'CMP': 'YoY'}, {'tick': 'BRFS', 'nome': 'BRF S.A.', 'sector': 'Alimentos', 'color': 'red', 'PL': '12000.44 BI', 'symbol': 'side', 'PM': '0.0', 'gain': '0%', 'CMP': 'YoY'}, {'tick': 'BRGE', 'nome': 'CONSORCIO ALFA DE ADMINISTRACAO S.A.', 'sector': 'Intermediação Financeira', 'color': 'orange', 'PL': '1290.42 BI', 'symbol': 'side', 'PM': '0.0', 'gain': '0%', 'CMP': 'YoY'}, {'tick': 'BRIV', 'nome': 'BCO ALFA DE INVESTIMENTO S.A.', 'sector': 'Bancos', 'color': 'red', 'PL': '1676.12 BI', 'symbol': 'side', 'PM': '0.0', 'gain': '0%', 'CMP': 'YoY'}, {'tick': 'BRKM', 'nome': 'BRASKEM S.A.', 'sector': 'Petroquímicos e Borracha', 'color': 'green', 'PL': '8689.36 BI', 'symbol': 'side', 'PM': '0.0', 'gain': '0%', 'CMP': 'YoY'}, {'tick': 'BRML', 'nome': 'BR MALLS PARTICIPACOES S.A.', 'sector': 'Comércio', 'color': 'red', 'PL': '11071.95 BI', 'symbol': 'side', 'PM': '0.0', 'gain': '0%', 'CMP': 'YoY'}, {'tick': 'BRPR', 'nome': 'BR PROPERTIES S.A.', 'sector': 'Serviços em Geral', 'color': 'red', 'PL': '4485.84 BI', 'symbol': 'side', 'PM': '0.0', 'gain': '0%', 'CMP': 'YoY'}, {'tick': 'BRQB', 'nome': 'BRQ SOLUCOES EM INFORMATICA S.A.', 'sector': 'Telecomunicação', 'color': 'green', 'PL': '172.41 BI', 'symbol': 'side', 'PM': '0.0', 'gain': '0%', 'CMP': 'YoY'}, {'tick': 'BRSR', 'nome': 'BCO ESTADO DO RIO GRANDE DO SUL S.A.', 'sector': 'Bancos', 'color': 'red', 'PL': '9004.73 BI', 'symbol': 'side', 'PM': '0.0', 'gain': '0%', 'CMP': 'YoY'}, {'tick': 'BSLI', 'nome': 'BRB BCO DE BRASILIA S.A.', 'sector': 'Bancos', 'color': 'red', 'PL': '2131.89 BI', 'symbol': 'side', 'PM': '0.0', 'gain': '0%', 'CMP': 'YoY'}, {'tick': 'CALI', 'nome': 'CONSTRUTORA ADOLPHO LINDENBERG S.A.', 'sector': 'Construção Civil', 'color': 'red', 'PL': '19.71 BI', 'symbol': 'side', 'PM': '0.0', 'gain': '0%', 'CMP': 'YoY'}, {'tick': 'CAMB', 'nome': 'CAMBUCI S.A.', 'sector': 'Têxtil e Vestuário', 'color': 'orange', 'PL': '158.79 BI', 'symbol': 'side', 'PM': '0.0', 'gain': '0%', 'CMP': 'YoY'}, {'tick': 'CARD', 'nome': 'CSU DIGITAL S.A.', 'sector': 'Serviços em Geral', 'color': 'red', 'PL': '362.82 BI', 'symbol': 'side', 'PM': '0.0', 'gain': '0%', 'CMP': 'YoY'}, {'tick': 'CASH', 'nome': 'MÉLIUZ S.A.', 'sector': 'Telecomunicação', 'color': 'green', 'PL': '776.49 BI', 'symbol': 'side', 'PM': '0.0', 'gain': '0%', 'CMP': 'YoY'}, {'tick': 'CASN', 'nome': 'CIA CATARINENSE DE AGUAS E SANEAM.-CASAN', 'sector': 'Saneamento Básico', 'color': 'red', 'PL': '1847.58 BI', 'symbol': 'side', 'PM': '0.0', 'gain': '0%', 'CMP': 'YoY'}, {'tick': 'CBEE', 'nome': 'AMPLA ENERGIA E SERVICOS S.A.', 'sector': 'Energia Elétrica', 'color': 'red', 'PL': '4749.90 BI', 'symbol': 'side', 'PM': '0.0', 'gain': '0%', 'CMP': 'YoY'}, {'tick': 'CCRO', 'nome': 'CCR S.A.', 'sector': 'Logistica', 'color': 'red', 'PL': '12334.28 BI', 'symbol': 'side', 'PM': '0.0', 'gain': '0%', 'CMP': 'YoY'}, {'tick': 'CEBR', 'nome': 'COMPANHIA ENERGÉTICA DE BRASÍLIA - CEB', 'sector': 'Energia Elétrica', 'color': 'green', 'PL': '962.56 BI', 'symbol': 'side', 'PM': '0.0', 'gain': '0%', 'CMP': 'YoY'}, {'tick': 'CEDO', 'nome': 'CIA FIACAO TECIDOS CEDRO CACHOEIRA', 'sector': 'Têxtil e Vestuário', 'color': 'red', 'PL': '117.76 BI', 'symbol': 'side', 'PM': '0.0', 'gain': '0%', 'CMP': 'YoY'}, {'tick': 'CEEB', 'nome': 'CIA ELETRICIDADE EST. DA BAHIA - COELBA', 'sector': 'Energia Elétrica', 'color': 'red', 'PL': '5601.00 BI', 'symbol': 'side', 'PM': '0.0', 'gain': '0%', 'CMP': 'YoY'}, {'tick': 'CEED', 'nome': 'CIA ESTADUAL DE DISTRIB ENER ELET-CEEE-D', 'sector': 'Energia Elétrica', 'color': 'red', 'PL': '-2772.02 BI', 'symbol': 'side', 'PM': '0.0', 'gain': '0%', 'CMP': 'YoY'}, {'tick': 'CEGR', 'nome': 'CIA DISTRIB DE GAS DO RIO DE JANEIRO-CEG', 'sector': 'Saneamento Básico', 'color': 'orange', 'PL': '1315.72 BI', 'symbol': 'side', 'PM': '0.0', 'gain': '0%', 'CMP': 'YoY'}, {'tick': 'CEPE', 'nome': 'CIA ENERGETICA DE PERNAMBUCO - CELPE', 'sector': 'Energia Elétrica', 'color': 'red', 'PL': '1420.00 BI', 'symbol': 'side', 'PM': '0.0', 'gain': '0%', 'CMP': 'YoY'}, {'tick': 'CESP', 'nome': 'CESP - CIA ENERGETICA DE SAO PAULO', 'sector': 'Energia Elétrica', 'color': 'green', 'PL': '7633.16 BI', 'symbol': 'side', 'PM': '0.0', 'gain': '0%', 'CMP': 'YoY'}, {'tick': 'CGAS', 'nome': 'CIA GAS DE SAO PAULO - COMGAS', 'sector': 'Saneamento Básico', 'color': 'red', 'PL': '1663.73 BI', 'symbol': 'side', 'PM': '0.0', 'gain': '0%', 'CMP': 'YoY'}, {'tick': 'CGRA', 'nome': 'GRAZZIOTIN S.A.', 'sector': 'Comércio', 'color': 'green', 'PL': '809.43 BI', 'symbol': 'side', 'PM': '0.0', 'gain': '0%', 'CMP': 'YoY'}, {'tick': 'CIEL', 'nome': 'CIELO S.A. -  INSTITUIÇÃO DE PAGAMENTO', 'sector': 'Intermediação Financeira', 'color': 'red', 'PL': '10832.50 BI', 'symbol': 'side', 'PM': '0.0', 'gain': '0%', 'CMP': 'YoY'}, {'tick': 'CLSC', 'nome': 'CENTRAIS ELET DE SANTA CATARINA S.A.', 'sector': 'Energia Elétrica', 'color': 'green', 'PL': '2933.34 BI', 'symbol': 'side', 'PM': '0.0', 'gain': '0%', 'CMP': 'YoY'}, {'tick': 'CMIG', 'nome': 'CIA ENERGETICA DE MINAS GERAIS - CEMIG', 'sector': 'Energia Elétrica', 'color': 'red', 'PL': '21073.85 BI', 'symbol': 'side', 'PM': '0.0', 'gain': '0%', 'CMP': 'YoY'}, {'tick': 'CMSA', 'nome': 'CIMS S.A.', 'sector': 'Energia Elétrica', 'color': 'red', 'PL': '33.82 BI', 'symbol': 'side', 'PM': '0.0', 'gain': '0%', 'CMP': 'YoY'}, {'tick': 'COCE', 'nome': 'CIA ENERGETICA DO CEARA - COELCE', 'sector': 'Energia Elétrica', 'color': 'red', 'PL': '3710.52 BI', 'symbol': 'side', 'PM': '0.0', 'gain': '0%', 'CMP': 'YoY'}, {'tick': 'COGN', 'nome': 'COGNA EDUCAÇÃO S.A.', 'sector': 'Educação', 'color': 'red', 'PL': '12389.88 BI', 'symbol': 'side', 'PM': '0.0', 'gain': '0%', 'CMP': 'YoY'}, {'tick': 'CORR', 'nome': 'CORREA RIBEIRO S.A. COMERCIO E INDUSTRIA', 'sector': 'Construção Civil', 'color': 'red', 'PL': '-739.00 MM', 'symbol': 'side', 'PM': '0.0', 'gain': '0%', 'CMP': 'YoY'}, {'tick': 'CPFE', 'nome': 'CPFL ENERGIA S.A.', 'sector': 'Energia Elétrica', 'color': 'red', 'PL': '15423.71 BI', 'symbol': 'side', 'PM': '0.0', 'gain': '0%', 'CMP': 'YoY'}, {'tick': 'CPLE', 'nome': 'CIA PARANAENSE DE ENERGIA - COPEL', 'sector': 'Energia Elétrica', 'color': 'red', 'PL': '20969.72 BI', 'symbol': 'side', 'PM': '0.0', 'gain': '0%', 'CMP': 'YoY'}, {'tick': 'CRDE', 'nome': 'CR2 EMPREENDIMENTOS IMOBILIARIOS S.A.', 'sector': 'Construção Civil', 'color': 'red', 'PL': '94.41 BI', 'symbol': 'side', 'PM': '0.0', 'gain': '0%', 'CMP': 'YoY'}, {'tick': 'CRFB', 'nome': 'ATACADÃO S.A.', 'sector': 'Comércio', 'color': 'green', 'PL': '19994.00 BI', 'symbol': 'side', 'PM': '0.0', 'gain': '0%', 'CMP': 'YoY'}, {'tick': 'CRIV', 'nome': 'FINANCEIRA ALFA S.A.- CRED FINANC E INVS', 'sector': 'Bancos', 'color': 'red', 'PL': '1057.52 BI', 'symbol': 'side', 'PM': '0.0', 'gain': '0%', 'CMP': 'YoY'}, {'tick': 'CRPG', 'nome': 'TRONOX PIGMENTOS DO BRASIL S.A.', 'sector': 'Petroquímicos e Borracha', 'color': 'orange', 'PL': '911.27 BI', 'symbol': 'side', 'PM': '0.0', 'gain': '0%', 'CMP': 'YoY'}, {'tick': 'CSAB', 'nome': 'CIA SEGUROS ALIANCA DA BAHIA', 'sector': 'Seguradoras e Corretoras', 'color': 'red', 'PL': '190.98 BI', 'symbol': 'side', 'PM': '0.0', 'gain': '0%', 'CMP': 'YoY'}, {'tick': 'CSAN', 'nome': 'COSAN S.A.', 'sector': 'Agro', 'color': 'red', 'PL': '15968.55 BI', 'symbol': 'side', 'PM': '0.0', 'gain': '0%', 'CMP': 'YoY'}, {'tick': 'CSED', 'nome': 'CRUZEIRO DO SUL EDUCACIONAL S.A.', 'sector': 'Educação', 'color': 'orange', 'PL': '1439.34 BI', 'symbol': 'side', 'PM': '0.0', 'gain': '0%', 'CMP': 'YoY'}, {'tick': 'CSMG', 'nome': 'CIA SANEAMENTO DE MINAS GERAIS-COPASA MG', 'sector': 'Saneamento Básico', 'color': 'green', 'PL': '7191.00 BI', 'symbol': 'side', 'PM': '0.0', 'gain': '0%', 'CMP': 'YoY'}, {'tick': 'CSNA', 'nome': 'CIA SIDERURGICA NACIONAL', 'sector': 'Metalurgia e Siderurgia', 'color': 'red', 'PL': '21112.51 BI', 'symbol': 'side', 'PM': '0.0', 'gain': '0%', 'CMP': 'YoY'}, {'tick': 'CSRN', 'nome': 'CIA ENERGETICA DO RIO GDE NORTE - COSERN', 'sector': 'Energia Elétrica', 'color': 'green', 'PL': '1274.00 BI', 'symbol': 'side', 'PM': '0.0', 'gain': '0%', 'CMP': 'YoY'}, {'tick': 'CTCA', 'nome': 'CTC - CENTRO DE TECNOLOGIA CANAVIEIRA S.A.', 'sector': 'Agro', 'color': 'green', 'PL': '839.30 BI', 'symbol': 'side', 'PM': '0.0', 'gain': '0%', 'CMP': 'YoY'}, {'tick': 'CTKA', 'nome': 'KARSTEN S.A.', 'sector': 'Têxtil e Vestuário', 'color': 'red', 'PL': '-162.56 BI', 'symbol': 'side', 'PM': '0.0', 'gain': '0%', 'CMP': 'YoY'}, {'tick': 'CTNM', 'nome': 'CIA TECIDOS NORTE DE MINAS COTEMINAS', 'sector': 'Têxtil e Vestuário', 'color': 'red', 'PL': '504.08 BI', 'symbol': 'side', 'PM': '0.0', 'gain': '0%', 'CMP': 'YoY'}, {'tick': 'CTSA', 'nome': 'CIA TECIDOS SANTANENSE', 'sector': 'Têxtil e Vestuário', 'color': 'red', 'PL': '279.57 BI', 'symbol': 'side', 'PM': '0.0', 'gain': '0%', 'CMP': 'YoY'}, {'tick': 'CURY', 'nome': 'CURY CONSTRUTORA E INCORPORADORA S.A.', 'sector': 'Construção Civil', 'color': 'red', 'PL': '738.30 BI', 'symbol': 'side', 'PM': '0.0', 'gain': '0%', 'CMP': 'YoY'}, {'tick': 'CVCB', 'nome': 'CVC BRASIL OPERADORA E AGÊNCIA DE VIAGENS S.A.', 'sector': 'Hospedagem e Turismo', 'color': 'red', 'PL': '416.11 BI', 'symbol': 'side', 'PM': '0.0', 'gain': '0%', 'CMP': 'YoY'}, {'tick': 'CYRE', 'nome': 'CYRELA BRAZIL REALTY S.A.EMPREEND E PART', 'sector': 'Construção Civil', 'color': 'red', 'PL': '6732.79 BI', 'symbol': 'side', 'PM': '0.0', 'gain': '0%', 'CMP': 'YoY'}, {'tick': 'DASA', 'nome': 'DIAGNOSTICOS DA AMERICA S.A.', 'sector': 'Serviços Médicos', 'color': 'red', 'PL': '7352.80 BI', 'symbol': 'side', 'PM': '0.0', 'gain': '0%', 'CMP': 'YoY'}, {'tick': 'DEXP', 'nome': 'DEXXOS PARTICIPAÇÕES S.A.', 'sector': 'Petroquímicos e Borracha', 'color': 'orange', 'PL': '555.60 BI', 'symbol': 'side', 'PM': '0.0', 'gain': '0%', 'CMP': 'YoY'}, {'tick': 'DIRR', 'nome': 'DIRECIONAL ENGENHARIA S.A.', 'sector': 'Construção Civil', 'color': 'orange', 'PL': '1358.12 BI', 'symbol': 'side', 'PM': '0.0', 'gain': '0%', 'CMP': 'YoY'}, {'tick': 'DMVF', 'nome': 'D1000 VAREJO FARMA PARTICIPAÇÕES S.A.', 'sector': 'Comércio', 'color': 'green', 'PL': '846.55 BI', 'symbol': 'side', 'PM': '0.0', 'gain': '0%', 'CMP': 'YoY'}, {'tick': 'DOHL', 'nome': 'DOHLER S.A.', 'sector': 'Têxtil e Vestuário', 'color': 'orange', 'PL': '708.64 BI', 'symbol': 'side', 'PM': '0.0', 'gain': '0%', 'CMP': 'YoY'}, {'tick': 'DTCY', 'nome': 'DTCOM - DIRECT TO COMPANY S.A.', 'sector': 'Telecomunicação', 'color': 'red', 'PL': '-2.34 BI', 'symbol': 'side', 'PM': '0.0', 'gain': '0%', 'CMP': 'YoY'}, {'tick': 'DXCO', 'nome': 'DEXCO S.A.', 'sector': 'Construção Civil', 'color': 'green', 'PL': '5906.81 BI', 'symbol': 'side', 'PM': '0.0', 'gain': '0%', 'CMP': 'YoY'}, {'tick': 'EALT', 'nome': 'ELECTRO ACO ALTONA S.A.', 'sector': 'Metalurgia e Siderurgia', 'color': 'red', 'PL': '204.69 BI', 'symbol': 'side', 'PM': '0.0', 'gain': '0%', 'CMP': 'YoY'}, {'tick': 'ECOR', 'nome': 'ECORODOVIAS INFRAESTRUTURA E LOGÍSTICA S.A.', 'sector': 'Logistica', 'color': 'green', 'PL': '2253.49 BI', 'symbol': 'side', 'PM': '0.0', 'gain': '0%', 'CMP': 'YoY'}, {'tick': 'EEEL', 'nome': 'CIA ESTADUAL DE TRANSMISSÃO DE ENERGIA ELETRICA - CEEE-T', 'sector': 'Energia Elétrica', 'color': 'green', 'PL': '1301.40 BI', 'symbol': 'side', 'PM': '0.0', 'gain': '0%', 'CMP': 'YoY'}, {'tick': 'EGIE', 'nome': 'ENGIE BRASIL ENERGIA S.A.', 'sector': 'Energia Elétrica', 'color': 'red', 'PL': '8044.93 BI', 'symbol': 'side', 'PM': '0.0', 'gain': '0%', 'CMP': 'YoY'}, {'tick': 'EKTR', 'nome': 'ELEKTRO REDES S.A.', 'sector': 'Energia Elétrica', 'color': 'red', 'PL': '3041.00 BI', 'symbol': 'side', 'PM': '0.0', 'gain': '0%', 'CMP': 'YoY'}, {'tick': 'ELET', 'nome': 'CENTRAIS ELET BRAS S.A. - ELETROBRAS', 'sector': 'Energia Elétrica', 'color': 'red', 'PL': '111495.02 BI', 'symbol': 'side', 'PM': '0.0', 'gain': '0%', 'CMP': 'YoY'}, {'tick': 'ELMD', 'nome': 'ELETROMIDIA S.A.', 'sector': 'Telecomunicação', 'color': 'green', 'PL': '739.45 BI', 'symbol': 'side', 'PM': '0.0', 'gain': '0%', 'CMP': 'YoY'}, {'tick': 'EMAE', 'nome': 'EMAE - EMPRESA METROP.AGUAS ENERGIA S.A.', 'sector': 'Energia Elétrica', 'color': 'green', 'PL': '927.12 BI', 'symbol': 'side', 'PM': '0.0', 'gain': '0%', 'CMP': 'YoY'}, {'tick': 'EMBR', 'nome': 'EMBRAER S.A.', 'sector': 'Industria', 'color': 'green', 'PL': '13311.72 BI', 'symbol': 'side', 'PM': '0.0', 'gain': '0%', 'CMP': 'YoY'}, {'tick': 'ENAT', 'nome': 'ENAUTA PARTICIPAÇÕES S.A.', 'sector': 'Petróleo e Gás', 'color': 'orange', 'PL': '3982.41 BI', 'symbol': 'side', 'PM': '0.0', 'gain': '0%', 'CMP': 'YoY'}, {'tick': 'ENBR', 'nome': 'EDP - ENERGIAS DO BRASIL S.A.', 'sector': 'Energia Elétrica', 'color': 'red', 'PL': '11781.03 BI', 'symbol': 'side', 'PM': '0.0', 'gain': '0%', 'CMP': 'YoY'}, {'tick': 'ENEV', 'nome': 'ENEVA S.A', 'sector': 'Energia Elétrica', 'color': 'orange', 'PL': '13871.68 BI', 'symbol': 'side', 'PM': '0.0', 'gain': '0%', 'CMP': 'YoY'}, {'tick': 'ENGI', 'nome': 'ENERGISA S.A.', 'sector': 'Energia Elétrica', 'color': 'orange', 'PL': '11665.09 BI', 'symbol': 'side', 'PM': '0.0', 'gain': '0%', 'CMP': 'YoY'}, {'tick': 'ENJU', 'nome': 'ENJOEI S.A.', 'sector': 'Comércio', 'color': 'orange', 'PL': '383.69 BI', 'symbol': 'side', 'PM': '0.0', 'gain': '0%', 'CMP': 'YoY'}, {'tick': 'ENMT', 'nome': 'ENERGISA MATO GROSSO-DISTRIBUIDORA DE ENERGIA S/A', 'sector': 'Energia Elétrica', 'color': 'red', 'PL': '3395.86 BI', 'symbol': 'side', 'PM': '0.0', 'gain': '0%', 'CMP': 'YoY'}, {'tick': 'EPAR', 'nome': 'EMBPAR PARTICIPAÇÕES S/A', 'sector': 'Serviços em Geral', 'color': 'orange', 'PL': '93.39 BI', 'symbol': 'side', 'PM': '0.0', 'gain': '0%', 'CMP': 'YoY'}, {'tick': 'EQPA', 'nome': 'EQUATORIAL PARÁ DISTRIBUIDORA DE ENERGIA S.A.', 'sector': 'Energia Elétrica', 'color': 'red', 'PL': '4349.99 BI', 'symbol': 'side', 'PM': '0.0', 'gain': '0%', 'CMP': 'YoY'}, {'tick': 'EQTL', 'nome': 'EQUATORIAL ENERGIA S.A.', 'sector': 'Energia Elétrica', 'color': 'red', 'PL': '16283.13 BI', 'symbol': 'side', 'PM': '0.0', 'gain': '0%', 'CMP': 'YoY'}, {'tick': 'ESPA', 'nome': 'MPM CORPÓREOS S.A.', 'sector': 'Serviços Médicos', 'color': 'red', 'PL': '684.24 BI', 'symbol': 'side', 'PM': '0.0', 'gain': '0%', 'CMP': 'YoY'}, {'tick': 'ESTR', 'nome': 'MANUFATURA DE BRINQUEDOS ESTRELA S.A.', 'sector': 'Brinquedos e Lazer', 'color': 'red', 'PL': '-489.40 BI', 'symbol': 'side', 'PM': '0.0', 'gain': '0%', 'CMP': 'YoY'}, {'tick': 'ETER', 'nome': 'ETERNIT S.A. - EM RECUPERAÇÃO JUDICIAL', 'sector': 'Construção Civil', 'color': 'orange', 'PL': '659.78 BI', 'symbol': 'side', 'PM': '0.0', 'gain': '0%', 'CMP': 'YoY'}, {'tick': 'EUCA', 'nome': 'EUCATEX S.A. INDUSTRIA E COMERCIO', 'sector': 'Construção Civil', 'color': 'red', 'PL': '2062.36 BI', 'symbol': 'side', 'PM': '0.0', 'gain': '0%', 'CMP': 'YoY'}, {'tick': 'EVEN', 'nome': 'EVEN CONSTRUTORA E INCORPORADORA S.A.', 'sector': 'Construção Civil', 'color': 'red', 'PL': '1936.16 BI', 'symbol': 'side', 'PM': '0.0', 'gain': '0%', 'CMP': 'YoY'}, {'tick': 'EZTC', 'nome': 'EZ TEC EMPREEND. E PARTICIPACOES S.A.', 'sector': 'Construção Civil', 'color': 'orange', 'PL': '4470.66 BI', 'symbol': 'side', 'PM': '0.0', 'gain': '0%', 'CMP': 'YoY'}, {'tick': 'FESA', 'nome': 'CIA FERRO LIGAS DA BAHIA - FERBASA', 'sector': 'Metalurgia e Siderurgia', 'color': 'red', 'PL': '3040.73 BI', 'symbol': 'side', 'PM': '0.0', 'gain': '0%', 'CMP': 'YoY'}, {'tick': 'FHER', 'nome': 'FERTILIZANTES HERINGER S.A.', 'sector': 'Petroquímicos e Borracha', 'color': 'red', 'PL': '442.02 BI', 'symbol': 'side', 'PM': '0.0', 'gain': '0%', 'CMP': 'YoY'}, {'tick': 'FIGE', 'nome': 'INVESTIMENTOS BEMGE S.A.', 'sector': 'Bancos', 'color': 'red', 'PL': '148.69 BI', 'symbol': 'side', 'PM': '0.0', 'gain': '0%', 'CMP': 'YoY'}, {'tick': 'FLEX', 'nome': 'FLEX GESTÃO DE RELACIONAMENTOS S.A.', 'sector': 'Telecomunicação', 'color': 'red', 'PL': '-183.31 BI', 'symbol': 'side', 'PM': '0.0', 'gain': '0%', 'CMP': 'YoY'}, {'tick': 'FLRY', 'nome': 'FLEURY S.A.', 'sector': 'Serviços Médicos', 'color': 'green', 'PL': '1914.90 BI', 'symbol': 'side', 'PM': '0.0', 'gain': '0%', 'CMP': 'YoY'}, {'tick': 'FNCN', 'nome': 'DM FINANCEIRA S.A. - CRÉDITO, FINANCIAMENTO E INVESTIMENTO', 'sector': 'Bancos', 'color': 'red', 'PL': '13.94 BI', 'symbol': 'side', 'PM': '0.0', 'gain': '0%', 'CMP': 'YoY'}, {'tick': 'FRAS', 'nome': 'FRAS-LE S.A.', 'sector': 'Industria', 'color': 'orange', 'PL': '1798.95 BI', 'symbol': 'side', 'PM': '0.0', 'gain': '0%', 'CMP': 'YoY'}, {'tick': 'FRTA', 'nome': 'POMIFRUTAS S/A EM RECUPERACAO JUDICIAL', 'sector': 'Agro', 'color': 'red', 'PL': '-68.22 BI', 'symbol': 'side', 'PM': '0.0', 'gain': '0%', 'CMP': 'YoY'}, {'tick': 'GEPA', 'nome': 'RIO PARANAPANEMA ENERGIA S.A.', 'sector': 'Energia Elétrica', 'color': 'green', 'PL': '2063.53 BI', 'symbol': 'side', 'PM': '0.0', 'gain': '0%', 'CMP': 'YoY'}, {'tick': 'GFSA', 'nome': 'GAFISA S.A.', 'sector': 'Construção Civil', 'color': 'red', 'PL': '1741.48 BI', 'symbol': 'side', 'PM': '0.0', 'gain': '0%', 'CMP': 'YoY'}, {'tick': 'GGBR', 'nome': 'GERDAU S.A.', 'sector': 'Metalurgia e Siderurgia', 'color': 'red', 'PL': '49188.16 BI', 'symbol': 'side', 'PM': '0.0', 'gain': '0%', 'CMP': 'YoY'}, {'tick': 'GMAT', 'nome': 'GRUPO MATEUS S.A.', 'sector': 'Comércio', 'color': 'red', 'PL': '7148.33 BI', 'symbol': 'side', 'PM': '0.0', 'gain': '0%', 'CMP': 'YoY'}, {'tick': 'GOAU', 'nome': 'METALURGICA GERDAU S.A.', 'sector': 'Metalurgia e Siderurgia', 'color': 'red', 'PL': '16694.96 BI', 'symbol': 'side', 'PM': '0.0', 'gain': '0%', 'CMP': 'YoY'}, {'tick': 'GOLL', 'nome': 'GOL LINHAS AEREAS INTELIGENTES S.A.', 'sector': 'Logistica', 'color': 'red', 'PL': '-21723.44 BI', 'symbol': 'side', 'PM': '0.0', 'gain': '0%', 'CMP': 'YoY'}, {'tick': 'GPAR', 'nome': 'CIA CELG DE PARTICIPACOES - CELGPAR', 'sector': 'Energia Elétrica', 'color': 'red', 'PL': '1169.91 BI', 'symbol': 'side', 'PM': '0.0', 'gain': '0%', 'CMP': 'YoY'}, {'tick': 'GRND', 'nome': 'GRENDENE S.A.', 'sector': 'Têxtil e Vestuário', 'color': 'red', 'PL': '4269.37 BI', 'symbol': 'side', 'PM': '0.0', 'gain': '0%', 'CMP': 'YoY'}, {'tick': 'GSHP', 'nome': 'GENERAL SHOPPING E OUTLETS DO BRASIL BRASIL S.A.', 'sector': 'Comércio', 'color': 'red', 'PL': '-823.71 BI', 'symbol': 'side', 'PM': '0.0', 'gain': '0%', 'CMP': 'YoY'}, {'tick': 'GUAR', 'nome': 'GUARARAPES CONFECCOES S.A.', 'sector': 'Têxtil e Vestuário', 'color': 'red', 'PL': '5158.50 BI', 'symbol': 'side', 'PM': '0.0', 'gain': '0%', 'CMP': 'YoY'}, {'tick': 'HAGA', 'nome': 'HAGA S.A. INDUSTRIA E COMERCIO', 'sector': 'Metalurgia e Siderurgia', 'color': 'red', 'PL': '-62753.98 BI', 'symbol': 'side', 'PM': '0.0', 'gain': '0%', 'CMP': 'YoY'}, {'tick': 'HAPV', 'nome': 'HAPVIDA PARTICIPAÇÕES E INVESTIMENTOS S.A.', 'sector': 'Serviços Médicos', 'color': 'orange', 'PL': '49053.74 BI', 'symbol': 'side', 'PM': '0.0', 'gain': '0%', 'CMP': 'YoY'}, {'tick': 'HBOR', 'nome': 'HELBOR EMPREENDIMENTOS S.A.', 'sector': 'Construção Civil', 'color': 'orange', 'PL': '1361.99 BI', 'symbol': 'side', 'PM': '0.0', 'gain': '0%', 'CMP': 'YoY'}, {'tick': 'HBRE', 'nome': 'HBR REALTY EMPREENDIMENTOS IMOBILIÁRIOS S.A.', 'sector': 'Construção Civil', 'color': 'red', 'PL': '1885.33 BI', 'symbol': 'side', 'PM': '0.0', 'gain': '0%', 'CMP': 'YoY'}, {'tick': 'HBSA', 'nome': 'HIDROVIAS DO BRASIL S.A.', 'sector': 'Logistica', 'color': 'orange', 'PL': '1461.77 BI', 'symbol': 'side', 'PM': '0.0', 'gain': '0%', 'CMP': 'YoY'}, {'tick': 'HBTS', 'nome': 'CIA HABITASUL DE PARTICIPACOES', 'sector': 'Crédito Imobiliário', 'color': 'orange', 'PL': '499.83 BI', 'symbol': 'side', 'PM': '0.0', 'gain': '0%', 'CMP': 'YoY'}, {'tick': 'HETA', 'nome': 'HERCULES S.A. FABRICA DE TALHERES', 'sector': 'Metalurgia e Siderurgia', 'color': 'red', 'PL': '-558.60 BI', 'symbol': 'side', 'PM': '0.0', 'gain': '0%', 'CMP': 'YoY'}, {'tick': 'HOOT', 'nome': 'HOTEIS OTHON S.A. - EM RECUPERAÇÃO JUDICIAL', 'sector': 'Hospedagem e Turismo', 'color': 'red', 'PL': '-335.35 BI', 'symbol': 'side', 'PM': '0.0', 'gain': '0%', 'CMP': 'YoY'}, {'tick': 'HYPE', 'nome': 'HYPERA S.A.', 'sector': 'Farmacêutico e Higiene', 'color': 'orange', 'PL': '10492.69 BI', 'symbol': 'side', 'PM': '0.0', 'gain': '0%', 'CMP': 'YoY'}, {'tick': 'IGBR', 'nome': 'IGB ELETRONICA S.A - EM RECUPERACAO JUDICIAL', 'sector': 'Industria', 'color': 'red', 'PL': '-650.96 BI', 'symbol': 'side', 'PM': '0.0', 'gain': '0%', 'CMP': 'YoY'}, {'tick': 'IGSN', 'nome': 'IGUA SANEAMENTO S.A.', 'sector': 'Saneamento Básico', 'color': 'red', 'PL': '3262.07 BI', 'symbol': 'side', 'PM': '0.0', 'gain': '0%', 'CMP': 'YoY'}, {'tick': 'IGTI', 'nome': 'IGUATEMI S.A.', 'sector': 'Telecomunicações', 'color': 'orange', 'PL': '4002.91 BI', 'symbol': 'side', 'PM': '0.0', 'gain': '0%', 'CMP': 'YoY'}, {'tick': 'INEP', 'nome': 'INEPAR S.A. INDUSTRIA E CONSTRUCOES EM RECUPERACAO JUDICIAL', 'sector': 'Industria', 'color': 'red', 'PL': '-1457.63 BI', 'symbol': 'side', 'PM': '0.0', 'gain': '0%', 'CMP': 'YoY'}, {'tick': 'INNT', 'nome': 'INTER CONSTRUTORA E INCORPORADORA S.A.', 'sector': 'Construção Civil', 'color': 'red', 'PL': '127.47 BI', 'symbol': 'side', 'PM': '0.0', 'gain': '0%', 'CMP': 'YoY'}, {'tick': 'INTB', 'nome': 'INTELBRAS S.A.', 'sector': 'Comércio', 'color': 'green', 'PL': '2134.79 BI', 'symbol': 'side', 'PM': '0.0', 'gain': '0%', 'CMP': 'YoY'}, {'tick': 'IRBR', 'nome': 'IRB - BRASIL RESSEGUROS S.A.', 'sector': 'Seguradoras e Corretoras', 'color': 'red', 'PL': '4106.82 BI', 'symbol': 'side', 'PM': '0.0', 'gain': '0%', 'CMP': 'YoY'}, {'tick': 'ITSA', 'nome': 'ITAÚSA S.A.', 'sector': 'Intermediação Financeira', 'color': 'green', 'PL': '70827.00 BI', 'symbol': 'side', 'PM': '0.0', 'gain': '0%', 'CMP': 'YoY'}, {'tick': 'ITUB', 'nome': 'ITAU UNIBANCO HOLDING S.A.', 'sector': 'Bancos', 'color': 'green', 'PL': '158498.00 BI', 'symbol': 'side', 'PM': '0.0', 'gain': '0%', 'CMP': 'YoY'}, {'tick': 'IVPR', 'nome': 'INVESTIMENTOS E PARTICIP. EM INFRA S.A. - INVEPAR', 'sector': 'Logistica', 'color': 'red', 'PL': '-1346.94 BI', 'symbol': 'side', 'PM': '0.0', 'gain': '0%', 'CMP': 'YoY'}, {'tick': 'JALL', 'nome': 'JALLES MACHADO S.A.', 'sector': 'Agro', 'color': 'green', 'PL': '1676.45 BI', 'symbol': 'side', 'PM': '0.0', 'gain': '0%', 'CMP': 'YoY'}, {'tick': 'JBSS', 'nome': 'JBS S.A.', 'sector': 'Alimentos', 'color': 'orange', 'PL': '46554.52 BI', 'symbol': 'side', 'PM': '0.0', 'gain': '0%', 'CMP': 'YoY'}, {'tick': 'JFEN', 'nome': 'JOAO FORTES ENGENHARIA S.A. - EM RECUPERAÇÃO JUDICIAL', 'sector': 'Construção Civil', 'color': 'red', 'PL': '-639.92 BI', 'symbol': 'side', 'PM': '0.0', 'gain': '0%', 'CMP': 'YoY'}, {'tick': 'JHSF', 'nome': 'JHSF PARTICIPACOES S.A.', 'sector': 'Construção Civil', 'color': 'orange', 'PL': '4970.93 BI', 'symbol': 'side', 'PM': '0.0', 'gain': '0%', 'CMP': 'YoY'}, {'tick': 'JOPA', 'nome': 'JOSAPAR-JOAQUIM OLIVEIRA S.A. - PARTICIP', 'sector': 'Alimentos', 'color': 'orange', 'PL': '571.09 BI', 'symbol': 'side', 'PM': '0.0', 'gain': '0%', 'CMP': 'YoY'}, {'tick': 'JSLG', 'nome': 'JSL S.A.', 'sector': 'Logistica', 'color': 'red', 'PL': '1388.34 BI', 'symbol': 'side', 'PM': '0.0', 'gain': '0%', 'CMP': 'YoY'}, {'tick': 'KEPL', 'nome': 'KEPLER WEBER S.A.', 'sector': 'Metalurgia e Siderurgia', 'color': 'green', 'PL': '631.38 BI', 'symbol': 'side', 'PM': '0.0', 'gain': '0%', 'CMP': 'YoY'}, {'tick': 'KLBN', 'nome': 'KLABIN S.A.', 'sector': 'Papel e Celulose', 'color': 'red', 'PL': '9002.80 BI', 'symbol': 'side', 'PM': '0.0', 'gain': '0%', 'CMP': 'YoY'}, {'tick': 'LAVV', 'nome': 'LAVVI EMPREENDIMENTOS IMOBILIÁRIOS S.A.', 'sector': 'Construção Civil', 'color': 'red', 'PL': '1143.13 BI', 'symbol': 'side', 'PM': '0.0', 'gain': '0%', 'CMP': 'YoY'}, {'tick': 'LEVE', 'nome': 'MAHLE-METAL LEVE S.A.', 'sector': 'Industria', 'color': 'red', 'PL': '1647.10 BI', 'symbol': 'side', 'PM': '0.0', 'gain': '0%', 'CMP': 'YoY'}, {'tick': 'LIGT', 'nome': 'LIGHT S.A.', 'sector': 'Energia Elétrica', 'color': 'red', 'PL': '8557.00 BI', 'symbol': 'side', 'PM': '0.0', 'gain': '0%', 'CMP': 'YoY'}, {'tick': 'LIPR', 'nome': 'ELETROBRÁS PARTICIPAÇÕES S.A. - ELETROPAR', 'sector': 'Energia Elétrica', 'color': 'orange', 'PL': '215.09 BI', 'symbol': 'side', 'PM': '0.0', 'gain': '0%', 'CMP': 'YoY'}, {'tick': 'LJQQ', 'nome': 'LOJAS QUERO QUERO S.A.', 'sector': 'Comércio', 'color': 'orange', 'PL': '520.37 BI', 'symbol': 'side', 'PM': '0.0', 'gain': '0%', 'CMP': 'YoY'}, {'tick': 'LLIS', 'nome': 'VESTE S.A. ESTILO', 'sector': 'Comércio', 'color': 'red', 'PL': '-697.15 BI', 'symbol': 'side', 'PM': '0.0', 'gain': '0%', 'CMP': 'YoY'}, {'tick': 'LOGG', 'nome': 'LOG COMMERCIAL PROPERTIES E PARTICIPAÇÕES', 'sector': 'Construção Civil', 'color': 'red', 'PL': '3636.25 BI', 'symbol': 'side', 'PM': '0.0', 'gain': '0%', 'CMP': 'YoY'}, {'tick': 'LOGN', 'nome': 'LOG-IN LOGISTICA INTERMODAL S.A.', 'sector': 'Logistica', 'color': 'orange', 'PL': '583.88 BI', 'symbol': 'side', 'PM': '0.0', 'gain': '0%', 'CMP': 'YoY'}, {'tick': 'LPSB', 'nome': 'LPS BRASIL - CONSULTORIA DE IMOVEIS S.A.', 'sector': 'Construção Civil', 'color': 'orange', 'PL': '196.83 BI', 'symbol': 'side', 'PM': '0.0', 'gain': '0%', 'CMP': 'YoY'}, {'tick': 'LREN', 'nome': 'LOJAS RENNER S.A.', 'sector': 'Comércio', 'color': 'green', 'PL': '9790.80 BI', 'symbol': 'side', 'PM': '0.0', 'gain': '0%', 'CMP': 'YoY'}, {'tick': 'LUPA', 'nome': 'LUPATECH S.A. - EM RECUPERAÇÃO JUDICIAL', 'sector': 'Industria', 'color': 'red', 'PL': '113.75 BI', 'symbol': 'side', 'PM': '0.0', 'gain': '0%', 'CMP': 'YoY'}, {'tick': 'LUXM', 'nome': 'TREVISA INVESTIMENTOS S.A.', 'sector': 'Serviços em Geral', 'color': 'orange', 'PL': '107.81 BI', 'symbol': 'side', 'PM': '0.0', 'gain': '0%', 'CMP': 'YoY'}, {'tick': 'LWSA', 'nome': 'LOCAWEB SERVIÇOS DE INTERNET S.A.', 'sector': 'Telecomunicação', 'color': 'orange', 'PL': '2959.84 BI', 'symbol': 'side', 'PM': '0.0', 'gain': '0%', 'CMP': 'YoY'}, {'tick': 'MAPT', 'nome': 'CEMEPE INVESTIMENTOS S.A.', 'sector': 'Serviços em Geral', 'color': 'red', 'PL': '-6.07 BI', 'symbol': 'side', 'PM': '0.0', 'gain': '0%', 'CMP': 'YoY'}, {'tick': 'MATD', 'nome': 'HOSPITAL MATER DEI S.A.', 'sector': 'Serviços Médicos', 'color': 'green', 'PL': '1639.18 BI', 'symbol': 'side', 'PM': '0.0', 'gain': '0%', 'CMP': 'YoY'}, {'tick': 'MBLY', 'nome': 'MOBLY S.A.', 'sector': 'Comércio', 'color': 'red', 'PL': '570.42 BI', 'symbol': 'side', 'PM': '0.0', 'gain': '0%', 'CMP': 'YoY'}, {'tick': 'MDIA', 'nome': 'M.DIAS BRANCO S.A. IND COM DE ALIMENTOS', 'sector': 'Alimentos', 'color': 'green', 'PL': '6893.86 BI', 'symbol': 'side', 'PM': '0.0', 'gain': '0%', 'CMP': 'YoY'}, {'tick': 'MDNE', 'nome': 'MOURA DUBEUX ENGENHARIA S/A', 'sector': 'Construção Civil', 'color': 'red', 'PL': '1171.41 BI', 'symbol': 'side', 'PM': '0.0', 'gain': '0%', 'CMP': 'YoY'}, {'tick': 'MEAL', 'nome': 'INTERNATIONAL MEAL COMPANY ALIMENTACAO S.A.', 'sector': 'Alimentos', 'color': 'red', 'PL': '1158.05 BI', 'symbol': 'side', 'PM': '0.0', 'gain': '0%', 'CMP': 'YoY'}, {'tick': 'MELK', 'nome': 'MELNICK DESENVOLVIMENTO IMOBILIÁRIO S.A.', 'sector': 'Construção Civil', 'color': 'orange', 'PL': '1198.55 BI', 'symbol': 'side', 'PM': '0.0', 'gain': '0%', 'CMP': 'YoY'}, {'tick': 'MERC', 'nome': 'CREDITAQUI FINANCEIRA S.A. - C.F.I.', 'sector': 'Bancos', 'color': 'red', 'PL': '251.34 BI', 'symbol': 'side', 'PM': '0.0', 'gain': '0%', 'CMP': 'YoY'}, {'tick': 'MGEL', 'nome': 'MANGELS INDUSTRIAL S.A.', 'sector': 'Metalurgia e Siderurgia', 'color': 'red', 'PL': '-189.12 BI', 'symbol': 'side', 'PM': '0.0', 'gain': '0%', 'CMP': 'YoY'}, {'tick': 'MGLU', 'nome': 'MAGAZINE LUIZA S.A.', 'sector': 'Comércio', 'color': 'red', 'PL': '10805.29 BI', 'symbol': 'side', 'PM': '0.0', 'gain': '0%', 'CMP': 'YoY'}, {'tick': 'MILS', 'nome': 'MILLS LOCAÇÃO, SERVIÇOS E LOGÍSTICA S.A.', 'sector': 'Logistica', 'color': 'green', 'PL': '1203.75 BI', 'symbol': 'side', 'PM': '0.0', 'gain': '0%', 'CMP': 'YoY'}, {'tick': 'MNDL', 'nome': 'MUNDIAL S.A. - PRODUTOS DE CONSUMO', 'sector': 'Têxtil e Vestuário', 'color': 'red', 'PL': '-752.80 BI', 'symbol': 'side', 'PM': '0.0', 'gain': '0%', 'CMP': 'YoY'}, {'tick': 'MNPR', 'nome': 'MINUPAR PARTICIPACOES S.A.', 'sector': 'Alimentos', 'color': 'red', 'PL': '-319.88 BI', 'symbol': 'side', 'PM': '0.0', 'gain': '0%', 'CMP': 'YoY'}, {'tick': 'MOAR', 'nome': 'MONTEIRO ARANHA S.A.', 'sector': 'Serviços em Geral', 'color': 'green', 'PL': '827.32 BI', 'symbol': 'side', 'PM': '0.0', 'gain': '0%', 'CMP': 'YoY'}, {'tick': 'MOVI', 'nome': 'MOVIDA PARTICIPACOES SA', 'sector': 'Logistica', 'color': 'red', 'PL': '2777.08 BI', 'symbol': 'side', 'PM': '0.0', 'gain': '0%', 'CMP': 'YoY'}, {'tick': 'MRFG', 'nome': 'MARFRIG GLOBAL FOODS S.A.', 'sector': 'Alimentos', 'color': 'green', 'PL': '4866.93 BI', 'symbol': 'side', 'PM': '0.0', 'gain': '0%', 'CMP': 'YoY'}, {'tick': 'MRVE', 'nome': 'MRV ENGENHARIA E PARTICIPACOES S.A.', 'sector': 'Construção Civil', 'color': 'green', 'PL': '6209.62 BI', 'symbol': 'side', 'PM': '0.0', 'gain': '0%', 'CMP': 'YoY'}, {'tick': 'MSRO', 'nome': 'MAESTRO LOCADORA DE VEICULOS S.A.', 'sector': 'Logistica', 'color': 'orange', 'PL': '65.84 BI', 'symbol': 'side', 'PM': '0.0', 'gain': '0%', 'CMP': 'YoY'}, {'tick': 'MTRE', 'nome': 'MITRE REALTY EMPREENDIMENTOS E PARTICIPAÇÕES S.A.', 'sector': 'Construção Civil', 'color': 'red', 'PL': '995.19 BI', 'symbol': 'side', 'PM': '0.0', 'gain': '0%', 'CMP': 'YoY'}, {'tick': 'MTSA', 'nome': 'METISA METALURGICA TIMBOENSE S.A.', 'sector': 'Metalurgia e Siderurgia', 'color': 'green', 'PL': '372455.53 BI', 'symbol': 'side', 'PM': '0.0', 'gain': '0%', 'CMP': 'YoY'}, {'tick': 'MULT', 'nome': 'MULTIPLAN - EMPREEND IMOBILIARIOS S.A.', 'sector': 'Construção Civil', 'color': 'red', 'PL': '6543.65 BI', 'symbol': 'side', 'PM': '0.0', 'gain': '0%', 'CMP': 'YoY'}, {'tick': 'MWET', 'nome': 'WETZEL S.A.', 'sector': 'Metalurgia e Siderurgia', 'color': 'red', 'PL': '-22.43 BI', 'symbol': 'side', 'PM': '0.0', 'gain': '0%', 'CMP': 'YoY'}, {'tick': 'MYPK', 'nome': 'IOCHPE MAXION S.A.', 'sector': 'Industria', 'color': 'red', 'PL': '4089.83 BI', 'symbol': 'side', 'PM': '0.0', 'gain': '0%', 'CMP': 'YoY'}, {'tick': 'NEMO', 'nome': 'SUZANO HOLDING S.A.', 'sector': 'Papel e Celulose', 'color': 'orange', 'PL': '7971.00 BI', 'symbol': 'side', 'PM': '0.0', 'gain': '0%', 'CMP': 'YoY'}, {'tick': 'NEOE', 'nome': 'NEOENERGIA S.A.', 'sector': 'Energia Elétrica', 'color': 'orange', 'PL': '26705.00 BI', 'symbol': 'side', 'PM': '0.0', 'gain': '0%', 'CMP': 'YoY'}, {'tick': 'NORD', 'nome': 'NORDON INDUSTRIAS METALURGICAS S.A.', 'sector': 'Metalurgia e Siderurgia', 'color': 'red', 'PL': '-148.92 BI', 'symbol': 'side', 'PM': '0.0', 'gain': '0%', 'CMP': 'YoY'}, {'tick': 'NTCO', 'nome': 'NATURA &CO HOLDING S.A.', 'sector': 'Farmacêutico e Higiene', 'color': 'red', 'PL': '22984.96 BI', 'symbol': 'side', 'PM': '0.0', 'gain': '0%', 'CMP': 'YoY'}, {'tick': 'NUTR', 'nome': 'NUTRIPLANT INDUSTRIA E COMERCIO S.A.', 'sector': 'Agro', 'color': 'green', 'PL': '29.04 BI', 'symbol': 'side', 'PM': '0.0', 'gain': '0%', 'CMP': 'YoY'}, {'tick': 'ODER', 'nome': 'CONSERVAS ODERICH S.A.', 'sector': 'Alimentos', 'color': 'red', 'PL': '354.72 BI', 'symbol': 'side', 'PM': '0.0', 'gain': '0%', 'CMP': 'YoY'}, {'tick': 'ODPV', 'nome': 'ODONTOPREV S.A.', 'sector': 'Serviços Médicos', 'color': 'green', 'PL': '1206.08 BI', 'symbol': 'side', 'PM': '0.0', 'gain': '0%', 'CMP': 'YoY'}, {'tick': 'OFSA', 'nome': 'OURO FINO SAUDE ANIMAL PARTICIPACOES S.A.', 'sector': 'Comércio', 'color': 'red', 'PL': '726.06 BI', 'symbol': 'side', 'PM': '0.0', 'gain': '0%', 'CMP': 'YoY'}, {'tick': 'OPCT', 'nome': 'OCEANPACT SERVIÇOS MARITIMOS S.A.', 'sector': 'Petróleo e Gás', 'color': 'red', 'PL': '751.06 BI', 'symbol': 'side', 'PM': '0.0', 'gain': '0%', 'CMP': 'YoY'}, {'tick': 'ORVR', 'nome': 'ORIZON VALORIZAÇÃO DE RESÍDUOS S.A.', 'sector': 'Saneamento Básico', 'color': 'red', 'PL': '413.00 BI', 'symbol': 'side', 'PM': '0.0', 'gain': '0%', 'CMP': 'YoY'}, {'tick': 'OSXB', 'nome': 'OSX BRASIL S.A.', 'sector': 'Serviços em Geral', 'color': 'red', 'PL': '-5842.51 BI', 'symbol': 'side', 'PM': '0.0', 'gain': '0%', 'CMP': 'YoY'}, {'tick': 'PARD', 'nome': 'INSTITUTO HERMES PARDINI S.A.', 'sector': 'Serviços Médicos', 'color': 'green', 'PL': '957.43 BI', 'symbol': 'side', 'PM': '0.0', 'gain': '0%', 'CMP': 'YoY'}, {'tick': 'PATI', 'nome': 'PANATLANTICA S.A.', 'sector': 'Metalurgia e Siderurgia', 'color': 'red', 'PL': '910.40 BI', 'symbol': 'side', 'PM': '0.0', 'gain': '0%', 'CMP': 'YoY'}, {'tick': 'PCAR', 'nome': 'CIA BRASILEIRA DE DISTRIBUICAO', 'sector': 'Comércio', 'color': 'orange', 'PL': '13539.00 BI', 'symbol': 'side', 'PM': '0.0', 'gain': '0%', 'CMP': 'YoY'}, {'tick': 'PDGR', 'nome': 'PDG REALTY S.A. EMPREEND E PARTICIPACOES', 'sector': 'Construção Civil', 'color': 'red', 'PL': '-4867.48 BI', 'symbol': 'side', 'PM': '0.0', 'gain': '0%', 'CMP': 'YoY'}, {'tick': 'PDTC', 'nome': 'PADTEC HOLDING S.A.', 'sector': 'Telecomunicações', 'color': 'red', 'PL': '130.60 BI', 'symbol': 'side', 'PM': '0.0', 'gain': '0%', 'CMP': 'YoY'}, {'tick': 'PEAB', 'nome': 'CIA PARTICIPACOES ALIANCA DA BAHIA', 'sector': 'Serviços em Geral', 'color': 'orange', 'PL': '678.04 BI', 'symbol': 'side', 'PM': '0.0', 'gain': '0%', 'CMP': 'YoY'}, {'tick': 'PETR', 'nome': 'PETROLEO BRASILEIRO S.A. PETROBRAS', 'sector': 'Petróleo e Gás', 'color': 'green', 'PL': '372498.00 BI', 'symbol': 'side', 'PM': '0.0', 'gain': '0%', 'CMP': 'YoY'}, {'tick': 'PETZ', 'nome': 'PET CENTER COMÉRCIO E PARTICIPAÇÕES S.A.', 'sector': 'Comércio', 'color': 'green', 'PL': '1831.13 BI', 'symbol': 'side', 'PM': '0.0', 'gain': '0%', 'CMP': 'YoY'}, {'tick': 'PFRM', 'nome': 'PROFARMA DISTRIB PROD FARMACEUTICOS S.A.', 'sector': 'Comércio', 'color': 'green', 'PL': '1205.21 BI', 'symbol': 'side', 'PM': '0.0', 'gain': '0%', 'CMP': 'YoY'}, {'tick': 'PINE', 'nome': 'BCO PINE S.A', 'sector': 'Bancos', 'color': 'red', 'PL': '857.61 BI', 'symbol': 'side', 'PM': '0.0', 'gain': '0%', 'CMP': 'YoY'}, {'tick': 'PLAS', 'nome': 'PLASCAR PARTICIPACOES INDUSTRIAIS S.A.', 'sector': 'Industria', 'color': 'red', 'PL': '-371.81 BI', 'symbol': 'side', 'PM': '0.0', 'gain': '0%', 'CMP': 'YoY'}, {'tick': 'PLPL', 'nome': 'PLANO & PLANO DESENVOLVIMENTO IMOBILIÁRIO S.A.', 'sector': 'Construção Civil', 'color': 'red', 'PL': '383.68 BI', 'symbol': 'side', 'PM': '0.0', 'gain': '0%', 'CMP': 'YoY'}, {'tick': 'PMAM', 'nome': 'PARANAPANEMA S.A. - EM RECUPERAÇÃO JUDICIAL', 'sector': 'Metalurgia e Siderurgia', 'color': 'red', 'PL': '-1621.54 BI', 'symbol': 'side', 'PM': '0.0', 'gain': '0%', 'CMP': 'YoY'}, {'tick': 'PNVL', 'nome': 'DIMED S.A. DISTRIBUIDORA DE MEDICAMENTOS', 'sector': 'Comércio', 'color': 'green', 'PL': '1091.00 BI', 'symbol': 'side', 'PM': '0.0', 'gain': '0%', 'CMP': 'YoY'}, {'tick': 'POMO', 'nome': 'MARCOPOLO S.A.', 'sector': 'Industria', 'color': 'red', 'PL': '3045.39 BI', 'symbol': 'side', 'PM': '0.0', 'gain': '0%', 'CMP': 'YoY'}, {'tick': 'POSI', 'nome': 'POSITIVO TECNOLOGIA S.A.', 'sector': 'Telecomunicação', 'color': 'red', 'PL': '1326.58 BI', 'symbol': 'side', 'PM': '0.0', 'gain': '0%', 'CMP': 'YoY'}, {'tick': 'PPAR', 'nome': 'POLPAR S.A.', 'sector': 'Serviços em Geral', 'color': 'red', 'PL': '42.78 BI', 'symbol': 'side', 'PM': '0.0', 'gain': '0%', 'CMP': 'YoY'}, {'tick': 'PRIO', 'nome': 'PETRO RIO S.A.', 'sector': 'Petróleo e Gás', 'color': 'red', 'PL': '9237.92 BI', 'symbol': 'side', 'PM': '0.0', 'gain': '0%', 'CMP': 'YoY'}, {'tick': 'PRNR', 'nome': 'PRINER SERVIÇOS INDUSTRIAIS S.A.', 'sector': 'Construção Civil', 'color': 'red', 'PL': '257.32 BI', 'symbol': 'side', 'PM': '0.0', 'gain': '0%', 'CMP': 'YoY'}, {'tick': 'PSSA', 'nome': 'PORTO SEGURO S.A.', 'sector': 'Seguradoras e Corretoras', 'color': 'red', 'PL': '9953.77 BI', 'symbol': 'side', 'PM': '0.0', 'gain': '0%', 'CMP': 'YoY'}, {'tick': 'PTBL', 'nome': 'PBG S/A', 'sector': 'Construção Civil', 'color': 'orange', 'PL': '456.09 BI', 'symbol': 'side', 'PM': '0.0', 'gain': '0%', 'CMP': 'YoY'}, {'tick': 'PTCA', 'nome': 'PRÁTICA KLIMAQUIP INDÚSTRIA E COMÉRCIO S.A.', 'sector': 'Industria', 'color': 'orange', 'PL': '75.53 BI', 'symbol': 'side', 'PM': '0.0', 'gain': '0%', 'CMP': 'YoY'}, {'tick': 'PTNT', 'nome': 'PETTENATI S.A. INDUSTRIA TEXTIL', 'sector': 'Têxtil e Vestuário', 'color': 'green', 'PL': '353213.29 BI', 'symbol': 'side', 'PM': '0.0', 'gain': '0%', 'CMP': 'YoY'}, {'tick': 'QUAL', 'nome': 'QUALICORP CONSULTORIA E CORRETORA DE SEGUROS S.A.', 'sector': 'Seguradoras e Corretoras', 'color': 'green', 'PL': '1447.14 BI', 'symbol': 'side', 'PM': '0.0', 'gain': '0%', 'CMP': 'YoY'}, {'tick': 'QUSW', 'nome': 'QUALITY SOFTWARE S.A.', 'sector': 'Telecomunicação', 'color': 'red', 'PL': '63788.28 BI', 'symbol': 'side', 'PM': '0.0', 'gain': '0%', 'CMP': 'YoY'}, {'tick': 'RADL', 'nome': 'RAIA DROGASIL S.A.', 'sector': 'Comércio', 'color': 'orange', 'PL': '5052.79 BI', 'symbol': 'side', 'PM': '0.0', 'gain': '0%', 'CMP': 'YoY'}, {'tick': 'RAIL', 'nome': 'RUMO S.A.', 'sector': 'Logistica', 'color': 'red', 'PL': '15061.02 BI', 'symbol': 'side', 'PM': '0.0', 'gain': '0%', 'CMP': 'YoY'}, {'tick': 'RAPT', 'nome': 'RANDON S.A. IMPLEMENTOS E PARTICIPACOES', 'sector': 'Industria', 'color': 'red', 'PL': '2771.97 BI', 'symbol': 'side', 'PM': '0.0', 'gain': '0%', 'CMP': 'YoY'}, {'tick': 'RCSL', 'nome': 'RECRUSUL S.A.', 'sector': 'Industria', 'color': 'red', 'PL': '-39.01 BI', 'symbol': 'side', 'PM': '0.0', 'gain': '0%', 'CMP': 'YoY'}, {'tick': 'RDNI', 'nome': 'RNI NEGÓCIOS IMOBILIÁRIOS S.A.', 'sector': 'Construção Civil', 'color': 'red', 'PL': '638.83 BI', 'symbol': 'side', 'PM': '0.0', 'gain': '0%', 'CMP': 'YoY'}, {'tick': 'RDOR', 'nome': \"REDE D'OR SÃO LUIZ S.A.\", 'sector': 'Serviços Médicos', 'color': 'red', 'PL': '13628.54 BI', 'symbol': 'side', 'PM': '0.0', 'gain': '0%', 'CMP': 'YoY'}, {'tick': 'REDE', 'nome': 'REDE ENERGIA PARTICIPAÇÕES S.A.', 'sector': 'Energia Elétrica', 'color': 'green', 'PL': '4202.20 BI', 'symbol': 'side', 'PM': '0.0', 'gain': '0%', 'CMP': 'YoY'}, {'tick': 'RENT', 'nome': 'LOCALIZA RENT A CAR S.A.', 'sector': 'Logistica', 'color': 'red', 'PL': '20329.71 BI', 'symbol': 'side', 'PM': '0.0', 'gain': '0%', 'CMP': 'YoY'}, {'tick': 'RNEW', 'nome': 'RENOVA ENERGIA S.A. - EM RECUPERAÇÃO JUDICIAL', 'sector': 'Energia Elétrica', 'color': 'red', 'PL': '160.68 BI', 'symbol': 'side', 'PM': '0.0', 'gain': '0%', 'CMP': 'YoY'}, {'tick': 'ROMI', 'nome': 'ROMI S.A.', 'sector': 'Industria', 'color': 'orange', 'PL': '1016.97 BI', 'symbol': 'side', 'PM': '0.0', 'gain': '0%', 'CMP': 'YoY'}, {'tick': 'RPAD', 'nome': 'ALFA HOLDINGS S.A.', 'sector': 'Intermediação Financeira', 'color': 'orange', 'PL': '1072.04 BI', 'symbol': 'side', 'PM': '0.0', 'gain': '0%', 'CMP': 'YoY'}, {'tick': 'RPMG', 'nome': 'REFINARIA DE PETROLEOS MANGUINHOS S.A.', 'sector': 'Petróleo e Gás', 'color': 'red', 'PL': '-4233.00 BI', 'symbol': 'side', 'PM': '0.0', 'gain': '0%', 'CMP': 'YoY'}, {'tick': 'RRRP', 'nome': '3R PETROLEUM ÓLEO E GÁS S.A.', 'sector': 'Petróleo e Gás', 'color': 'red', 'PL': '4318.78 BI', 'symbol': 'side', 'PM': '0.0', 'gain': '0%', 'CMP': 'YoY'}, {'tick': 'RSID', 'nome': 'ROSSI RESIDENCIAL S.A. - EM RECUPERAÇÃO JUDICIAL', 'sector': 'Construção Civil', 'color': 'red', 'PL': '-913.96 BI', 'symbol': 'side', 'PM': '0.0', 'gain': '0%', 'CMP': 'YoY'}, {'tick': 'RSUL', 'nome': 'METALURGICA RIOSULENSE S.A.', 'sector': 'Industria', 'color': 'orange', 'PL': '124.14 BI', 'symbol': 'side', 'PM': '0.0', 'gain': '0%', 'CMP': 'YoY'}, {'tick': 'SANB', 'nome': 'BCO SANTANDER (BRASIL) S.A.', 'sector': 'Bancos', 'color': 'red', 'PL': '82397.29 BI', 'symbol': 'side', 'PM': '0.0', 'gain': '0%', 'CMP': 'YoY'}, {'tick': 'SAPR', 'nome': 'CIA SANEAMENTO DO PARANA - SANEPAR', 'sector': 'Saneamento Básico', 'color': 'red', 'PL': '8408.83 BI', 'symbol': 'side', 'PM': '0.0', 'gain': '0%', 'CMP': 'YoY'}, {'tick': 'SBFG', 'nome': 'GRUPO SBF S.A.', 'sector': 'Comércio', 'color': 'green', 'PL': '2317.74 BI', 'symbol': 'side', 'PM': '0.0', 'gain': '0%', 'CMP': 'YoY'}, {'tick': 'SBSP', 'nome': 'CIA SANEAMENTO BASICO EST SAO PAULO', 'sector': 'Saneamento Básico', 'color': 'red', 'PL': '27355.29 BI', 'symbol': 'side', 'PM': '0.0', 'gain': '0%', 'CMP': 'YoY'}, {'tick': 'SCAR', 'nome': 'SAO CARLOS EMPREEND E PARTICIPACOES S.A.', 'sector': 'Serviços em Geral', 'color': 'red', 'PL': '1503.85 BI', 'symbol': 'side', 'PM': '0.0', 'gain': '0%', 'CMP': 'YoY'}, {'tick': 'SEER', 'nome': 'SER EDUCACIONAL S.A.', 'sector': 'Educação', 'color': 'orange', 'PL': '1363.92 BI', 'symbol': 'side', 'PM': '0.0', 'gain': '0%', 'CMP': 'YoY'}, {'tick': 'SEQL', 'nome': 'SEQUOIA LOGÍSTICA E TRANSPORTES S.A.', 'sector': 'Logistica', 'color': 'green', 'PL': '537.37 BI', 'symbol': 'side', 'PM': '0.0', 'gain': '0%', 'CMP': 'YoY'}, {'tick': 'SGPS', 'nome': 'SPRINGS GLOBAL PARTICIPACOES S.A.', 'sector': 'Têxtil e Vestuário', 'color': 'red', 'PL': '605.75 BI', 'symbol': 'side', 'PM': '0.0', 'gain': '0%', 'CMP': 'YoY'}, {'tick': 'SHOW', 'nome': 'T4F ENTRETENIMENTO S.A.', 'sector': 'Brinquedos e Lazer', 'color': 'red', 'PL': '141.72 BI', 'symbol': 'side', 'PM': '0.0', 'gain': '0%', 'CMP': 'YoY'}, {'tick': 'SHUL', 'nome': 'SCHULZ S.A.', 'sector': 'Metalurgia e Siderurgia', 'color': 'red', 'PL': '1041.63 BI', 'symbol': 'side', 'PM': '0.0', 'gain': '0%', 'CMP': 'YoY'}, {'tick': 'SIMH', 'nome': 'SIMPAR S.A.', 'sector': 'Logistica', 'color': 'red', 'PL': '2770.20 BI', 'symbol': 'side', 'PM': '0.0', 'gain': '0%', 'CMP': 'YoY'}, {'tick': 'SLCE', 'nome': 'SLC AGRICOLA S.A.', 'sector': 'Agro', 'color': 'red', 'PL': '4788.89 BI', 'symbol': 'side', 'PM': '0.0', 'gain': '0%', 'CMP': 'YoY'}, {'tick': 'SLED', 'nome': 'SARAIVA LIVREIROS S.A. - EM RECUPERAÇÃO JUDICIAL', 'sector': 'Comércio', 'color': 'red', 'PL': '-365.84 BI', 'symbol': 'side', 'PM': '0.0', 'gain': '0%', 'CMP': 'YoY'}, {'tick': 'SMFT', 'nome': 'SMARTFIT ESCOLA DE GINÁSTICA E DANÇA S.A.', 'sector': 'Brinquedos e Lazer', 'color': 'red', 'PL': '4147.93 BI', 'symbol': 'side', 'PM': '0.0', 'gain': '0%', 'CMP': 'YoY'}, {'tick': 'SMTO', 'nome': 'SAO MARTINHO S.A.', 'sector': 'Agro', 'color': 'orange', 'PL': '5452.02 BI', 'symbol': 'side', 'PM': '0.0', 'gain': '0%', 'CMP': 'YoY'}, {'tick': 'SNSY', 'nome': 'SANSUY S.A. INDUSTRIA DE PLASTICOS', 'sector': 'Petroquímicos e Borracha', 'color': 'red', 'PL': '-1607.73 BI', 'symbol': 'side', 'PM': '0.0', 'gain': '0%', 'CMP': 'YoY'}, {'tick': 'SOMA', 'nome': 'GRUPO DE MODA SOMA S.A.', 'sector': 'Têxtil e Vestuário', 'color': 'red', 'PL': '7413.64 BI', 'symbol': 'side', 'PM': '0.0', 'gain': '0%', 'CMP': 'YoY'}, {'tick': 'SOND', 'nome': 'SONDOTECNICA ENGENHARIA SOLOS S.A.', 'sector': 'Construção Civil', 'color': 'red', 'PL': '57.91 BI', 'symbol': 'side', 'PM': '0.0', 'gain': '0%', 'CMP': 'YoY'}, {'tick': 'SQIA', 'nome': 'SINQIA S.A.', 'sector': 'Telecomunicação', 'color': 'green', 'PL': '783.63 BI', 'symbol': 'side', 'PM': '0.0', 'gain': '0%', 'CMP': 'YoY'}, {'tick': 'STBP', 'nome': 'SANTOS BRASIL PARTICIPACOES S.A.', 'sector': 'Logistica', 'color': 'orange', 'PL': '2139.97 BI', 'symbol': 'side', 'PM': '0.0', 'gain': '0%', 'CMP': 'YoY'}, {'tick': 'STKF', 'nome': 'STATKRAFT ENERGIAS RENOVAVEIS S.A.', 'sector': 'Energia Elétrica', 'color': 'green', 'PL': '3108.72 BI', 'symbol': 'side', 'PM': '0.0', 'gain': '0%', 'CMP': 'YoY'}, {'tick': 'SUZB', 'nome': 'SUZANO S.A.', 'sector': 'Papel e Celulose', 'color': 'orange', 'PL': '27951.65 BI', 'symbol': 'side', 'PM': '0.0', 'gain': '0%', 'CMP': 'YoY'}, {'tick': 'SYNE', 'nome': 'SYN PROP & TECH S.A.', 'sector': 'Construção Civil', 'color': 'orange', 'PL': '1550.46 BI', 'symbol': 'side', 'PM': '0.0', 'gain': '0%', 'CMP': 'YoY'}, {'tick': 'TAEE', 'nome': 'TRANSMISSORA ALIANÇA DE ENERGIA ELÉTRICA S.A.', 'sector': 'Energia Elétrica', 'color': 'red', 'PL': '6950.93 BI', 'symbol': 'side', 'PM': '0.0', 'gain': '0%', 'CMP': 'YoY'}, {'tick': 'TASA', 'nome': 'TAURUS ARMAS S.A.', 'sector': 'Industria', 'color': 'orange', 'PL': '1083.62 BI', 'symbol': 'side', 'PM': '0.0', 'gain': '0%', 'CMP': 'YoY'}, {'tick': 'TCSA', 'nome': 'TECNISA S.A.', 'sector': 'Construção Civil', 'color': 'red', 'PL': '575.51 BI', 'symbol': 'side', 'PM': '0.0', 'gain': '0%', 'CMP': 'YoY'}, {'tick': 'TECN', 'nome': 'TECHNOS S.A.', 'sector': 'Comércio', 'color': 'green', 'PL': '342.79 BI', 'symbol': 'side', 'PM': '0.0', 'gain': '0%', 'CMP': 'YoY'}, {'tick': 'TEKA', 'nome': 'TEKA-TECELAGEM KUEHNRICH S.A. - EM RECUPERAÇÃO JUDICIAL', 'sector': 'Têxtil e Vestuário', 'color': 'red', 'PL': '-1881.15 BI', 'symbol': 'side', 'PM': '0.0', 'gain': '0%', 'CMP': 'YoY'}, {'tick': 'TELB', 'nome': 'TELEC BRASILEIRAS S.A. TELEBRAS', 'sector': 'Telecomunicação', 'color': 'red', 'PL': '1657.47 BI', 'symbol': 'side', 'PM': '0.0', 'gain': '0%', 'CMP': 'YoY'}, {'tick': 'TEND', 'nome': 'CONSTRUTORA TENDA S.A.', 'sector': 'Construção Civil', 'color': 'red', 'PL': '843.68 BI', 'symbol': 'side', 'PM': '0.0', 'gain': '0%', 'CMP': 'YoY'}, {'tick': 'TFCO', 'nome': 'TRACK & FIELD CO S.A.', 'sector': 'Têxtil e Vestuário', 'color': 'orange', 'PL': '317.94 BI', 'symbol': 'side', 'PM': '0.0', 'gain': '0%', 'CMP': 'YoY'}, {'tick': 'TGMA', 'nome': 'TEGMA GESTAO LOGISTICA S.A.', 'sector': 'Logistica', 'color': 'green', 'PL': '736.38 BI', 'symbol': 'side', 'PM': '0.0', 'gain': '0%', 'CMP': 'YoY'}, {'tick': 'TIMS', 'nome': 'TIM S.A.', 'sector': 'Telecomunicação', 'color': 'green', 'PL': '25295.79 BI', 'symbol': 'side', 'PM': '0.0', 'gain': '0%', 'CMP': 'YoY'}, {'tick': 'TKNO', 'nome': 'TEKNO S.A. - INDUSTRIA E COMERCIO', 'sector': 'Metalurgia e Siderurgia', 'color': 'red', 'PL': '264.67 BI', 'symbol': 'side', 'PM': '0.0', 'gain': '0%', 'CMP': 'YoY'}, {'tick': 'TOTS', 'nome': 'TOTVS S.A.', 'sector': 'Telecomunicação', 'color': 'red', 'PL': '4441.64 BI', 'symbol': 'side', 'PM': '0.0', 'gain': '0%', 'CMP': 'YoY'}, {'tick': 'TPIS', 'nome': 'TPI - TRIUNFO PARTICIP. E INVEST. S.A.', 'sector': 'Logistica', 'color': 'red', 'PL': '926.52 BI', 'symbol': 'side', 'PM': '0.0', 'gain': '0%', 'CMP': 'YoY'}, {'tick': 'TRIS', 'nome': 'TRISUL S.A.', 'sector': 'Construção Civil', 'color': 'orange', 'PL': '1250.42 BI', 'symbol': 'side', 'PM': '0.0', 'gain': '0%', 'CMP': 'YoY'}, {'tick': 'TRPL', 'nome': 'CTEEP - CIA TRANSMISSÃO ENERGIA ELÉTRICA PAULISTA', 'sector': 'Energia Elétrica', 'color': 'red', 'PL': '16073.67 BI', 'symbol': 'side', 'PM': '0.0', 'gain': '0%', 'CMP': 'YoY'}, {'tick': 'TUPY', 'nome': 'TUPY S.A.', 'sector': 'Metalurgia e Siderurgia', 'color': 'red', 'PL': '3107.29 BI', 'symbol': 'side', 'PM': '0.0', 'gain': '0%', 'CMP': 'YoY'}, {'tick': 'TXRX', 'nome': 'TEXTIL RENAUXVIEW S.A.', 'sector': 'Têxtil e Vestuário', 'color': 'red', 'PL': '-329.83 BI', 'symbol': 'side', 'PM': '0.0', 'gain': '0%', 'CMP': 'YoY'}, {'tick': 'UCAS', 'nome': 'UNICASA INDÚSTRIA DE MÓVEIS S.A.', 'sector': 'Construção Civil', 'color': 'red', 'PL': '196.06 BI', 'symbol': 'side', 'PM': '0.0', 'gain': '0%', 'CMP': 'YoY'}, {'tick': 'UGPA', 'nome': 'ULTRAPAR PARTICIPACOES S.A.', 'sector': 'Petróleo e Gás', 'color': 'orange', 'PL': '10911.41 BI', 'symbol': 'side', 'PM': '0.0', 'gain': '0%', 'CMP': 'YoY'}, {'tick': 'UNIP', 'nome': 'UNIPAR CARBOCLORO S.A.', 'sector': 'Petroquímicos e Borracha', 'color': 'red', 'PL': '2818.63 BI', 'symbol': 'side', 'PM': '0.0', 'gain': '0%', 'CMP': 'YoY'}, {'tick': 'USIM', 'nome': 'USINAS SID DE MINAS GERAIS S.A.-USIMINAS', 'sector': 'Metalurgia e Siderurgia', 'color': 'red', 'PL': '24292.18 BI', 'symbol': 'side', 'PM': '0.0', 'gain': '0%', 'CMP': 'YoY'}, {'tick': 'VALE', 'nome': 'VALE S.A.', 'sector': 'Extração Mineral', 'color': 'green', 'PL': '179538.00 BI', 'symbol': 'side', 'PM': '0.0', 'gain': '0%', 'CMP': 'YoY'}, {'tick': 'VAMO', 'nome': 'VAMOS LOCAÇÃO DE CAMINHÕES, MÁQUINAS E EQUIPAMENTOS S.A.', 'sector': 'Logistica', 'color': 'orange', 'PL': '3655.76 BI', 'symbol': 'side', 'PM': '0.0', 'gain': '0%', 'CMP': 'YoY'}, {'tick': 'VBBR', 'nome': 'VIBRA ENERGIA S/A', 'sector': 'Comércio', 'color': 'red', 'PL': '12636.00 BI', 'symbol': 'side', 'PM': '0.0', 'gain': '0%', 'CMP': 'YoY'}, {'tick': 'VIIA', 'nome': 'VIA S.A.', 'sector': 'Comércio', 'color': 'red', 'PL': '5505.00 BI', 'symbol': 'side', 'PM': '0.0', 'gain': '0%', 'CMP': 'YoY'}, {'tick': 'VIVA', 'nome': 'VIVARA PARTICIPAÇÕES S.A.', 'sector': 'Comércio', 'color': 'red', 'PL': '1584369.66 BI', 'symbol': 'side', 'PM': '0.0', 'gain': '0%', 'CMP': 'YoY'}, {'tick': 'VIVR', 'nome': 'VIVER INCORPORADORA E CONSTRUTORA S.A.', 'sector': 'Construção Civil', 'color': 'red', 'PL': '-174.61 BI', 'symbol': 'side', 'PM': '0.0', 'gain': '0%', 'CMP': 'YoY'}, {'tick': 'VIVT', 'nome': 'TELEFÔNICA BRASIL S.A', 'sector': 'Telecomunicação', 'color': 'red', 'PL': '69092.66 BI', 'symbol': 'side', 'PM': '0.0', 'gain': '0%', 'CMP': 'YoY'}, {'tick': 'VLID', 'nome': 'VALID SOLUÇÕES S.A.', 'sector': 'Gráficas e Editoras', 'color': 'orange', 'PL': '1273.44 BI', 'symbol': 'side', 'PM': '0.0', 'gain': '0%', 'CMP': 'YoY'}, {'tick': 'VSPT', 'nome': 'FERROVIA CENTRO-ATLANTICA S.A.', 'sector': 'Logistica', 'color': 'red', 'PL': '4154.75 BI', 'symbol': 'side', 'PM': '0.0', 'gain': '0%', 'CMP': 'YoY'}, {'tick': 'VULC', 'nome': 'VULCABRAS S.A.', 'sector': 'Têxtil e Vestuário', 'color': 'red', 'PL': '1610.78 BI', 'symbol': 'side', 'PM': '0.0', 'gain': '0%', 'CMP': 'YoY'}, {'tick': 'WEGE', 'nome': 'WEG S.A.', 'sector': 'Industria', 'color': 'red', 'PL': '13894.45 BI', 'symbol': 'side', 'PM': '0.0', 'gain': '0%', 'CMP': 'YoY'}, {'tick': 'WEST', 'nome': 'WESTWING COMÉRCIO VAREJISTA S.A.', 'sector': 'Comércio', 'color': 'orange', 'PL': '351.39 BI', 'symbol': 'side', 'PM': '0.0', 'gain': '0%', 'CMP': 'YoY'}, {'tick': 'WHRL', 'nome': 'WHIRLPOOL S.A.', 'sector': 'Industria', 'color': 'orange', 'PL': '2443.41 BI', 'symbol': 'side', 'PM': '0.0', 'gain': '0%', 'CMP': 'YoY'}, {'tick': 'WIZS', 'nome': 'WIZ CO PARTICIPAÇÕES E CORRETAGEM DE SEGUROS S.A.', 'sector': 'Seguradoras e Corretoras', 'color': 'orange', 'PL': '435.29 BI', 'symbol': 'side', 'PM': '0.0', 'gain': '0%', 'CMP': 'YoY'}, {'tick': 'WLMM', 'nome': 'WLM PART. E COMÉRCIO DE MÁQUINAS E VEÍCULOS S.A.', 'sector': 'Industria', 'color': 'green', 'PL': '605.08 BI', 'symbol': 'side', 'PM': '0.0', 'gain': '0%', 'CMP': 'YoY'}, {'tick': 'YDUQ', 'nome': 'YDUQS PARTICIPACOES S.A.', 'sector': 'Educação', 'color': 'orange', 'PL': '3024.09 BI', 'symbol': 'side', 'PM': '0.0', 'gain': '0%', 'CMP': 'YoY'}]\n"
     ]
    }
   ],
   "source": [
    "print(dados)"
   ]
  },
  {
   "cell_type": "code",
   "execution_count": null,
   "id": "d1f490a9",
   "metadata": {},
   "outputs": [],
   "source": []
  }
 ],
 "metadata": {
  "kernelspec": {
   "display_name": "Python 3 (ipykernel)",
   "language": "python",
   "name": "python3"
  },
  "language_info": {
   "codemirror_mode": {
    "name": "ipython",
    "version": 3
   },
   "file_extension": ".py",
   "mimetype": "text/x-python",
   "name": "python",
   "nbconvert_exporter": "python",
   "pygments_lexer": "ipython3",
   "version": "3.9.13"
  }
 },
 "nbformat": 4,
 "nbformat_minor": 5
}
